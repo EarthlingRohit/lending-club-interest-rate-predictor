{
 "cells": [
  {
   "cell_type": "markdown",
   "id": "f1b900df",
   "metadata": {},
   "source": [
    "# Lending Club - Interest Rate Predictor\n",
    "\n",
    "## Current Notebook: 1_Preprocessing"
   ]
  },
  {
   "cell_type": "markdown",
   "id": "0a67c572",
   "metadata": {},
   "source": [
    "---\n",
    "**Author:** Rohit Singh\n",
    "<br/>\n",
    "[GitHub](https://github.com/rohitsinghxyz) | [LinkedIn](https://www.linkedin.com/in/rohitsinghxyz)\n",
    "<br/>\n",
    "<br/>\n",
    "**Project:** Lending Club - Interest Rate Predictor\n",
    "<br/>\n",
    "<br/>\n",
    "**Previous Notebook:** This is the first notebook.\n",
    "<br/>\n",
    "**Current Notebook:** 1_Preprocessing\n",
    "<br/>\n",
    "**Next Notebook:** 2_Exploratory_Data_Analysis"
   ]
  },
  {
   "cell_type": "markdown",
   "id": "c2cfe140",
   "metadata": {},
   "source": [
    "---\n",
    "## Table of Contents\n",
    "\n",
    "[1. Business Question](#1)\n",
    "<br/>\n",
    "[2. Data Acquisition](#2)\n",
    "<br/>\n",
    "[3. Data Preprocessing](#3)\n",
    "<br/>\n",
    "[4. Data Export](#4)"
   ]
  },
  {
   "cell_type": "markdown",
   "id": "43c024e8",
   "metadata": {},
   "source": [
    "---\n",
    "<a id=\"1\"></a>\n",
    "## 1. Business Question"
   ]
  },
  {
   "cell_type": "markdown",
   "id": "fe41a2bf",
   "metadata": {},
   "source": [
    "**Introduction**\n",
    "\n",
    "[Lending Club](https://www.lendingclub.com/) was a peer-to-peer (P2P) lending company headquartered in San Francisco, California. It was founded in 2006 and continued to operate as a peer-to-peer lending company till 2020. After that, it switched focus to institutional investors.\n",
    "\n",
    "As a P2P company, it enabled borrowers to access unsecured loans between \\\\$1,000 to \\\\$40,000 for a period of three or five years. Investors could browse through loan listings on the Lending Club website and select loans they wanted to invest in based on the information provided about the borrower. Lending Club made money by charging borrowers an origination fee and investors a service fee. According to Lending Club, ~\\\\$16 billion in loans had been originated through its platform up to 31 December 2015.\n",
    "\n",
    "The dataset has been sourced from Lending Club website. The dataset contains information about accepted loans from 2007 to 2018. The dataset has ~2.26 million rows and 151 columns."
   ]
  },
  {
   "cell_type": "markdown",
   "id": "a3a23408",
   "metadata": {},
   "source": [
    "**Objective**\n",
    "\n",
    "The objective of this project is to predict the interest rate of a loan using machine learning models applied on information provided by the borrower."
   ]
  },
  {
   "cell_type": "markdown",
   "id": "83a2badf",
   "metadata": {},
   "source": [
    "---\n",
    "<a id=\"2\"></a>\n",
    "## 2. Data Acquisition"
   ]
  },
  {
   "cell_type": "code",
   "execution_count": 1,
   "id": "552aa447",
   "metadata": {
    "ExecuteTime": {
     "end_time": "2022-09-02T04:22:27.763918Z",
     "start_time": "2022-09-02T04:22:26.323618Z"
    }
   },
   "outputs": [],
   "source": [
    "# Import packages\n",
    "import numpy as np\n",
    "import pandas as pd\n",
    "import joblib"
   ]
  },
  {
   "cell_type": "code",
   "execution_count": 2,
   "id": "57e94519",
   "metadata": {
    "ExecuteTime": {
     "end_time": "2022-09-02T04:23:45.461815Z",
     "start_time": "2022-09-02T04:22:27.766146Z"
    }
   },
   "outputs": [
    {
     "name": "stdout",
     "output_type": "stream",
     "text": [
      "CPU times: user 57.4 s, sys: 15.2 s, total: 1min 12s\n",
      "Wall time: 1min 17s\n"
     ]
    }
   ],
   "source": [
    "%%time\n",
    "# Run time ~ 1 min 10 sec\n",
    "\n",
    "# Read CSV file\n",
    "dfa_raw = pd.read_csv('data/accepted_2007_to_2018Q4.csv', low_memory=False)"
   ]
  },
  {
   "cell_type": "code",
   "execution_count": 3,
   "id": "5e3af897",
   "metadata": {
    "ExecuteTime": {
     "end_time": "2022-09-02T04:23:45.477140Z",
     "start_time": "2022-09-02T04:23:45.468311Z"
    }
   },
   "outputs": [
    {
     "name": "stdout",
     "output_type": "stream",
     "text": [
      "There are 2260701 rows and 151 columns.\n"
     ]
    }
   ],
   "source": [
    "# Check data frame shape\n",
    "print(f'There are {dfa_raw.shape[0]} rows and {dfa_raw.shape[1]} columns.')"
   ]
  },
  {
   "cell_type": "code",
   "execution_count": 4,
   "id": "b5b9b139",
   "metadata": {
    "ExecuteTime": {
     "end_time": "2022-09-02T04:23:45.482073Z",
     "start_time": "2022-09-02T04:23:45.480223Z"
    }
   },
   "outputs": [],
   "source": [
    "##### NOT RECOMMENDED #####\n",
    "\n",
    "# Uncomment below code lines if you want to see all ~2.26 million rows and 151 columns in this notebook\n",
    "# Please note that this may slow down the notebook\n",
    "\n",
    "# pd.set_option('display.max_columns', None)\n",
    "# pd.set_option('display.max_rows', None)"
   ]
  },
  {
   "cell_type": "markdown",
   "id": "056a6590",
   "metadata": {},
   "source": [
    "Let us take a look at the Data Dictionary provided by Lending Club for this data set."
   ]
  },
  {
   "cell_type": "code",
   "execution_count": 5,
   "id": "d447d09e",
   "metadata": {
    "ExecuteTime": {
     "end_time": "2022-09-02T04:23:45.911536Z",
     "start_time": "2022-09-02T04:23:45.484341Z"
    }
   },
   "outputs": [
    {
     "data": {
      "text/html": [
       "<div>\n",
       "<style scoped>\n",
       "    .dataframe tbody tr th:only-of-type {\n",
       "        vertical-align: middle;\n",
       "    }\n",
       "\n",
       "    .dataframe tbody tr th {\n",
       "        vertical-align: top;\n",
       "    }\n",
       "\n",
       "    .dataframe thead th {\n",
       "        text-align: right;\n",
       "    }\n",
       "</style>\n",
       "<table border=\"1\" class=\"dataframe\">\n",
       "  <thead>\n",
       "    <tr style=\"text-align: right;\">\n",
       "      <th></th>\n",
       "      <th>LoanStatNew</th>\n",
       "      <th>Description</th>\n",
       "    </tr>\n",
       "  </thead>\n",
       "  <tbody>\n",
       "    <tr>\n",
       "      <th>0</th>\n",
       "      <td>acc_now_delinq</td>\n",
       "      <td>The number of accounts on which the borrower i...</td>\n",
       "    </tr>\n",
       "    <tr>\n",
       "      <th>1</th>\n",
       "      <td>acc_open_past_24mths</td>\n",
       "      <td>Number of trades opened in past 24 months.</td>\n",
       "    </tr>\n",
       "    <tr>\n",
       "      <th>2</th>\n",
       "      <td>addr_state</td>\n",
       "      <td>The state provided by the borrower in the loan...</td>\n",
       "    </tr>\n",
       "    <tr>\n",
       "      <th>3</th>\n",
       "      <td>all_util</td>\n",
       "      <td>Balance to credit limit on all trades</td>\n",
       "    </tr>\n",
       "    <tr>\n",
       "      <th>4</th>\n",
       "      <td>annual_inc</td>\n",
       "      <td>The self-reported annual income provided by th...</td>\n",
       "    </tr>\n",
       "    <tr>\n",
       "      <th>...</th>\n",
       "      <td>...</td>\n",
       "      <td>...</td>\n",
       "    </tr>\n",
       "    <tr>\n",
       "      <th>148</th>\n",
       "      <td>settlement_amount</td>\n",
       "      <td>The loan amount that the borrower has agreed t...</td>\n",
       "    </tr>\n",
       "    <tr>\n",
       "      <th>149</th>\n",
       "      <td>settlement_percentage</td>\n",
       "      <td>The settlement amount as a percentage of the p...</td>\n",
       "    </tr>\n",
       "    <tr>\n",
       "      <th>150</th>\n",
       "      <td>settlement_term</td>\n",
       "      <td>The number of months that the borrower will be...</td>\n",
       "    </tr>\n",
       "    <tr>\n",
       "      <th>151</th>\n",
       "      <td>NaN</td>\n",
       "      <td>NaN</td>\n",
       "    </tr>\n",
       "    <tr>\n",
       "      <th>152</th>\n",
       "      <td>NaN</td>\n",
       "      <td>* Employer Title replaces Employer Name for al...</td>\n",
       "    </tr>\n",
       "  </tbody>\n",
       "</table>\n",
       "<p>153 rows × 2 columns</p>\n",
       "</div>"
      ],
      "text/plain": [
       "               LoanStatNew                                        Description\n",
       "0           acc_now_delinq  The number of accounts on which the borrower i...\n",
       "1     acc_open_past_24mths         Number of trades opened in past 24 months.\n",
       "2               addr_state  The state provided by the borrower in the loan...\n",
       "3                 all_util              Balance to credit limit on all trades\n",
       "4               annual_inc  The self-reported annual income provided by th...\n",
       "..                     ...                                                ...\n",
       "148      settlement_amount  The loan amount that the borrower has agreed t...\n",
       "149  settlement_percentage  The settlement amount as a percentage of the p...\n",
       "150        settlement_term  The number of months that the borrower will be...\n",
       "151                    NaN                                                NaN\n",
       "152                    NaN  * Employer Title replaces Employer Name for al...\n",
       "\n",
       "[153 rows x 2 columns]"
      ]
     },
     "execution_count": 5,
     "metadata": {},
     "output_type": "execute_result"
    }
   ],
   "source": [
    "# Read Data Dictionary Excel file\n",
    "pd.read_excel('data/LCDataDictionary.xlsx')"
   ]
  },
  {
   "cell_type": "code",
   "execution_count": 6,
   "id": "7a8b4472",
   "metadata": {
    "ExecuteTime": {
     "end_time": "2022-09-02T04:23:46.020270Z",
     "start_time": "2022-09-02T04:23:45.913246Z"
    },
    "scrolled": true
   },
   "outputs": [
    {
     "data": {
      "text/html": [
       "<div>\n",
       "<style scoped>\n",
       "    .dataframe tbody tr th:only-of-type {\n",
       "        vertical-align: middle;\n",
       "    }\n",
       "\n",
       "    .dataframe tbody tr th {\n",
       "        vertical-align: top;\n",
       "    }\n",
       "\n",
       "    .dataframe thead th {\n",
       "        text-align: right;\n",
       "    }\n",
       "</style>\n",
       "<table border=\"1\" class=\"dataframe\">\n",
       "  <thead>\n",
       "    <tr style=\"text-align: right;\">\n",
       "      <th></th>\n",
       "      <th>id</th>\n",
       "      <th>member_id</th>\n",
       "      <th>loan_amnt</th>\n",
       "      <th>funded_amnt</th>\n",
       "      <th>funded_amnt_inv</th>\n",
       "      <th>term</th>\n",
       "      <th>int_rate</th>\n",
       "      <th>installment</th>\n",
       "      <th>grade</th>\n",
       "      <th>sub_grade</th>\n",
       "      <th>...</th>\n",
       "      <th>hardship_payoff_balance_amount</th>\n",
       "      <th>hardship_last_payment_amount</th>\n",
       "      <th>disbursement_method</th>\n",
       "      <th>debt_settlement_flag</th>\n",
       "      <th>debt_settlement_flag_date</th>\n",
       "      <th>settlement_status</th>\n",
       "      <th>settlement_date</th>\n",
       "      <th>settlement_amount</th>\n",
       "      <th>settlement_percentage</th>\n",
       "      <th>settlement_term</th>\n",
       "    </tr>\n",
       "  </thead>\n",
       "  <tbody>\n",
       "    <tr>\n",
       "      <th>1937688</th>\n",
       "      <td>1101291</td>\n",
       "      <td>NaN</td>\n",
       "      <td>27300.0</td>\n",
       "      <td>27300.0</td>\n",
       "      <td>27250.0</td>\n",
       "      <td>60 months</td>\n",
       "      <td>12.42</td>\n",
       "      <td>613.09</td>\n",
       "      <td>B</td>\n",
       "      <td>B4</td>\n",
       "      <td>...</td>\n",
       "      <td>NaN</td>\n",
       "      <td>NaN</td>\n",
       "      <td>Cash</td>\n",
       "      <td>N</td>\n",
       "      <td>NaN</td>\n",
       "      <td>NaN</td>\n",
       "      <td>NaN</td>\n",
       "      <td>NaN</td>\n",
       "      <td>NaN</td>\n",
       "      <td>NaN</td>\n",
       "    </tr>\n",
       "    <tr>\n",
       "      <th>1155073</th>\n",
       "      <td>32309489</td>\n",
       "      <td>NaN</td>\n",
       "      <td>6750.0</td>\n",
       "      <td>6750.0</td>\n",
       "      <td>6750.0</td>\n",
       "      <td>36 months</td>\n",
       "      <td>20.99</td>\n",
       "      <td>254.28</td>\n",
       "      <td>E</td>\n",
       "      <td>E4</td>\n",
       "      <td>...</td>\n",
       "      <td>NaN</td>\n",
       "      <td>NaN</td>\n",
       "      <td>Cash</td>\n",
       "      <td>N</td>\n",
       "      <td>NaN</td>\n",
       "      <td>NaN</td>\n",
       "      <td>NaN</td>\n",
       "      <td>NaN</td>\n",
       "      <td>NaN</td>\n",
       "      <td>NaN</td>\n",
       "    </tr>\n",
       "    <tr>\n",
       "      <th>140634</th>\n",
       "      <td>58574296</td>\n",
       "      <td>NaN</td>\n",
       "      <td>6000.0</td>\n",
       "      <td>6000.0</td>\n",
       "      <td>6000.0</td>\n",
       "      <td>36 months</td>\n",
       "      <td>8.18</td>\n",
       "      <td>188.52</td>\n",
       "      <td>B</td>\n",
       "      <td>B1</td>\n",
       "      <td>...</td>\n",
       "      <td>NaN</td>\n",
       "      <td>NaN</td>\n",
       "      <td>Cash</td>\n",
       "      <td>N</td>\n",
       "      <td>NaN</td>\n",
       "      <td>NaN</td>\n",
       "      <td>NaN</td>\n",
       "      <td>NaN</td>\n",
       "      <td>NaN</td>\n",
       "      <td>NaN</td>\n",
       "    </tr>\n",
       "    <tr>\n",
       "      <th>581572</th>\n",
       "      <td>113661195</td>\n",
       "      <td>NaN</td>\n",
       "      <td>24000.0</td>\n",
       "      <td>24000.0</td>\n",
       "      <td>24000.0</td>\n",
       "      <td>36 months</td>\n",
       "      <td>9.93</td>\n",
       "      <td>773.63</td>\n",
       "      <td>B</td>\n",
       "      <td>B2</td>\n",
       "      <td>...</td>\n",
       "      <td>NaN</td>\n",
       "      <td>NaN</td>\n",
       "      <td>Cash</td>\n",
       "      <td>N</td>\n",
       "      <td>NaN</td>\n",
       "      <td>NaN</td>\n",
       "      <td>NaN</td>\n",
       "      <td>NaN</td>\n",
       "      <td>NaN</td>\n",
       "      <td>NaN</td>\n",
       "    </tr>\n",
       "    <tr>\n",
       "      <th>1505791</th>\n",
       "      <td>134976855</td>\n",
       "      <td>NaN</td>\n",
       "      <td>15000.0</td>\n",
       "      <td>15000.0</td>\n",
       "      <td>15000.0</td>\n",
       "      <td>60 months</td>\n",
       "      <td>9.58</td>\n",
       "      <td>315.62</td>\n",
       "      <td>B</td>\n",
       "      <td>B1</td>\n",
       "      <td>...</td>\n",
       "      <td>NaN</td>\n",
       "      <td>NaN</td>\n",
       "      <td>Cash</td>\n",
       "      <td>N</td>\n",
       "      <td>NaN</td>\n",
       "      <td>NaN</td>\n",
       "      <td>NaN</td>\n",
       "      <td>NaN</td>\n",
       "      <td>NaN</td>\n",
       "      <td>NaN</td>\n",
       "    </tr>\n",
       "    <tr>\n",
       "      <th>1171746</th>\n",
       "      <td>30215615</td>\n",
       "      <td>NaN</td>\n",
       "      <td>24000.0</td>\n",
       "      <td>24000.0</td>\n",
       "      <td>24000.0</td>\n",
       "      <td>36 months</td>\n",
       "      <td>12.99</td>\n",
       "      <td>808.54</td>\n",
       "      <td>C</td>\n",
       "      <td>C1</td>\n",
       "      <td>...</td>\n",
       "      <td>NaN</td>\n",
       "      <td>NaN</td>\n",
       "      <td>Cash</td>\n",
       "      <td>N</td>\n",
       "      <td>NaN</td>\n",
       "      <td>NaN</td>\n",
       "      <td>NaN</td>\n",
       "      <td>NaN</td>\n",
       "      <td>NaN</td>\n",
       "      <td>NaN</td>\n",
       "    </tr>\n",
       "    <tr>\n",
       "      <th>2069652</th>\n",
       "      <td>125225168</td>\n",
       "      <td>NaN</td>\n",
       "      <td>30000.0</td>\n",
       "      <td>30000.0</td>\n",
       "      <td>30000.0</td>\n",
       "      <td>60 months</td>\n",
       "      <td>26.30</td>\n",
       "      <td>903.55</td>\n",
       "      <td>E</td>\n",
       "      <td>E5</td>\n",
       "      <td>...</td>\n",
       "      <td>NaN</td>\n",
       "      <td>NaN</td>\n",
       "      <td>Cash</td>\n",
       "      <td>N</td>\n",
       "      <td>NaN</td>\n",
       "      <td>NaN</td>\n",
       "      <td>NaN</td>\n",
       "      <td>NaN</td>\n",
       "      <td>NaN</td>\n",
       "      <td>NaN</td>\n",
       "    </tr>\n",
       "    <tr>\n",
       "      <th>172927</th>\n",
       "      <td>58000651</td>\n",
       "      <td>NaN</td>\n",
       "      <td>19200.0</td>\n",
       "      <td>19200.0</td>\n",
       "      <td>19200.0</td>\n",
       "      <td>36 months</td>\n",
       "      <td>14.65</td>\n",
       "      <td>662.29</td>\n",
       "      <td>C</td>\n",
       "      <td>C5</td>\n",
       "      <td>...</td>\n",
       "      <td>NaN</td>\n",
       "      <td>NaN</td>\n",
       "      <td>Cash</td>\n",
       "      <td>N</td>\n",
       "      <td>NaN</td>\n",
       "      <td>NaN</td>\n",
       "      <td>NaN</td>\n",
       "      <td>NaN</td>\n",
       "      <td>NaN</td>\n",
       "      <td>NaN</td>\n",
       "    </tr>\n",
       "    <tr>\n",
       "      <th>766928</th>\n",
       "      <td>140442970</td>\n",
       "      <td>NaN</td>\n",
       "      <td>16800.0</td>\n",
       "      <td>16800.0</td>\n",
       "      <td>16800.0</td>\n",
       "      <td>36 months</td>\n",
       "      <td>6.11</td>\n",
       "      <td>511.93</td>\n",
       "      <td>A</td>\n",
       "      <td>A1</td>\n",
       "      <td>...</td>\n",
       "      <td>NaN</td>\n",
       "      <td>NaN</td>\n",
       "      <td>Cash</td>\n",
       "      <td>N</td>\n",
       "      <td>NaN</td>\n",
       "      <td>NaN</td>\n",
       "      <td>NaN</td>\n",
       "      <td>NaN</td>\n",
       "      <td>NaN</td>\n",
       "      <td>NaN</td>\n",
       "    </tr>\n",
       "    <tr>\n",
       "      <th>633954</th>\n",
       "      <td>112873727</td>\n",
       "      <td>NaN</td>\n",
       "      <td>33625.0</td>\n",
       "      <td>33625.0</td>\n",
       "      <td>33625.0</td>\n",
       "      <td>36 months</td>\n",
       "      <td>16.02</td>\n",
       "      <td>1182.49</td>\n",
       "      <td>C</td>\n",
       "      <td>C5</td>\n",
       "      <td>...</td>\n",
       "      <td>NaN</td>\n",
       "      <td>NaN</td>\n",
       "      <td>Cash</td>\n",
       "      <td>N</td>\n",
       "      <td>NaN</td>\n",
       "      <td>NaN</td>\n",
       "      <td>NaN</td>\n",
       "      <td>NaN</td>\n",
       "      <td>NaN</td>\n",
       "      <td>NaN</td>\n",
       "    </tr>\n",
       "  </tbody>\n",
       "</table>\n",
       "<p>10 rows × 151 columns</p>\n",
       "</div>"
      ],
      "text/plain": [
       "                id  member_id  loan_amnt  funded_amnt  funded_amnt_inv  \\\n",
       "1937688    1101291        NaN    27300.0      27300.0          27250.0   \n",
       "1155073   32309489        NaN     6750.0       6750.0           6750.0   \n",
       "140634    58574296        NaN     6000.0       6000.0           6000.0   \n",
       "581572   113661195        NaN    24000.0      24000.0          24000.0   \n",
       "1505791  134976855        NaN    15000.0      15000.0          15000.0   \n",
       "1171746   30215615        NaN    24000.0      24000.0          24000.0   \n",
       "2069652  125225168        NaN    30000.0      30000.0          30000.0   \n",
       "172927    58000651        NaN    19200.0      19200.0          19200.0   \n",
       "766928   140442970        NaN    16800.0      16800.0          16800.0   \n",
       "633954   112873727        NaN    33625.0      33625.0          33625.0   \n",
       "\n",
       "               term  int_rate  installment grade sub_grade  ...  \\\n",
       "1937688   60 months     12.42       613.09     B        B4  ...   \n",
       "1155073   36 months     20.99       254.28     E        E4  ...   \n",
       "140634    36 months      8.18       188.52     B        B1  ...   \n",
       "581572    36 months      9.93       773.63     B        B2  ...   \n",
       "1505791   60 months      9.58       315.62     B        B1  ...   \n",
       "1171746   36 months     12.99       808.54     C        C1  ...   \n",
       "2069652   60 months     26.30       903.55     E        E5  ...   \n",
       "172927    36 months     14.65       662.29     C        C5  ...   \n",
       "766928    36 months      6.11       511.93     A        A1  ...   \n",
       "633954    36 months     16.02      1182.49     C        C5  ...   \n",
       "\n",
       "        hardship_payoff_balance_amount hardship_last_payment_amount  \\\n",
       "1937688                            NaN                          NaN   \n",
       "1155073                            NaN                          NaN   \n",
       "140634                             NaN                          NaN   \n",
       "581572                             NaN                          NaN   \n",
       "1505791                            NaN                          NaN   \n",
       "1171746                            NaN                          NaN   \n",
       "2069652                            NaN                          NaN   \n",
       "172927                             NaN                          NaN   \n",
       "766928                             NaN                          NaN   \n",
       "633954                             NaN                          NaN   \n",
       "\n",
       "        disbursement_method  debt_settlement_flag debt_settlement_flag_date  \\\n",
       "1937688                Cash                     N                       NaN   \n",
       "1155073                Cash                     N                       NaN   \n",
       "140634                 Cash                     N                       NaN   \n",
       "581572                 Cash                     N                       NaN   \n",
       "1505791                Cash                     N                       NaN   \n",
       "1171746                Cash                     N                       NaN   \n",
       "2069652                Cash                     N                       NaN   \n",
       "172927                 Cash                     N                       NaN   \n",
       "766928                 Cash                     N                       NaN   \n",
       "633954                 Cash                     N                       NaN   \n",
       "\n",
       "        settlement_status settlement_date settlement_amount  \\\n",
       "1937688               NaN             NaN               NaN   \n",
       "1155073               NaN             NaN               NaN   \n",
       "140634                NaN             NaN               NaN   \n",
       "581572                NaN             NaN               NaN   \n",
       "1505791               NaN             NaN               NaN   \n",
       "1171746               NaN             NaN               NaN   \n",
       "2069652               NaN             NaN               NaN   \n",
       "172927                NaN             NaN               NaN   \n",
       "766928                NaN             NaN               NaN   \n",
       "633954                NaN             NaN               NaN   \n",
       "\n",
       "        settlement_percentage settlement_term  \n",
       "1937688                   NaN             NaN  \n",
       "1155073                   NaN             NaN  \n",
       "140634                    NaN             NaN  \n",
       "581572                    NaN             NaN  \n",
       "1505791                   NaN             NaN  \n",
       "1171746                   NaN             NaN  \n",
       "2069652                   NaN             NaN  \n",
       "172927                    NaN             NaN  \n",
       "766928                    NaN             NaN  \n",
       "633954                    NaN             NaN  \n",
       "\n",
       "[10 rows x 151 columns]"
      ]
     },
     "execution_count": 6,
     "metadata": {},
     "output_type": "execute_result"
    }
   ],
   "source": [
    "# Check sample\n",
    "dfa_raw.sample(10)"
   ]
  },
  {
   "cell_type": "markdown",
   "id": "1cdef457",
   "metadata": {},
   "source": [
    "The data seems to have loaded correctly.\n",
    "\n",
    "The columns seem to be a mix of numerical and categorical data types. We also notice a lot of null values in the columns. Each row is unique and contains information about a single loan application.\n",
    "\n",
    "We can now begin preprocessing."
   ]
  },
  {
   "cell_type": "markdown",
   "id": "30f6a01c",
   "metadata": {},
   "source": [
    "---\n",
    "<a id=\"3\"></a>\n",
    "## 3. Data Preprocessing"
   ]
  },
  {
   "cell_type": "markdown",
   "id": "3d7fbd0b",
   "metadata": {},
   "source": [
    "Here, we will check for null values, duplicates, and remove unimportant columns."
   ]
  },
  {
   "cell_type": "markdown",
   "id": "63a3fb07",
   "metadata": {},
   "source": [
    "Let us begin by finding null values in our data frame."
   ]
  },
  {
   "cell_type": "code",
   "execution_count": 7,
   "id": "dd71a56f",
   "metadata": {
    "ExecuteTime": {
     "end_time": "2022-09-02T04:23:56.077620Z",
     "start_time": "2022-09-02T04:23:46.021954Z"
    }
   },
   "outputs": [
    {
     "name": "stdout",
     "output_type": "stream",
     "text": [
      "CPU times: user 9.23 s, sys: 796 ms, total: 10 s\n",
      "Wall time: 10.1 s\n"
     ]
    },
    {
     "data": {
      "text/plain": [
       "member_id                                     2260701\n",
       "orig_projected_additional_accrued_interest    2252050\n",
       "hardship_end_date                             2249784\n",
       "hardship_start_date                           2249784\n",
       "hardship_type                                 2249784\n",
       "                                               ...   \n",
       "policy_code                                        33\n",
       "revol_bal                                          33\n",
       "fico_range_high                                    33\n",
       "fico_range_low                                     33\n",
       "id                                                  0\n",
       "Length: 151, dtype: int64"
      ]
     },
     "execution_count": 7,
     "metadata": {},
     "output_type": "execute_result"
    }
   ],
   "source": [
    "%%time\n",
    "# Run time ~ 5 sec\n",
    "\n",
    "# Check for null values\n",
    "dfa_raw.isna().sum().sort_values(ascending=False)"
   ]
  },
  {
   "cell_type": "markdown",
   "id": "e2e3c4ed",
   "metadata": {},
   "source": [
    "There are null values in some columns.\n",
    "\n",
    "We can drop columns where null values >90% as it does not make logical sense to include them in the data frame. We could try to fill those values based on some criteria, but it risks diluting the data."
   ]
  },
  {
   "cell_type": "code",
   "execution_count": 8,
   "id": "0989c281",
   "metadata": {
    "ExecuteTime": {
     "end_time": "2022-09-02T04:24:06.742017Z",
     "start_time": "2022-09-02T04:23:56.079900Z"
    }
   },
   "outputs": [
    {
     "name": "stdout",
     "output_type": "stream",
     "text": [
      "CPU times: user 9.8 s, sys: 776 ms, total: 10.6 s\n",
      "Wall time: 10.7 s\n"
     ]
    }
   ],
   "source": [
    "%%time\n",
    "# Run time ~ 5 sec\n",
    "\n",
    "# Drop columns\n",
    "dfa_raw = dfa_raw.dropna(thresh=len(dfa_raw)*0.9, axis=1)"
   ]
  },
  {
   "cell_type": "code",
   "execution_count": 9,
   "id": "ada29dc2",
   "metadata": {
    "ExecuteTime": {
     "end_time": "2022-09-02T04:24:06.748767Z",
     "start_time": "2022-09-02T04:24:06.744527Z"
    }
   },
   "outputs": [
    {
     "name": "stdout",
     "output_type": "stream",
     "text": [
      "There are 2260701 rows and 92 columns.\n"
     ]
    }
   ],
   "source": [
    "# Check data frame shape\n",
    "print(f'There are {dfa_raw.shape[0]} rows and {dfa_raw.shape[1]} columns.')"
   ]
  },
  {
   "cell_type": "markdown",
   "id": "8e304427",
   "metadata": {},
   "source": [
    "The number of columns has gone down from 151 to 92. That means we had 59 columns with >90% null values. These 59 columns were dropped."
   ]
  },
  {
   "cell_type": "markdown",
   "id": "ad3b10b6",
   "metadata": {},
   "source": [
    "Let us now check for duplicates in the data frame."
   ]
  },
  {
   "cell_type": "code",
   "execution_count": 10,
   "id": "96890e0b",
   "metadata": {
    "ExecuteTime": {
     "end_time": "2022-09-02T04:24:24.462247Z",
     "start_time": "2022-09-02T04:24:06.756800Z"
    }
   },
   "outputs": [
    {
     "name": "stdout",
     "output_type": "stream",
     "text": [
      "CPU times: user 14.3 s, sys: 3.33 s, total: 17.6 s\n",
      "Wall time: 17.7 s\n"
     ]
    },
    {
     "data": {
      "text/plain": [
       "0"
      ]
     },
     "execution_count": 10,
     "metadata": {},
     "output_type": "execute_result"
    }
   ],
   "source": [
    "%%time\n",
    "# Run time ~ 15 sec\n",
    "\n",
    "# Check for duplicates\n",
    "dfa_raw.duplicated().sum()"
   ]
  },
  {
   "cell_type": "markdown",
   "id": "96ec73e3",
   "metadata": {},
   "source": [
    "There are no more duplicates in the data frame."
   ]
  },
  {
   "cell_type": "markdown",
   "id": "f12c40d0",
   "metadata": {},
   "source": [
    "We can now look at the columns and decide which ones to keep/remove.\n",
    "\n",
    "As per our business question, our target column is `int_rate`.\n",
    "\n",
    "With that in mind and based on research and overall understanding of the lending industry, we decided to shortlist some important and relevant columns for further analysis. All the other columns will be dropped from the data frame.\n",
    "\n",
    "The dropped columns include those with:\n",
    "- Information/data that would have occurred 'after' the loan application was processed.\n",
    "- Information/data regarding internal system management/administration of Lending Club.\n",
    "\n",
    "These were deemed to be irrelevant to our business question.\n",
    "\n",
    "The following columns have been shortlisted and will be retained:"
   ]
  },
  {
   "cell_type": "markdown",
   "id": "d3082504",
   "metadata": {},
   "source": [
    "|Column Name|Description|\n",
    "|-|-|\n",
    "|int_rate|Interest Rate on the loan.|\n",
    "|application_type|Indicates whether the loan is an Individual application or a Joint application with two co-borrowers.|\n",
    "|loan_amnt|The listed amount of the loan applied for by the borrower.|\n",
    "|term|The number of payments on the loan. Values are in months and can be either 36 or 60.|\n",
    "|purpose|A category provided by the borrower for the loan request.|\n",
    "|annual_inc|The self-reported annual income provided by the borrower during registration.|\n",
    "|annual_inc_joint|The combined self-reported annual income provided by the co-borrowers during registration.|\n",
    "|verification_status|Indicates if borrower's income was verified by Lending Club, not verified, or if the income source was verified.|\n",
    "|verification_status_joint|Indicates if co-borrowers' joint income was verified by Lending Club, not verified, or if the income source was verified.|\n",
    "|home_ownership|The home ownership status provided by the borrower during registration. Our values are: RENT, OWN, MORTGAGE, OTHER.|\n",
    "|zip_code|The first 3 numbers of the zip code provided by the borrower in the loan application.|\n",
    "|addr_state|The state provided by the borrower in the loan application.|\n",
    "|emp_title|The job title supplied by the borrower when applying for the loan.|\n",
    "|emp_length|Employment length in years. Possible values are between 0 and 10, where 0 means less than one year and 10 means ten or more years.|\n",
    "|dti|A ratio calculated using the borrower’s total monthly debt payments on the total debt obligations, excluding mortgage and the requested Lending Club loan, divided by the borrower’s self-reported monthly income.|\n",
    "|dti_joint|A ratio calculated using the co-borrowers' total monthly payments on the total debt obligations, excluding mortgages and the requested Lending Club loan, divided by the co-borrowers' combined self-reported monthly income.|\n",
    "|fico_range_low|The lower boundary range the borrower’s FICO at loan origination belongs to.|\n",
    "|fico_range_high|The upper boundary range the borrower’s FICO at loan origination belongs to.|\n",
    "|pub_rec|Number of derogatory public records.|\n",
    "|pub_rec_bankruptcies|Number of public record bankruptcies.|\n",
    "|open_acc|The number of open credit lines in the borrower's credit file.|\n",
    "|total_acc|The total number of credit lines currently in the borrower's credit file.|\n",
    "|mort_acc|Number of mortgage accounts.|\n",
    "|num_sats|Number of satisfactory accounts.|\n",
    "|num_bc_sats|Number of satisfactory bankcard accounts.|\n",
    "|tax_liens|Number of tax liens.|\n",
    "|disbursement_method|The method by which the borrower receives their loan. Possible values are: CASH, DIRECT_PAY|"
   ]
  },
  {
   "cell_type": "code",
   "execution_count": 11,
   "id": "ad0cd445",
   "metadata": {
    "ExecuteTime": {
     "end_time": "2022-09-02T04:24:24.469951Z",
     "start_time": "2022-09-02T04:24:24.464436Z"
    }
   },
   "outputs": [],
   "source": [
    "# Store shortlisted columns as a list\n",
    "# We had to drop `annual_inc_joint`, `verification_status_joint`, and `dti_joint` columns (reasons below)\n",
    "cols_of_interest = [\n",
    "    'int_rate',\n",
    "    'application_type',\n",
    "    'loan_amnt',\n",
    "    'term',\n",
    "    'purpose',\n",
    "    'annual_inc',\n",
    "    'verification_status',\n",
    "    'home_ownership',\n",
    "    'zip_code',\n",
    "    'addr_state',\n",
    "    'emp_title',\n",
    "    'emp_length',\n",
    "    'dti',\n",
    "    'fico_range_low',\n",
    "    'fico_range_high',\n",
    "    'pub_rec',\n",
    "    'pub_rec_bankruptcies',\n",
    "    'open_acc',\n",
    "    'total_acc',\n",
    "    'mort_acc',\n",
    "    'num_sats',\n",
    "    'num_bc_sats',\n",
    "    'tax_liens',\n",
    "    'disbursement_method',\n",
    "]"
   ]
  },
  {
   "cell_type": "markdown",
   "id": "2cc88294",
   "metadata": {},
   "source": [
    "While trying to save the shortlisted the `cols_of_interest` list to our data frame `dfa_raw`, we got an error:\n",
    "\n",
    "_KeyError: \"['annual_inc_joint', 'verification_status_joint', 'dti_joint'] not in index\"_\n",
    "\n",
    "This means that the above three columns `annual_inc_joint`, `verification_status_joint`, and `dti_joint` were dropped earlier because they had >90% null values.\n",
    "\n",
    "We will have to drop these columns from our shortlisted `cols_of_interest` list.\n",
    "\n",
    "Also, we will need to drop the rows where `application_type` is 'Joint' because, without the above three columns, there isn't much use to keep the 'Joint' loan applications. Let us take a closer look."
   ]
  },
  {
   "cell_type": "code",
   "execution_count": 12,
   "id": "1d2db074",
   "metadata": {
    "ExecuteTime": {
     "end_time": "2022-09-02T04:24:25.004852Z",
     "start_time": "2022-09-02T04:24:24.473802Z"
    }
   },
   "outputs": [],
   "source": [
    "# Save shortlisted columns\n",
    "dfa_raw = dfa_raw[cols_of_interest]"
   ]
  },
  {
   "cell_type": "code",
   "execution_count": 13,
   "id": "9e24ce6c",
   "metadata": {
    "ExecuteTime": {
     "end_time": "2022-09-02T04:24:25.096480Z",
     "start_time": "2022-09-02T04:24:25.007349Z"
    }
   },
   "outputs": [
    {
     "data": {
      "text/plain": [
       "33"
      ]
     },
     "execution_count": 13,
     "metadata": {},
     "output_type": "execute_result"
    }
   ],
   "source": [
    "# Check for null values\n",
    "dfa_raw['application_type'].isna().sum()"
   ]
  },
  {
   "cell_type": "code",
   "execution_count": 14,
   "id": "51477fe9",
   "metadata": {
    "ExecuteTime": {
     "end_time": "2022-09-02T04:24:25.726549Z",
     "start_time": "2022-09-02T04:24:25.098434Z"
    }
   },
   "outputs": [],
   "source": [
    "# Drop null values\n",
    "dfa_raw.dropna(subset=['application_type'], inplace=True)"
   ]
  },
  {
   "cell_type": "code",
   "execution_count": 15,
   "id": "386d2e7f",
   "metadata": {
    "ExecuteTime": {
     "end_time": "2022-09-02T04:24:25.818719Z",
     "start_time": "2022-09-02T04:24:25.728882Z"
    }
   },
   "outputs": [
    {
     "data": {
      "text/plain": [
       "0"
      ]
     },
     "execution_count": 15,
     "metadata": {},
     "output_type": "execute_result"
    }
   ],
   "source": [
    "# Check for null values\n",
    "dfa_raw['application_type'].isna().sum()"
   ]
  },
  {
   "cell_type": "code",
   "execution_count": 16,
   "id": "8587f752",
   "metadata": {
    "ExecuteTime": {
     "end_time": "2022-09-02T04:24:25.906163Z",
     "start_time": "2022-09-02T04:24:25.820625Z"
    }
   },
   "outputs": [
    {
     "data": {
      "text/plain": [
       "Individual    2139958\n",
       "Joint App      120710\n",
       "Name: application_type, dtype: int64"
      ]
     },
     "execution_count": 16,
     "metadata": {},
     "output_type": "execute_result"
    }
   ],
   "source": [
    "# Check counts\n",
    "dfa_raw['application_type'].value_counts()"
   ]
  },
  {
   "cell_type": "markdown",
   "id": "95e7c339",
   "metadata": {},
   "source": [
    "Joint loan applications account for ~5.64% of all loan applications.\n",
    "\n",
    "Without the supporting columns `annual_inc_joint`, `verification_status_joint`, and `dti_joint`, there isn't much use to keep these 'Joint' loan applications.\n",
    "\n",
    "We will drop the 'Joint' loan applications and focus our analysis on 'Individual' loan applications."
   ]
  },
  {
   "cell_type": "code",
   "execution_count": 17,
   "id": "cea5b502",
   "metadata": {
    "ExecuteTime": {
     "end_time": "2022-09-02T04:24:25.910567Z",
     "start_time": "2022-09-02T04:24:25.907905Z"
    }
   },
   "outputs": [
    {
     "name": "stdout",
     "output_type": "stream",
     "text": [
      "There are 2260668 rows and 24 columns.\n"
     ]
    }
   ],
   "source": [
    "# Check data frame shape\n",
    "print(f'There are {dfa_raw.shape[0]} rows and {dfa_raw.shape[1]} columns.')"
   ]
  },
  {
   "cell_type": "code",
   "execution_count": 18,
   "id": "51a503be",
   "metadata": {
    "ExecuteTime": {
     "end_time": "2022-09-02T04:24:26.396949Z",
     "start_time": "2022-09-02T04:24:25.912746Z"
    }
   },
   "outputs": [],
   "source": [
    "# Keep only Individual loan applications\n",
    "dfa_raw = dfa_raw[(dfa_raw['application_type'] == 'Individual')]"
   ]
  },
  {
   "cell_type": "code",
   "execution_count": 19,
   "id": "f3bf5b48",
   "metadata": {
    "ExecuteTime": {
     "end_time": "2022-09-02T04:24:26.488081Z",
     "start_time": "2022-09-02T04:24:26.399293Z"
    }
   },
   "outputs": [
    {
     "data": {
      "text/plain": [
       "Individual    2139958\n",
       "Name: application_type, dtype: int64"
      ]
     },
     "execution_count": 19,
     "metadata": {},
     "output_type": "execute_result"
    }
   ],
   "source": [
    "# Check counts\n",
    "dfa_raw['application_type'].value_counts()"
   ]
  },
  {
   "cell_type": "markdown",
   "id": "8af89e54",
   "metadata": {},
   "source": [
    "We have successfully dropped Joint loan applications. Our focus will now be on Individual loan applications.\n",
    "\n",
    "Since the `application_type` column now has just one category (Individual), we can drop this column.\n",
    "\n",
    "❌ We will drop the `application_type` column for now."
   ]
  },
  {
   "cell_type": "code",
   "execution_count": 20,
   "id": "74532e17",
   "metadata": {
    "ExecuteTime": {
     "end_time": "2022-09-02T04:24:26.777145Z",
     "start_time": "2022-09-02T04:24:26.489847Z"
    }
   },
   "outputs": [],
   "source": [
    "# Drop column\n",
    "dfa_raw.drop(['application_type'], axis=1, inplace=True)"
   ]
  },
  {
   "cell_type": "code",
   "execution_count": 21,
   "id": "b927d8d0",
   "metadata": {
    "ExecuteTime": {
     "end_time": "2022-09-02T04:24:26.781945Z",
     "start_time": "2022-09-02T04:24:26.779151Z"
    }
   },
   "outputs": [
    {
     "name": "stdout",
     "output_type": "stream",
     "text": [
      "There are 2139958 rows and 23 columns.\n"
     ]
    }
   ],
   "source": [
    "# Check data frame shape\n",
    "print(f'There are {dfa_raw.shape[0]} rows and {dfa_raw.shape[1]} columns.')"
   ]
  },
  {
   "cell_type": "markdown",
   "id": "fb4d2809",
   "metadata": {},
   "source": [
    "---\n",
    "<a id=\"4\"></a>\n",
    "## 4. Data Export"
   ]
  },
  {
   "cell_type": "markdown",
   "id": "ee779279",
   "metadata": {},
   "source": [
    "We will make a copy of the modified `dfa_raw` data frame and save it as a new data frame `dfa_eda` for use in the next Jupyter notebook (2_Exploratory_Data_Analysis).\n",
    "\n",
    "We will then delete the `dfa_raw` data frame."
   ]
  },
  {
   "cell_type": "code",
   "execution_count": 22,
   "id": "9e5eedfb",
   "metadata": {
    "ExecuteTime": {
     "end_time": "2022-09-02T04:26:57.123407Z",
     "start_time": "2022-09-02T04:26:57.120203Z"
    }
   },
   "outputs": [
    {
     "name": "stdout",
     "output_type": "stream",
     "text": [
      "There are 2139958 rows and 23 columns.\n"
     ]
    }
   ],
   "source": [
    "# Check data frame shape\n",
    "print(f'There are {dfa_raw.shape[0]} rows and {dfa_raw.shape[1]} columns.')"
   ]
  },
  {
   "cell_type": "code",
   "execution_count": 23,
   "id": "2465d0a0",
   "metadata": {
    "ExecuteTime": {
     "end_time": "2022-09-02T04:26:58.765891Z",
     "start_time": "2022-09-02T04:26:58.543325Z"
    }
   },
   "outputs": [],
   "source": [
    "# Make copy of data frame\n",
    "dfa_eda = dfa_raw.copy(deep=True)"
   ]
  },
  {
   "cell_type": "code",
   "execution_count": 24,
   "id": "1ed9303b",
   "metadata": {
    "ExecuteTime": {
     "end_time": "2022-09-02T04:27:00.060980Z",
     "start_time": "2022-09-02T04:27:00.057921Z"
    }
   },
   "outputs": [
    {
     "name": "stdout",
     "output_type": "stream",
     "text": [
      "There are 2139958 rows and 23 columns.\n"
     ]
    }
   ],
   "source": [
    "# Check data frame shape\n",
    "print(f'There are {dfa_eda.shape[0]} rows and {dfa_eda.shape[1]} columns.')"
   ]
  },
  {
   "cell_type": "markdown",
   "id": "bfbdb073",
   "metadata": {},
   "source": [
    "The data frame shapes match.\n",
    "\n",
    "We can now delete the `dfa_raw` data frame."
   ]
  },
  {
   "cell_type": "code",
   "execution_count": 25,
   "id": "424ad846",
   "metadata": {
    "ExecuteTime": {
     "end_time": "2022-09-02T04:27:02.027609Z",
     "start_time": "2022-09-02T04:27:01.977991Z"
    }
   },
   "outputs": [],
   "source": [
    "# Delete data frame\n",
    "del dfa_raw"
   ]
  },
  {
   "cell_type": "code",
   "execution_count": 26,
   "id": "053d209e",
   "metadata": {
    "ExecuteTime": {
     "end_time": "2022-09-02T04:27:04.781379Z",
     "start_time": "2022-09-02T04:27:03.737005Z"
    }
   },
   "outputs": [
    {
     "data": {
      "text/plain": [
       "['data/dfa_eda.pkl']"
      ]
     },
     "execution_count": 26,
     "metadata": {},
     "output_type": "execute_result"
    }
   ],
   "source": [
    "# Export data frame\n",
    "joblib.dump(dfa_eda, 'data/dfa_eda.pkl')"
   ]
  },
  {
   "cell_type": "markdown",
   "id": "638d3d09",
   "metadata": {},
   "source": [
    "In the next Jupyter notebook (2_Exploratory_Data_Analysis), we will conduct Exploratory Data Analysis (EDA) on the `dfa_eda` data frame."
   ]
  },
  {
   "cell_type": "markdown",
   "id": "73bfec09",
   "metadata": {},
   "source": [
    "**THE END**"
   ]
  }
 ],
 "metadata": {
  "instance_type": "ml.m5.xlarge",
  "kernelspec": {
   "display_name": "Python 3 (ipykernel)",
   "language": "python",
   "name": "python3"
  },
  "language_info": {
   "codemirror_mode": {
    "name": "ipython",
    "version": 3
   },
   "file_extension": ".py",
   "mimetype": "text/x-python",
   "name": "python",
   "nbconvert_exporter": "python",
   "pygments_lexer": "ipython3",
   "version": "3.9.13"
  },
  "toc": {
   "base_numbering": 1,
   "nav_menu": {},
   "number_sections": false,
   "sideBar": true,
   "skip_h1_title": false,
   "title_cell": "Table of Contents",
   "title_sidebar": "Contents",
   "toc_cell": false,
   "toc_position": {
    "height": "729px",
    "left": "10px",
    "top": "150px",
    "width": "351px"
   },
   "toc_section_display": true,
   "toc_window_display": false
  },
  "varInspector": {
   "cols": {
    "lenName": 16,
    "lenType": 16,
    "lenVar": 40
   },
   "kernels_config": {
    "python": {
     "delete_cmd_postfix": "",
     "delete_cmd_prefix": "del ",
     "library": "var_list.py",
     "varRefreshCmd": "print(var_dic_list())"
    },
    "r": {
     "delete_cmd_postfix": ") ",
     "delete_cmd_prefix": "rm(",
     "library": "var_list.r",
     "varRefreshCmd": "cat(var_dic_list()) "
    }
   },
   "types_to_exclude": [
    "module",
    "function",
    "builtin_function_or_method",
    "instance",
    "_Feature"
   ],
   "window_display": false
  },
  "vscode": {
   "interpreter": {
    "hash": "089d9d49280484a2a0b42a0d1183c3ae8c0e8258e640806db4943d112fcdf703"
   }
  }
 },
 "nbformat": 4,
 "nbformat_minor": 5
}
