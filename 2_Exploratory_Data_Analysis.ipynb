{
 "cells": [
  {
   "cell_type": "markdown",
   "id": "e8010b86",
   "metadata": {},
   "source": [
    "# Lending Club - Interest Rate Predictor\n",
    "\n",
    "## Current Notebook: 2_Exploratory_Data_Analysis"
   ]
  },
  {
   "cell_type": "markdown",
   "id": "593b5a1e",
   "metadata": {},
   "source": [
    "---\n",
    "**Author:** Rohit Singh\n",
    "<br/>\n",
    "[GitHub](https://github.com/RohitSinghHQ) | [LinkedIn](https://www.linkedin.com/in/RohitSinghHQ)\n",
    "<br/>\n",
    "<br/>\n",
    "**Project:** Lending Club - Interest Rate Predictor\n",
    "<br/>\n",
    "<br/>\n",
    "**Previous Notebook:** 1_Preprocessing\n",
    "<br/>\n",
    "**Current Notebook:** 2_Exploratory_Data_Analysis\n",
    "<br/>\n",
    "**Next Notebook:** 3_Model_Prep"
   ]
  },
  {
   "cell_type": "markdown",
   "id": "62fe2ff3",
   "metadata": {},
   "source": [
    "---\n",
    "## Table of Contents\n",
    "\n",
    "[1. Data Import](#1)\n",
    "<br/>\n",
    "[2. Exploratory Data Analysis (EDA)](#2)\n",
    "<br/>\n",
    "- [2.1 `emp_title` column](#2.1)\n",
    "<br/>\n",
    "- [2.2 `emp_length` column](#2.2)\n",
    "<br/>\n",
    "- [2.3 `mort_acc` column](#2.3)\n",
    "<br/>\n",
    "- [2.4 `num_sats` column](#2.4)\n",
    "<br/>\n",
    "- [2.5 `num_bc_sats` column](#2.5)\n",
    "<br/>\n",
    "- [2.6 `zip_code` column](#2.6)\n",
    "<br/>\n",
    "- [2.7 `addr_state` column](#2.7)\n",
    "<br/>\n",
    "- [2.8 `int_rate` column](#2.8)\n",
    "<br/>\n",
    "- [2.9 `loan_amnt` column](#2.9)\n",
    "<br/>\n",
    "- [2.10 `term` column](#2.10)\n",
    "<br/>\n",
    "- [2.11 `home_ownership` column](#2.11)\n",
    "<br/>\n",
    "- [2.12 `annual_inc` column](#2.12)\n",
    "<br/>\n",
    "- [2.13 `verification_status` column](#2.13)\n",
    "<br/>\n",
    "- [2.14 `purpose` column](#2.14)\n",
    "<br/>\n",
    "- [2.15 `dti` column](#2.15)\n",
    "<br/>\n",
    "- [2.16 `fico_range_low`, `fico_range_high` column](#2.16)\n",
    "<br/>\n",
    "- [2.17 `open_acc` column](#2.17)\n",
    "<br/>\n",
    "- [2.18 `total_acc` column](#2.18)\n",
    "<br/>\n",
    "- [2.19 `disbursement_method` column](#2.19)\n",
    "<br/>\n",
    "- [2.20 `pub_rec` column](#2.20)\n",
    "<br/>\n",
    "- [2.21 `pub_rec_bankruptcies` column](#2.21)\n",
    "<br/>\n",
    "- [2.22 `tax_liens` column](#2.22)\n",
    "<br/>\n",
    "\n",
    "[3. Data Export](#3)"
   ]
  },
  {
   "cell_type": "markdown",
   "id": "98ba675b",
   "metadata": {},
   "source": [
    "---\n",
    "<a id=\"1\"></a>\n",
    "## 1. Data Import"
   ]
  },
  {
   "cell_type": "code",
   "execution_count": 1,
   "id": "f828fb5d",
   "metadata": {
    "ExecuteTime": {
     "end_time": "2022-09-02T04:28:57.947113Z",
     "start_time": "2022-09-02T04:28:54.177415Z"
    }
   },
   "outputs": [],
   "source": [
    "# Import packages\n",
    "import numpy as np\n",
    "import pandas as pd\n",
    "import joblib\n",
    "import matplotlib.pyplot as plt\n",
    "%matplotlib inline\n",
    "import seaborn as sns"
   ]
  },
  {
   "cell_type": "markdown",
   "id": "328f61e9",
   "metadata": {},
   "source": [
    "Let us import the reduced-size `dfa_eda` data frame."
   ]
  },
  {
   "cell_type": "code",
   "execution_count": 2,
   "id": "e4ded2b0",
   "metadata": {
    "ExecuteTime": {
     "end_time": "2022-09-02T04:28:58.813170Z",
     "start_time": "2022-09-02T04:28:57.949758Z"
    }
   },
   "outputs": [],
   "source": [
    "# Load data frame\n",
    "dfa_eda = joblib.load('data/dfa_eda.pkl')"
   ]
  },
  {
   "cell_type": "code",
   "execution_count": 3,
   "id": "79778595",
   "metadata": {
    "ExecuteTime": {
     "end_time": "2022-09-02T04:28:58.819252Z",
     "start_time": "2022-09-02T04:28:58.815723Z"
    }
   },
   "outputs": [
    {
     "name": "stdout",
     "output_type": "stream",
     "text": [
      "There are 2139958 rows and 23 columns.\n"
     ]
    }
   ],
   "source": [
    "# Check data frame shape\n",
    "print(f'There are {dfa_eda.shape[0]} rows and {dfa_eda.shape[1]} columns.')"
   ]
  },
  {
   "cell_type": "code",
   "execution_count": 4,
   "id": "2634ea5f",
   "metadata": {
    "ExecuteTime": {
     "end_time": "2022-09-02T04:28:58.929214Z",
     "start_time": "2022-09-02T04:28:58.824495Z"
    }
   },
   "outputs": [
    {
     "data": {
      "text/html": [
       "<div>\n",
       "<style scoped>\n",
       "    .dataframe tbody tr th:only-of-type {\n",
       "        vertical-align: middle;\n",
       "    }\n",
       "\n",
       "    .dataframe tbody tr th {\n",
       "        vertical-align: top;\n",
       "    }\n",
       "\n",
       "    .dataframe thead th {\n",
       "        text-align: right;\n",
       "    }\n",
       "</style>\n",
       "<table border=\"1\" class=\"dataframe\">\n",
       "  <thead>\n",
       "    <tr style=\"text-align: right;\">\n",
       "      <th></th>\n",
       "      <th>int_rate</th>\n",
       "      <th>loan_amnt</th>\n",
       "      <th>term</th>\n",
       "      <th>purpose</th>\n",
       "      <th>annual_inc</th>\n",
       "      <th>verification_status</th>\n",
       "      <th>home_ownership</th>\n",
       "      <th>zip_code</th>\n",
       "      <th>addr_state</th>\n",
       "      <th>emp_title</th>\n",
       "      <th>...</th>\n",
       "      <th>fico_range_high</th>\n",
       "      <th>pub_rec</th>\n",
       "      <th>pub_rec_bankruptcies</th>\n",
       "      <th>open_acc</th>\n",
       "      <th>total_acc</th>\n",
       "      <th>mort_acc</th>\n",
       "      <th>num_sats</th>\n",
       "      <th>num_bc_sats</th>\n",
       "      <th>tax_liens</th>\n",
       "      <th>disbursement_method</th>\n",
       "    </tr>\n",
       "  </thead>\n",
       "  <tbody>\n",
       "    <tr>\n",
       "      <th>803818</th>\n",
       "      <td>10.47</td>\n",
       "      <td>2000.0</td>\n",
       "      <td>36 months</td>\n",
       "      <td>other</td>\n",
       "      <td>33500.0</td>\n",
       "      <td>Not Verified</td>\n",
       "      <td>OWN</td>\n",
       "      <td>283xx</td>\n",
       "      <td>NC</td>\n",
       "      <td>Lab Tech</td>\n",
       "      <td>...</td>\n",
       "      <td>784.0</td>\n",
       "      <td>0.0</td>\n",
       "      <td>0.0</td>\n",
       "      <td>16.0</td>\n",
       "      <td>32.0</td>\n",
       "      <td>0.0</td>\n",
       "      <td>16.0</td>\n",
       "      <td>8.0</td>\n",
       "      <td>0.0</td>\n",
       "      <td>Cash</td>\n",
       "    </tr>\n",
       "    <tr>\n",
       "      <th>1522758</th>\n",
       "      <td>7.46</td>\n",
       "      <td>29000.0</td>\n",
       "      <td>60 months</td>\n",
       "      <td>credit_card</td>\n",
       "      <td>120185.0</td>\n",
       "      <td>Source Verified</td>\n",
       "      <td>MORTGAGE</td>\n",
       "      <td>297xx</td>\n",
       "      <td>SC</td>\n",
       "      <td>High School Principal</td>\n",
       "      <td>...</td>\n",
       "      <td>694.0</td>\n",
       "      <td>0.0</td>\n",
       "      <td>0.0</td>\n",
       "      <td>16.0</td>\n",
       "      <td>35.0</td>\n",
       "      <td>3.0</td>\n",
       "      <td>16.0</td>\n",
       "      <td>7.0</td>\n",
       "      <td>0.0</td>\n",
       "      <td>DirectPay</td>\n",
       "    </tr>\n",
       "    <tr>\n",
       "      <th>292450</th>\n",
       "      <td>7.89</td>\n",
       "      <td>7000.0</td>\n",
       "      <td>36 months</td>\n",
       "      <td>debt_consolidation</td>\n",
       "      <td>37000.0</td>\n",
       "      <td>Source Verified</td>\n",
       "      <td>RENT</td>\n",
       "      <td>338xx</td>\n",
       "      <td>FL</td>\n",
       "      <td>Admin/Realtor</td>\n",
       "      <td>...</td>\n",
       "      <td>724.0</td>\n",
       "      <td>0.0</td>\n",
       "      <td>0.0</td>\n",
       "      <td>6.0</td>\n",
       "      <td>9.0</td>\n",
       "      <td>0.0</td>\n",
       "      <td>6.0</td>\n",
       "      <td>2.0</td>\n",
       "      <td>0.0</td>\n",
       "      <td>Cash</td>\n",
       "    </tr>\n",
       "    <tr>\n",
       "      <th>1933519</th>\n",
       "      <td>6.03</td>\n",
       "      <td>6000.0</td>\n",
       "      <td>36 months</td>\n",
       "      <td>wedding</td>\n",
       "      <td>60000.0</td>\n",
       "      <td>Not Verified</td>\n",
       "      <td>RENT</td>\n",
       "      <td>193xx</td>\n",
       "      <td>PA</td>\n",
       "      <td>Datatel+SGHE</td>\n",
       "      <td>...</td>\n",
       "      <td>759.0</td>\n",
       "      <td>0.0</td>\n",
       "      <td>0.0</td>\n",
       "      <td>16.0</td>\n",
       "      <td>21.0</td>\n",
       "      <td>NaN</td>\n",
       "      <td>NaN</td>\n",
       "      <td>NaN</td>\n",
       "      <td>0.0</td>\n",
       "      <td>Cash</td>\n",
       "    </tr>\n",
       "    <tr>\n",
       "      <th>2239688</th>\n",
       "      <td>11.44</td>\n",
       "      <td>8000.0</td>\n",
       "      <td>36 months</td>\n",
       "      <td>debt_consolidation</td>\n",
       "      <td>110000.0</td>\n",
       "      <td>Verified</td>\n",
       "      <td>RENT</td>\n",
       "      <td>105xx</td>\n",
       "      <td>NY</td>\n",
       "      <td>Assistant Principal</td>\n",
       "      <td>...</td>\n",
       "      <td>689.0</td>\n",
       "      <td>0.0</td>\n",
       "      <td>0.0</td>\n",
       "      <td>12.0</td>\n",
       "      <td>25.0</td>\n",
       "      <td>2.0</td>\n",
       "      <td>12.0</td>\n",
       "      <td>4.0</td>\n",
       "      <td>0.0</td>\n",
       "      <td>Cash</td>\n",
       "    </tr>\n",
       "  </tbody>\n",
       "</table>\n",
       "<p>5 rows × 23 columns</p>\n",
       "</div>"
      ],
      "text/plain": [
       "         int_rate  loan_amnt        term             purpose  annual_inc  \\\n",
       "803818      10.47     2000.0   36 months               other     33500.0   \n",
       "1522758      7.46    29000.0   60 months         credit_card    120185.0   \n",
       "292450       7.89     7000.0   36 months  debt_consolidation     37000.0   \n",
       "1933519      6.03     6000.0   36 months             wedding     60000.0   \n",
       "2239688     11.44     8000.0   36 months  debt_consolidation    110000.0   \n",
       "\n",
       "        verification_status home_ownership zip_code addr_state  \\\n",
       "803818         Not Verified            OWN    283xx         NC   \n",
       "1522758     Source Verified       MORTGAGE    297xx         SC   \n",
       "292450      Source Verified           RENT    338xx         FL   \n",
       "1933519        Not Verified           RENT    193xx         PA   \n",
       "2239688            Verified           RENT    105xx         NY   \n",
       "\n",
       "                     emp_title  ... fico_range_high  pub_rec  \\\n",
       "803818                Lab Tech  ...           784.0      0.0   \n",
       "1522758  High School Principal  ...           694.0      0.0   \n",
       "292450           Admin/Realtor  ...           724.0      0.0   \n",
       "1933519           Datatel+SGHE  ...           759.0      0.0   \n",
       "2239688    Assistant Principal  ...           689.0      0.0   \n",
       "\n",
       "         pub_rec_bankruptcies  open_acc  total_acc  mort_acc  num_sats  \\\n",
       "803818                    0.0      16.0       32.0       0.0      16.0   \n",
       "1522758                   0.0      16.0       35.0       3.0      16.0   \n",
       "292450                    0.0       6.0        9.0       0.0       6.0   \n",
       "1933519                   0.0      16.0       21.0       NaN       NaN   \n",
       "2239688                   0.0      12.0       25.0       2.0      12.0   \n",
       "\n",
       "         num_bc_sats  tax_liens  disbursement_method  \n",
       "803818           8.0        0.0                 Cash  \n",
       "1522758          7.0        0.0            DirectPay  \n",
       "292450           2.0        0.0                 Cash  \n",
       "1933519          NaN        0.0                 Cash  \n",
       "2239688          4.0        0.0                 Cash  \n",
       "\n",
       "[5 rows x 23 columns]"
      ]
     },
     "execution_count": 4,
     "metadata": {},
     "output_type": "execute_result"
    }
   ],
   "source": [
    "# Check sample\n",
    "dfa_eda.sample(5)"
   ]
  },
  {
   "cell_type": "markdown",
   "id": "2ee3415d",
   "metadata": {},
   "source": [
    "The data frame seems to have loaded correctly."
   ]
  },
  {
   "cell_type": "code",
   "execution_count": 5,
   "id": "f964bba1",
   "metadata": {
    "ExecuteTime": {
     "end_time": "2022-09-02T04:28:58.943916Z",
     "start_time": "2022-09-02T04:28:58.931099Z"
    }
   },
   "outputs": [
    {
     "name": "stdout",
     "output_type": "stream",
     "text": [
      "<class 'pandas.core.frame.DataFrame'>\n",
      "Int64Index: 2139958 entries, 0 to 2260698\n",
      "Data columns (total 23 columns):\n",
      " #   Column                Dtype  \n",
      "---  ------                -----  \n",
      " 0   int_rate              float64\n",
      " 1   loan_amnt             float64\n",
      " 2   term                  object \n",
      " 3   purpose               object \n",
      " 4   annual_inc            float64\n",
      " 5   verification_status   object \n",
      " 6   home_ownership        object \n",
      " 7   zip_code              object \n",
      " 8   addr_state            object \n",
      " 9   emp_title             object \n",
      " 10  emp_length            object \n",
      " 11  dti                   float64\n",
      " 12  fico_range_low        float64\n",
      " 13  fico_range_high       float64\n",
      " 14  pub_rec               float64\n",
      " 15  pub_rec_bankruptcies  float64\n",
      " 16  open_acc              float64\n",
      " 17  total_acc             float64\n",
      " 18  mort_acc              float64\n",
      " 19  num_sats              float64\n",
      " 20  num_bc_sats           float64\n",
      " 21  tax_liens             float64\n",
      " 22  disbursement_method   object \n",
      "dtypes: float64(14), object(9)\n",
      "memory usage: 391.8+ MB\n"
     ]
    }
   ],
   "source": [
    "# Check data types\n",
    "dfa_eda.info()"
   ]
  },
  {
   "cell_type": "code",
   "execution_count": 6,
   "id": "e97d8b73",
   "metadata": {
    "ExecuteTime": {
     "end_time": "2022-09-02T04:29:01.143006Z",
     "start_time": "2022-09-02T04:28:58.945875Z"
    }
   },
   "outputs": [
    {
     "data": {
      "text/plain": [
       "int_rate                     0\n",
       "loan_amnt                    0\n",
       "term                         0\n",
       "purpose                      0\n",
       "annual_inc                   4\n",
       "verification_status          0\n",
       "home_ownership               0\n",
       "zip_code                     1\n",
       "addr_state                   0\n",
       "emp_title               148559\n",
       "emp_length              130357\n",
       "dti                          0\n",
       "fico_range_low               0\n",
       "fico_range_high              0\n",
       "pub_rec                     29\n",
       "pub_rec_bankruptcies      1365\n",
       "open_acc                    29\n",
       "total_acc                   29\n",
       "mort_acc                 50030\n",
       "num_sats                 58590\n",
       "num_bc_sats              58590\n",
       "tax_liens                  105\n",
       "disbursement_method          0\n",
       "dtype: int64"
      ]
     },
     "execution_count": 6,
     "metadata": {},
     "output_type": "execute_result"
    }
   ],
   "source": [
    "# Check for null values\n",
    "dfa_eda.isna().sum()"
   ]
  },
  {
   "cell_type": "code",
   "execution_count": 7,
   "id": "f834e575",
   "metadata": {
    "ExecuteTime": {
     "end_time": "2022-09-02T04:29:03.238713Z",
     "start_time": "2022-09-02T04:29:01.144715Z"
    },
    "scrolled": true
   },
   "outputs": [
    {
     "data": {
      "text/plain": [
       "int_rate                0.0000\n",
       "loan_amnt               0.0000\n",
       "term                    0.0000\n",
       "purpose                 0.0000\n",
       "annual_inc              0.0002\n",
       "verification_status     0.0000\n",
       "home_ownership          0.0000\n",
       "zip_code                0.0000\n",
       "addr_state              0.0000\n",
       "emp_title               6.9421\n",
       "emp_length              6.0916\n",
       "dti                     0.0000\n",
       "fico_range_low          0.0000\n",
       "fico_range_high         0.0000\n",
       "pub_rec                 0.0014\n",
       "pub_rec_bankruptcies    0.0638\n",
       "open_acc                0.0014\n",
       "total_acc               0.0014\n",
       "mort_acc                2.3379\n",
       "num_sats                2.7379\n",
       "num_bc_sats             2.7379\n",
       "tax_liens               0.0049\n",
       "disbursement_method     0.0000\n",
       "dtype: float64"
      ]
     },
     "execution_count": 7,
     "metadata": {},
     "output_type": "execute_result"
    }
   ],
   "source": [
    "# Check for null values percent\n",
    "(dfa_eda.isna().mean()*100).round(4)"
   ]
  },
  {
   "cell_type": "markdown",
   "id": "a1033b2a",
   "metadata": {},
   "source": [
    "We still have null values in our columns. We will go through each column one-by-one, starting with the ones with null values."
   ]
  },
  {
   "cell_type": "markdown",
   "id": "6ba1ac6f",
   "metadata": {},
   "source": [
    "---\n",
    "<a id=\"2\"></a>\n",
    "## 2. Exploratory Data Analysis (EDA)"
   ]
  },
  {
   "cell_type": "markdown",
   "id": "e50714c2",
   "metadata": {},
   "source": [
    "Exploratory Data Analysis (EDA) refers to the critical process of performing initial investigations on data so as to discover patterns, spot anomalies, test hypothesis, and check assumptions with the help of summary statistics and graphical representations.\n",
    "\n",
    "This is where we check, explore, and make any necessary changes to the columns in our data frame to get them ready for the machine learning models."
   ]
  },
  {
   "cell_type": "markdown",
   "id": "b738fe18",
   "metadata": {},
   "source": [
    "---\n",
    "<a id=\"2.1\"></a>\n",
    "#### 2.1 `emp_title` column"
   ]
  },
  {
   "cell_type": "markdown",
   "id": "475616c5",
   "metadata": {},
   "source": [
    "This column shows the job title supplied by the borrower when applying for the loan."
   ]
  },
  {
   "cell_type": "markdown",
   "id": "51231389",
   "metadata": {},
   "source": [
    "Let us first check for null values."
   ]
  },
  {
   "cell_type": "code",
   "execution_count": 8,
   "id": "8c9c82fa",
   "metadata": {
    "ExecuteTime": {
     "end_time": "2022-09-02T04:29:03.355410Z",
     "start_time": "2022-09-02T04:29:03.241103Z"
    }
   },
   "outputs": [
    {
     "data": {
      "text/plain": [
       "148559"
      ]
     },
     "execution_count": 8,
     "metadata": {},
     "output_type": "execute_result"
    }
   ],
   "source": [
    "# Check for null values\n",
    "dfa_eda['emp_title'].isna().sum()"
   ]
  },
  {
   "cell_type": "code",
   "execution_count": 9,
   "id": "c0ebb158",
   "metadata": {
    "ExecuteTime": {
     "end_time": "2022-09-02T04:29:03.479148Z",
     "start_time": "2022-09-02T04:29:03.357829Z"
    }
   },
   "outputs": [
    {
     "data": {
      "text/plain": [
       "(6.942145593511648, 2139958)"
      ]
     },
     "execution_count": 9,
     "metadata": {},
     "output_type": "execute_result"
    }
   ],
   "source": [
    "# Check for null values percent\n",
    "((dfa_eda['emp_title'].isna().sum() / dfa_eda.shape[0]) * 100), dfa_eda.shape[0]"
   ]
  },
  {
   "cell_type": "markdown",
   "id": "5c4623f8",
   "metadata": {},
   "source": [
    "148,559 (~6.94%) rows have null values. We need to dig deeper.\n",
    "\n",
    "Let us start by looking at unique values."
   ]
  },
  {
   "cell_type": "code",
   "execution_count": 10,
   "id": "e9c835e5",
   "metadata": {
    "ExecuteTime": {
     "end_time": "2022-09-02T04:29:03.757649Z",
     "start_time": "2022-09-02T04:29:03.484577Z"
    }
   },
   "outputs": [
    {
     "data": {
      "text/plain": [
       "496895"
      ]
     },
     "execution_count": 10,
     "metadata": {},
     "output_type": "execute_result"
    }
   ],
   "source": [
    "# Check for unique values\n",
    "dfa_eda['emp_title'].nunique()"
   ]
  },
  {
   "cell_type": "markdown",
   "id": "7148e5e2",
   "metadata": {},
   "source": [
    "There are ~496k (496,895) unique values in the `emp_title` column. However, some of them could include duplicates, duplicates with white spaces, different capitalization, etc.\n",
    "\n",
    "Let us try converting all entries to lowercase capitalization to reduce duplication."
   ]
  },
  {
   "cell_type": "code",
   "execution_count": 11,
   "id": "851f1fc5",
   "metadata": {
    "ExecuteTime": {
     "end_time": "2022-09-02T04:29:04.521456Z",
     "start_time": "2022-09-02T04:29:03.760284Z"
    }
   },
   "outputs": [],
   "source": [
    "# Convert to lowercase\n",
    "dfa_eda['emp_title'] = dfa_eda['emp_title'].str.lower()"
   ]
  },
  {
   "cell_type": "code",
   "execution_count": 12,
   "id": "cbbc10a3",
   "metadata": {
    "ExecuteTime": {
     "end_time": "2022-09-02T04:29:04.927969Z",
     "start_time": "2022-09-02T04:29:04.523531Z"
    }
   },
   "outputs": [
    {
     "data": {
      "text/plain": [
       "425426"
      ]
     },
     "execution_count": 12,
     "metadata": {},
     "output_type": "execute_result"
    }
   ],
   "source": [
    "# Check for unique values\n",
    "dfa_eda['emp_title'].nunique()"
   ]
  },
  {
   "cell_type": "code",
   "execution_count": 13,
   "id": "dc166628",
   "metadata": {
    "ExecuteTime": {
     "end_time": "2022-09-02T04:29:05.012308Z",
     "start_time": "2022-09-02T04:29:04.931461Z"
    }
   },
   "outputs": [
    {
     "data": {
      "text/plain": [
       "1574762    inteventional radiologic technologist \n",
       "41540                                head cashier\n",
       "2170539                            medical biller\n",
       "1895185                          michael rose cpa\n",
       "2056188                                sr. hr mgr\n",
       "1886032                          social security \n",
       "2124564                         solutions manager\n",
       "1668249                      big data & analytics\n",
       "1197111                        member service rep\n",
       "1240858                               it director\n",
       "Name: emp_title, dtype: object"
      ]
     },
     "execution_count": 13,
     "metadata": {},
     "output_type": "execute_result"
    }
   ],
   "source": [
    "# Check sample\n",
    "dfa_eda['emp_title'].sample(10)"
   ]
  },
  {
   "cell_type": "markdown",
   "id": "2b320ddd",
   "metadata": {},
   "source": [
    "The number of unique values has gone down but is still very high at >425k (425,426).\n",
    "\n",
    "Even if we try to group together multiple entries like various managers, various C-suite executives, it would be impossible to come up with a sane number to properly apply OneHotEncoder to this column.\n",
    "\n",
    "❌ We will drop the `emp_title` column for now."
   ]
  },
  {
   "cell_type": "code",
   "execution_count": 14,
   "id": "b18fbc3f",
   "metadata": {
    "ExecuteTime": {
     "end_time": "2022-09-02T04:29:05.629432Z",
     "start_time": "2022-09-02T04:29:05.014143Z"
    }
   },
   "outputs": [],
   "source": [
    "# Drop column\n",
    "dfa_eda.drop(['emp_title'], axis=1, inplace=True)"
   ]
  },
  {
   "cell_type": "code",
   "execution_count": 15,
   "id": "7e058002",
   "metadata": {
    "ExecuteTime": {
     "end_time": "2022-09-02T04:29:05.634372Z",
     "start_time": "2022-09-02T04:29:05.631498Z"
    }
   },
   "outputs": [
    {
     "name": "stdout",
     "output_type": "stream",
     "text": [
      "There are 2139958 rows and 22 columns.\n"
     ]
    }
   ],
   "source": [
    "# Check data frame shape\n",
    "print(f'There are {dfa_eda.shape[0]} rows and {dfa_eda.shape[1]} columns.')"
   ]
  },
  {
   "cell_type": "markdown",
   "id": "e2cf60ed",
   "metadata": {},
   "source": [
    "---\n",
    "<a id=\"2.2\"></a>\n",
    "#### 2.2 `emp_length` column"
   ]
  },
  {
   "cell_type": "markdown",
   "id": "de5df23f",
   "metadata": {},
   "source": [
    "This column shows the employment length in years. Possible values are between 0 and 10 where 0 means less than one year and 10 means ten or more years."
   ]
  },
  {
   "cell_type": "markdown",
   "id": "59cc3511",
   "metadata": {},
   "source": [
    "Let us start by looking at unique values."
   ]
  },
  {
   "cell_type": "code",
   "execution_count": 16,
   "id": "c178a65b",
   "metadata": {
    "ExecuteTime": {
     "end_time": "2022-09-02T04:29:05.716145Z",
     "start_time": "2022-09-02T04:29:05.636317Z"
    }
   },
   "outputs": [
    {
     "data": {
      "text/plain": [
       "array(['10+ years', '3 years', '4 years', '6 years', '1 year', '7 years',\n",
       "       '8 years', '5 years', '2 years', '9 years', '< 1 year', nan],\n",
       "      dtype=object)"
      ]
     },
     "execution_count": 16,
     "metadata": {},
     "output_type": "execute_result"
    }
   ],
   "source": [
    "# Check for unique values\n",
    "dfa_eda['emp_length'].unique()"
   ]
  },
  {
   "cell_type": "code",
   "execution_count": 17,
   "id": "7a32f9da",
   "metadata": {
    "ExecuteTime": {
     "end_time": "2022-09-02T04:29:05.802060Z",
     "start_time": "2022-09-02T04:29:05.717726Z"
    }
   },
   "outputs": [
    {
     "data": {
      "text/plain": [
       "10+ years    714464\n",
       "2 years      194839\n",
       "3 years      172785\n",
       "< 1 year     167907\n",
       "1 year       142364\n",
       "5 years      133536\n",
       "4 years      130624\n",
       "6 years       98460\n",
       "7 years       89307\n",
       "8 years       88634\n",
       "9 years       76681\n",
       "Name: emp_length, dtype: int64"
      ]
     },
     "execution_count": 17,
     "metadata": {},
     "output_type": "execute_result"
    }
   ],
   "source": [
    "# Check counts\n",
    "dfa_eda['emp_length'].value_counts()"
   ]
  },
  {
   "cell_type": "markdown",
   "id": "58d77637",
   "metadata": {},
   "source": [
    "We have already dropped the `emp_title` column above. It doesn't make much logical sense to keep the `emp_length` column.\n",
    "\n",
    "For example, 5 years of employment as an Analyst vs. 5 years of employment as a C-suite executive cannot be put in the same category for calculating/predicting loan interest rates.\n",
    "\n",
    "If we had kept the `emp_title` column, it would have made more sense to keep the `emp_length` column as well.\n",
    "\n",
    "❌ We will drop the `emp_length` column for now."
   ]
  },
  {
   "cell_type": "code",
   "execution_count": 18,
   "id": "56d40170",
   "metadata": {
    "ExecuteTime": {
     "end_time": "2022-09-02T04:29:06.066724Z",
     "start_time": "2022-09-02T04:29:05.804204Z"
    }
   },
   "outputs": [],
   "source": [
    "# Drop column\n",
    "dfa_eda.drop(['emp_length'], axis=1, inplace=True)"
   ]
  },
  {
   "cell_type": "code",
   "execution_count": 19,
   "id": "d1009adf",
   "metadata": {
    "ExecuteTime": {
     "end_time": "2022-09-02T04:29:06.071885Z",
     "start_time": "2022-09-02T04:29:06.068785Z"
    }
   },
   "outputs": [
    {
     "name": "stdout",
     "output_type": "stream",
     "text": [
      "There are 2139958 rows and 21 columns.\n"
     ]
    }
   ],
   "source": [
    "# Check data frame shape\n",
    "print(f'There are {dfa_eda.shape[0]} rows and {dfa_eda.shape[1]} columns.')"
   ]
  },
  {
   "cell_type": "markdown",
   "id": "120daa47",
   "metadata": {},
   "source": [
    "---\n",
    "<a id=\"2.3\"></a>\n",
    "#### 2.3 `mort_acc` column"
   ]
  },
  {
   "cell_type": "markdown",
   "id": "8e4148ed",
   "metadata": {},
   "source": [
    "This column shows the number of mortgage accounts."
   ]
  },
  {
   "cell_type": "markdown",
   "id": "e4a542b5",
   "metadata": {},
   "source": [
    "Let us first check for null values."
   ]
  },
  {
   "cell_type": "code",
   "execution_count": 20,
   "id": "ae870aac",
   "metadata": {
    "ExecuteTime": {
     "end_time": "2022-09-02T04:29:06.082161Z",
     "start_time": "2022-09-02T04:29:06.074217Z"
    }
   },
   "outputs": [
    {
     "data": {
      "text/plain": [
       "50030"
      ]
     },
     "execution_count": 20,
     "metadata": {},
     "output_type": "execute_result"
    }
   ],
   "source": [
    "# Check for null values\n",
    "dfa_eda['mort_acc'].isna().sum()"
   ]
  },
  {
   "cell_type": "code",
   "execution_count": 21,
   "id": "70053072",
   "metadata": {
    "ExecuteTime": {
     "end_time": "2022-09-02T04:29:06.092107Z",
     "start_time": "2022-09-02T04:29:06.083930Z"
    }
   },
   "outputs": [
    {
     "data": {
      "text/plain": [
       "(2.3378963512368003, 2139958)"
      ]
     },
     "execution_count": 21,
     "metadata": {},
     "output_type": "execute_result"
    }
   ],
   "source": [
    "# Check for null values percent\n",
    "((dfa_eda['mort_acc'].isna().sum() / dfa_eda.shape[0]) * 100), dfa_eda.shape[0]"
   ]
  },
  {
   "cell_type": "markdown",
   "id": "97905e7b",
   "metadata": {},
   "source": [
    "50,030 (~2.34%) rows have null values.\n",
    "\n",
    "Ideally, we would like to fill in the null values. But, due to mortgages having a noticeable impact on a borrower's credit-worthiness/loan-repayment capacity, this is a sensitive data point. It's better to drop the null rows than to dilute the data.\n",
    "\n",
    "We will drop these rows for now."
   ]
  },
  {
   "cell_type": "code",
   "execution_count": 22,
   "id": "b6564116",
   "metadata": {
    "ExecuteTime": {
     "end_time": "2022-09-02T04:29:06.504169Z",
     "start_time": "2022-09-02T04:29:06.094562Z"
    }
   },
   "outputs": [],
   "source": [
    "# Drop null values\n",
    "dfa_eda.dropna(subset=['mort_acc'], inplace=True)"
   ]
  },
  {
   "cell_type": "code",
   "execution_count": 23,
   "id": "304701e6",
   "metadata": {
    "ExecuteTime": {
     "end_time": "2022-09-02T04:29:06.514651Z",
     "start_time": "2022-09-02T04:29:06.506272Z"
    }
   },
   "outputs": [
    {
     "data": {
      "text/plain": [
       "0"
      ]
     },
     "execution_count": 23,
     "metadata": {},
     "output_type": "execute_result"
    }
   ],
   "source": [
    "# Check for null values\n",
    "dfa_eda['mort_acc'].isna().sum()"
   ]
  },
  {
   "cell_type": "markdown",
   "id": "9498316a",
   "metadata": {},
   "source": [
    "There are no more null values in the `mort_acc` column."
   ]
  },
  {
   "cell_type": "code",
   "execution_count": 24,
   "id": "6bb2cf84",
   "metadata": {
    "ExecuteTime": {
     "end_time": "2022-09-02T04:29:06.596253Z",
     "start_time": "2022-09-02T04:29:06.516428Z"
    }
   },
   "outputs": [
    {
     "data": {
      "text/plain": [
       "117389     2.0\n",
       "385099     3.0\n",
       "524192     0.0\n",
       "2106967    5.0\n",
       "489126     3.0\n",
       "Name: mort_acc, dtype: float64"
      ]
     },
     "execution_count": 24,
     "metadata": {},
     "output_type": "execute_result"
    }
   ],
   "source": [
    "# Check sample\n",
    "dfa_eda['mort_acc'].sample(5)"
   ]
  },
  {
   "cell_type": "markdown",
   "id": "d77a64f9",
   "metadata": {},
   "source": [
    "This is a numerical column."
   ]
  },
  {
   "cell_type": "markdown",
   "id": "1fc53fb8",
   "metadata": {},
   "source": [
    "Let us try to visualize the data."
   ]
  },
  {
   "cell_type": "code",
   "execution_count": 25,
   "id": "d5b01aab",
   "metadata": {
    "ExecuteTime": {
     "end_time": "2022-09-02T04:29:10.422906Z",
     "start_time": "2022-09-02T04:29:06.598601Z"
    }
   },
   "outputs": [
    {
     "data": {
      "text/plain": [
       "<Figure size 800x600 with 0 Axes>"
      ]
     },
     "metadata": {},
     "output_type": "display_data"
    },
    {
     "data": {
      "image/png": "[encoded data removed]",
      "text/plain": [
       "<Figure size 500x500 with 1 Axes>"
      ]
     },
     "metadata": {},
     "output_type": "display_data"
    }
   ],
   "source": [
    "# Check distribution\n",
    "\n",
    "# Create plot\n",
    "plt.figure(figsize=(8,6))\n",
    "sns.displot(data=dfa_eda, x='mort_acc', bins=20, kde=True, palette='pastel')\n",
    "\n",
    "# Set title, label, legend\n",
    "plt.title('Distribution of `mort_acc` column')\n",
    "plt.xlabel('Mortgage Accounts')\n",
    "\n",
    "# Show plot\n",
    "plt.show()"
   ]
  },
  {
   "cell_type": "markdown",
   "id": "5c4433f6",
   "metadata": {},
   "source": [
    "The distribution seems to be right-skewed."
   ]
  },
  {
   "cell_type": "code",
   "execution_count": 26,
   "id": "6dfbbeba",
   "metadata": {
    "ExecuteTime": {
     "end_time": "2022-09-02T04:29:10.613959Z",
     "start_time": "2022-09-02T04:29:10.424804Z"
    }
   },
   "outputs": [
    {
     "data": {
      "image/png": "[encoded data removed]",
      "text/plain": [
       "<Figure size 600x400 with 1 Axes>"
      ]
     },
     "metadata": {},
     "output_type": "display_data"
    }
   ],
   "source": [
    "# Check distribution\n",
    "\n",
    "# Create plot\n",
    "plt.figure(figsize=(6,4))\n",
    "sns.boxplot(data=dfa_eda, x='mort_acc', palette='pastel')\n",
    "\n",
    "# Set title, label, legend\n",
    "plt.title('Distribution of `mort_acc` column')\n",
    "plt.xlabel('Mortgage Accounts')\n",
    "\n",
    "# Show plot\n",
    "plt.show()"
   ]
  },
  {
   "cell_type": "markdown",
   "id": "b210e1eb",
   "metadata": {},
   "source": [
    "There are outliers in the column."
   ]
  },
  {
   "cell_type": "code",
   "execution_count": 27,
   "id": "aa4bad5b",
   "metadata": {
    "ExecuteTime": {
     "end_time": "2022-09-02T04:29:10.685652Z",
     "start_time": "2022-09-02T04:29:10.616086Z"
    }
   },
   "outputs": [
    {
     "data": {
      "text/plain": [
       "count    2.089928e+06\n",
       "mean     1.542400e+00\n",
       "std      1.910258e+00\n",
       "min      0.000000e+00\n",
       "25%      0.000000e+00\n",
       "50%      1.000000e+00\n",
       "75%      3.000000e+00\n",
       "max      9.400000e+01\n",
       "Name: mort_acc, dtype: float64"
      ]
     },
     "execution_count": 27,
     "metadata": {},
     "output_type": "execute_result"
    }
   ],
   "source": [
    "# Check details\n",
    "dfa_eda['mort_acc'].describe()"
   ]
  },
  {
   "cell_type": "markdown",
   "id": "a1aea686",
   "metadata": {},
   "source": [
    "- Minimum number of mortgage accounts is 0\n",
    "- Highest number of mortgage accounts is 94\n",
    "- Mean number of mortgage accounts is ~1.54\n",
    "\n",
    "We could try to remove some outliers here, but we are not sure on what parameters. We might end up removing important data.\n",
    "\n",
    "✅ We will keep the `mort_acc` column for now."
   ]
  },
  {
   "cell_type": "markdown",
   "id": "60325e41",
   "metadata": {},
   "source": [
    "---\n",
    "<a id=\"2.4\"></a>\n",
    "#### 2.4 `num_sats` column"
   ]
  },
  {
   "cell_type": "markdown",
   "id": "64ed8f7f",
   "metadata": {},
   "source": [
    "This column shows the number of satisfactory accounts."
   ]
  },
  {
   "cell_type": "markdown",
   "id": "0037a43c",
   "metadata": {},
   "source": [
    "Let us first check for null values."
   ]
  },
  {
   "cell_type": "code",
   "execution_count": 28,
   "id": "21257446",
   "metadata": {
    "ExecuteTime": {
     "end_time": "2022-09-02T04:29:10.705935Z",
     "start_time": "2022-09-02T04:29:10.698747Z"
    }
   },
   "outputs": [
    {
     "data": {
      "text/plain": [
       "8560"
      ]
     },
     "execution_count": 28,
     "metadata": {},
     "output_type": "execute_result"
    }
   ],
   "source": [
    "# Check for null values\n",
    "dfa_eda['num_sats'].isna().sum()"
   ]
  },
  {
   "cell_type": "code",
   "execution_count": 29,
   "id": "5573b00e",
   "metadata": {
    "ExecuteTime": {
     "end_time": "2022-09-02T04:29:10.717215Z",
     "start_time": "2022-09-02T04:29:10.708185Z"
    }
   },
   "outputs": [
    {
     "data": {
      "text/plain": [
       "(0.4095834880436073, 2089928)"
      ]
     },
     "execution_count": 29,
     "metadata": {},
     "output_type": "execute_result"
    }
   ],
   "source": [
    "# Check for null values percent\n",
    "((dfa_eda['num_sats'].isna().sum() / dfa_eda.shape[0]) * 100), dfa_eda.shape[0]"
   ]
  },
  {
   "cell_type": "markdown",
   "id": "53f7e21b",
   "metadata": {},
   "source": [
    "8560 (~0.41%) rows have null values. We will drop these rows for now."
   ]
  },
  {
   "cell_type": "code",
   "execution_count": 30,
   "id": "052113b7",
   "metadata": {
    "ExecuteTime": {
     "end_time": "2022-09-02T04:29:11.053627Z",
     "start_time": "2022-09-02T04:29:10.719255Z"
    }
   },
   "outputs": [],
   "source": [
    "# Drop null values\n",
    "dfa_eda.dropna(subset=['num_sats'], inplace=True)"
   ]
  },
  {
   "cell_type": "code",
   "execution_count": 31,
   "id": "e16cca30",
   "metadata": {
    "ExecuteTime": {
     "end_time": "2022-09-02T04:29:11.064789Z",
     "start_time": "2022-09-02T04:29:11.057090Z"
    }
   },
   "outputs": [
    {
     "data": {
      "text/plain": [
       "0"
      ]
     },
     "execution_count": 31,
     "metadata": {},
     "output_type": "execute_result"
    }
   ],
   "source": [
    "# Check for null values\n",
    "dfa_eda['num_sats'].isna().sum()"
   ]
  },
  {
   "cell_type": "markdown",
   "id": "1043f140",
   "metadata": {},
   "source": [
    "There are no more null values in the `num_sats` column."
   ]
  },
  {
   "cell_type": "code",
   "execution_count": 32,
   "id": "f500b17b",
   "metadata": {
    "ExecuteTime": {
     "end_time": "2022-09-02T04:29:11.148743Z",
     "start_time": "2022-09-02T04:29:11.066572Z"
    }
   },
   "outputs": [
    {
     "data": {
      "text/plain": [
       "372145      5.0\n",
       "61841      18.0\n",
       "2068652     5.0\n",
       "2058105     7.0\n",
       "174192     14.0\n",
       "Name: num_sats, dtype: float64"
      ]
     },
     "execution_count": 32,
     "metadata": {},
     "output_type": "execute_result"
    }
   ],
   "source": [
    "# Check sample\n",
    "dfa_eda['num_sats'].sample(5)"
   ]
  },
  {
   "cell_type": "markdown",
   "id": "91edd6bb",
   "metadata": {},
   "source": [
    "This is a numerical column."
   ]
  },
  {
   "cell_type": "markdown",
   "id": "0ed82b3e",
   "metadata": {},
   "source": [
    "Let us try to visualize the data."
   ]
  },
  {
   "cell_type": "code",
   "execution_count": 33,
   "id": "4e01c8ef",
   "metadata": {
    "ExecuteTime": {
     "end_time": "2022-09-02T04:29:15.590467Z",
     "start_time": "2022-09-02T04:29:11.150796Z"
    }
   },
   "outputs": [
    {
     "data": {
      "text/plain": [
       "<Figure size 800x600 with 0 Axes>"
      ]
     },
     "metadata": {},
     "output_type": "display_data"
    },
    {
     "data": {
      "image/png": "[encoded data removed]",
      "text/plain": [
       "<Figure size 500x500 with 1 Axes>"
      ]
     },
     "metadata": {},
     "output_type": "display_data"
    }
   ],
   "source": [
    "# Check distribution\n",
    "\n",
    "# Create plot\n",
    "plt.figure(figsize=(8,6))\n",
    "sns.displot(data=dfa_eda, x='num_sats', bins=20, kde=True, palette='pastel')\n",
    "\n",
    "# Set title, label, legend\n",
    "plt.title('Distribution of `num_sats` column')\n",
    "plt.xlabel('Satisfactory Accounts')\n",
    "\n",
    "# Show plot\n",
    "plt.show()"
   ]
  },
  {
   "cell_type": "markdown",
   "id": "8cfebeaf",
   "metadata": {},
   "source": [
    "The distribution seems to be right-skewed."
   ]
  },
  {
   "cell_type": "code",
   "execution_count": 34,
   "id": "af7c89ae",
   "metadata": {
    "ExecuteTime": {
     "end_time": "2022-09-02T04:29:15.858258Z",
     "start_time": "2022-09-02T04:29:15.592417Z"
    }
   },
   "outputs": [
    {
     "data": {
      "image/png": "[encoded data removed]",
      "text/plain": [
       "<Figure size 600x400 with 1 Axes>"
      ]
     },
     "metadata": {},
     "output_type": "display_data"
    }
   ],
   "source": [
    "# Check distribution\n",
    "\n",
    "# Create plot\n",
    "plt.figure(figsize=(6,4))\n",
    "sns.boxplot(data=dfa_eda, x='num_sats', palette='pastel')\n",
    "\n",
    "# Set title, label, legend\n",
    "plt.title('Distribution of `num_sats` column')\n",
    "plt.xlabel('Satisfactory Accounts')\n",
    "\n",
    "# Show plot\n",
    "plt.show()"
   ]
  },
  {
   "cell_type": "markdown",
   "id": "29ed8a4c",
   "metadata": {},
   "source": [
    "There are outliers in the column."
   ]
  },
  {
   "cell_type": "code",
   "execution_count": 35,
   "id": "fae63fea",
   "metadata": {
    "ExecuteTime": {
     "end_time": "2022-09-02T04:29:15.928722Z",
     "start_time": "2022-09-02T04:29:15.860118Z"
    }
   },
   "outputs": [
    {
     "data": {
      "text/plain": [
       "count    2.081368e+06\n",
       "mean     1.165783e+01\n",
       "std      5.646908e+00\n",
       "min      0.000000e+00\n",
       "25%      8.000000e+00\n",
       "50%      1.100000e+01\n",
       "75%      1.400000e+01\n",
       "max      1.010000e+02\n",
       "Name: num_sats, dtype: float64"
      ]
     },
     "execution_count": 35,
     "metadata": {},
     "output_type": "execute_result"
    }
   ],
   "source": [
    "# Check details\n",
    "dfa_eda['num_sats'].describe()"
   ]
  },
  {
   "cell_type": "markdown",
   "id": "5d75f06c",
   "metadata": {},
   "source": [
    "- Minimum number of satisfactory accounts is 0\n",
    "- Highest number of satisfactory accounts is 101\n",
    "- Mean number of satisfactory accounts is ~11.66\n",
    "\n",
    "We could try to remove some outliers, but we are not sure on what parameters. We might end up removing important data.\n",
    "\n",
    "✅ We will keep the `num_sats` column for now."
   ]
  },
  {
   "cell_type": "markdown",
   "id": "0f15d619",
   "metadata": {},
   "source": [
    "---\n",
    "<a id=\"2.5\"></a>\n",
    "#### 2.5 `num_bc_sats` column"
   ]
  },
  {
   "cell_type": "markdown",
   "id": "d9e09a1c",
   "metadata": {},
   "source": [
    "This column shows the number of satisfactory bankcard accounts."
   ]
  },
  {
   "cell_type": "markdown",
   "id": "d9ca023b",
   "metadata": {},
   "source": [
    "Let us first check for null values."
   ]
  },
  {
   "cell_type": "code",
   "execution_count": 36,
   "id": "2e65b646",
   "metadata": {
    "ExecuteTime": {
     "end_time": "2022-09-02T04:29:15.937030Z",
     "start_time": "2022-09-02T04:29:15.930545Z"
    }
   },
   "outputs": [
    {
     "data": {
      "text/plain": [
       "0"
      ]
     },
     "execution_count": 36,
     "metadata": {},
     "output_type": "execute_result"
    }
   ],
   "source": [
    "# Check for null values\n",
    "dfa_eda['num_bc_sats'].isna().sum()"
   ]
  },
  {
   "cell_type": "markdown",
   "id": "a6015c3c",
   "metadata": {},
   "source": [
    "There are no null values in the `num_sats` column."
   ]
  },
  {
   "cell_type": "code",
   "execution_count": 37,
   "id": "9c7ef8d1",
   "metadata": {
    "ExecuteTime": {
     "end_time": "2022-09-02T04:29:16.022433Z",
     "start_time": "2022-09-02T04:29:15.939187Z"
    }
   },
   "outputs": [
    {
     "data": {
      "text/plain": [
       "1008779    6.0\n",
       "2251345    5.0\n",
       "1039270    8.0\n",
       "410250     1.0\n",
       "143622     4.0\n",
       "Name: num_bc_sats, dtype: float64"
      ]
     },
     "execution_count": 37,
     "metadata": {},
     "output_type": "execute_result"
    }
   ],
   "source": [
    "# Check sample\n",
    "dfa_eda['num_bc_sats'].sample(5)"
   ]
  },
  {
   "cell_type": "markdown",
   "id": "823b205c",
   "metadata": {},
   "source": [
    "This is a numerical column."
   ]
  },
  {
   "cell_type": "markdown",
   "id": "06350a03",
   "metadata": {},
   "source": [
    "Let us try to visualize the data."
   ]
  },
  {
   "cell_type": "code",
   "execution_count": 38,
   "id": "e829914f",
   "metadata": {
    "ExecuteTime": {
     "end_time": "2022-09-02T04:29:20.016120Z",
     "start_time": "2022-09-02T04:29:16.025131Z"
    }
   },
   "outputs": [
    {
     "data": {
      "text/plain": [
       "<Figure size 800x600 with 0 Axes>"
      ]
     },
     "metadata": {},
     "output_type": "display_data"
    },
    {
     "data": {
      "image/png": "[encoded data removed]",
      "text/plain": [
       "<Figure size 500x500 with 1 Axes>"
      ]
     },
     "metadata": {},
     "output_type": "display_data"
    }
   ],
   "source": [
    "# Check distribution\n",
    "\n",
    "# Create plot\n",
    "plt.figure(figsize=(8,6))\n",
    "sns.displot(data=dfa_eda, x='num_bc_sats', bins=20, kde=True, palette='pastel')\n",
    "\n",
    "# Set title, label, legend\n",
    "plt.title('Distribution of `num_bc_sats` column')\n",
    "plt.xlabel('Satisfactory Bankcard Accounts')\n",
    "\n",
    "# Show plot\n",
    "plt.show()"
   ]
  },
  {
   "cell_type": "markdown",
   "id": "efadb3bd",
   "metadata": {},
   "source": [
    "The distribution seems to be right-skewed."
   ]
  },
  {
   "cell_type": "code",
   "execution_count": 39,
   "id": "39a233a4",
   "metadata": {
    "ExecuteTime": {
     "end_time": "2022-09-02T04:29:20.324616Z",
     "start_time": "2022-09-02T04:29:20.018234Z"
    }
   },
   "outputs": [
    {
     "data": {
      "image/png": "[encoded data removed]",
      "text/plain": [
       "<Figure size 600x400 with 1 Axes>"
      ]
     },
     "metadata": {},
     "output_type": "display_data"
    }
   ],
   "source": [
    "# Check distribution\n",
    "\n",
    "# Create plot\n",
    "plt.figure(figsize=(6,4))\n",
    "sns.boxplot(data=dfa_eda, x='num_bc_sats', palette='pastel')\n",
    "\n",
    "# Set title, label, legend\n",
    "plt.title('Distribution of `num_bc_sats` column')\n",
    "plt.xlabel('Satisfactory Bankcard Accounts')\n",
    "\n",
    "# Show plot\n",
    "plt.show()"
   ]
  },
  {
   "cell_type": "markdown",
   "id": "086cfd52",
   "metadata": {},
   "source": [
    "There are outliers in the column."
   ]
  },
  {
   "cell_type": "code",
   "execution_count": 40,
   "id": "7af9ced6",
   "metadata": {
    "ExecuteTime": {
     "end_time": "2022-09-02T04:29:20.400760Z",
     "start_time": "2022-09-02T04:29:20.326780Z"
    }
   },
   "outputs": [
    {
     "data": {
      "text/plain": [
       "count    2.081368e+06\n",
       "mean     4.808601e+00\n",
       "std      3.047527e+00\n",
       "min      0.000000e+00\n",
       "25%      3.000000e+00\n",
       "50%      4.000000e+00\n",
       "75%      6.000000e+00\n",
       "max      7.100000e+01\n",
       "Name: num_bc_sats, dtype: float64"
      ]
     },
     "execution_count": 40,
     "metadata": {},
     "output_type": "execute_result"
    }
   ],
   "source": [
    "# Check details\n",
    "dfa_eda['num_bc_sats'].describe()"
   ]
  },
  {
   "cell_type": "markdown",
   "id": "a782c15f",
   "metadata": {},
   "source": [
    "- Minimum number of satisfactory bankcard accounts is 0\n",
    "- Highest number of satisfactory bankcard accounts is 71\n",
    "- Mean number of satisfactory bankcard accounts is ~4.81\n",
    "\n",
    "We could try to remove some outliers, but we are not sure on what parameters. We might end up removing important data.\n",
    "\n",
    "✅ We will keep the `num_bc_sats` column for now."
   ]
  },
  {
   "cell_type": "markdown",
   "id": "b564c8db",
   "metadata": {},
   "source": [
    "**Before we proceed, let us take a look at remaining null values in data frame.**"
   ]
  },
  {
   "cell_type": "code",
   "execution_count": 41,
   "id": "08273ccd",
   "metadata": {
    "ExecuteTime": {
     "end_time": "2022-09-02T04:29:21.951648Z",
     "start_time": "2022-09-02T04:29:20.402541Z"
    }
   },
   "outputs": [
    {
     "data": {
      "text/plain": [
       "int_rate                0\n",
       "loan_amnt               0\n",
       "term                    0\n",
       "purpose                 0\n",
       "annual_inc              0\n",
       "verification_status     0\n",
       "home_ownership          0\n",
       "zip_code                1\n",
       "addr_state              0\n",
       "dti                     0\n",
       "fico_range_low          0\n",
       "fico_range_high         0\n",
       "pub_rec                 0\n",
       "pub_rec_bankruptcies    0\n",
       "open_acc                0\n",
       "total_acc               0\n",
       "mort_acc                0\n",
       "num_sats                0\n",
       "num_bc_sats             0\n",
       "tax_liens               0\n",
       "disbursement_method     0\n",
       "dtype: int64"
      ]
     },
     "execution_count": 41,
     "metadata": {},
     "output_type": "execute_result"
    }
   ],
   "source": [
    "# Check for null values\n",
    "dfa_eda.isna().sum()"
   ]
  },
  {
   "cell_type": "markdown",
   "id": "d4afdb9b",
   "metadata": {},
   "source": [
    "Only `zip_code` column has 1 remaining null value. Let us fix that next."
   ]
  },
  {
   "cell_type": "markdown",
   "id": "7349a9f1",
   "metadata": {},
   "source": [
    "---\n",
    "<a id=\"2.6\"></a>\n",
    "#### 2.6 `zip_code` column"
   ]
  },
  {
   "cell_type": "markdown",
   "id": "4796f15e",
   "metadata": {},
   "source": [
    "This column shows the first three numbers of the zip code provided by the borrower in the loan application."
   ]
  },
  {
   "cell_type": "markdown",
   "id": "33ead76e",
   "metadata": {},
   "source": [
    "Let us first check for null values."
   ]
  },
  {
   "cell_type": "code",
   "execution_count": 42,
   "id": "5dc12488",
   "metadata": {
    "ExecuteTime": {
     "end_time": "2022-09-02T04:29:22.031320Z",
     "start_time": "2022-09-02T04:29:21.953314Z"
    }
   },
   "outputs": [
    {
     "data": {
      "text/plain": [
       "1"
      ]
     },
     "execution_count": 42,
     "metadata": {},
     "output_type": "execute_result"
    }
   ],
   "source": [
    "# Check for null values\n",
    "dfa_eda['zip_code'].isna().sum()"
   ]
  },
  {
   "cell_type": "markdown",
   "id": "4ffe6aa7",
   "metadata": {},
   "source": [
    "There is one row with null values. We can drop this single row."
   ]
  },
  {
   "cell_type": "code",
   "execution_count": 43,
   "id": "d086e9f7",
   "metadata": {
    "ExecuteTime": {
     "end_time": "2022-09-02T04:29:22.577038Z",
     "start_time": "2022-09-02T04:29:22.032908Z"
    }
   },
   "outputs": [],
   "source": [
    "# Drop null values\n",
    "dfa_eda.dropna(subset=['zip_code'], inplace=True)"
   ]
  },
  {
   "cell_type": "code",
   "execution_count": 44,
   "id": "fffdb8c2",
   "metadata": {
    "ExecuteTime": {
     "end_time": "2022-09-02T04:29:22.661925Z",
     "start_time": "2022-09-02T04:29:22.579116Z"
    }
   },
   "outputs": [
    {
     "data": {
      "text/plain": [
       "0"
      ]
     },
     "execution_count": 44,
     "metadata": {},
     "output_type": "execute_result"
    }
   ],
   "source": [
    "# Check for null values\n",
    "dfa_eda['zip_code'].isna().sum()"
   ]
  },
  {
   "cell_type": "markdown",
   "id": "6f31f6ec",
   "metadata": {},
   "source": [
    "There are no more null values in the `zip_code` column."
   ]
  },
  {
   "cell_type": "code",
   "execution_count": 45,
   "id": "c35d420b",
   "metadata": {
    "ExecuteTime": {
     "end_time": "2022-09-02T04:29:22.746088Z",
     "start_time": "2022-09-02T04:29:22.663658Z"
    }
   },
   "outputs": [
    {
     "data": {
      "text/plain": [
       "1289618    641xx\n",
       "528271     088xx\n",
       "645185     130xx\n",
       "1381764    945xx\n",
       "500839     941xx\n",
       "Name: zip_code, dtype: object"
      ]
     },
     "execution_count": 45,
     "metadata": {},
     "output_type": "execute_result"
    }
   ],
   "source": [
    "# Check sample\n",
    "dfa_eda['zip_code'].sample(5)"
   ]
  },
  {
   "cell_type": "markdown",
   "id": "9851fdbc",
   "metadata": {},
   "source": [
    "This is a categorical column.\n",
    "\n",
    "Let us look at total unique values."
   ]
  },
  {
   "cell_type": "code",
   "execution_count": 46,
   "id": "5f34f2ed",
   "metadata": {
    "ExecuteTime": {
     "end_time": "2022-09-02T04:29:22.844912Z",
     "start_time": "2022-09-02T04:29:22.748129Z"
    }
   },
   "outputs": [
    {
     "data": {
      "text/plain": [
       "953"
      ]
     },
     "execution_count": 46,
     "metadata": {},
     "output_type": "execute_result"
    }
   ],
   "source": [
    "# Check total unique values\n",
    "dfa_eda['zip_code'].nunique()"
   ]
  },
  {
   "cell_type": "markdown",
   "id": "c2a0170f",
   "metadata": {},
   "source": [
    "There are 953 unique values. It would not be practical to apply OneHotEncoder to this column.\n",
    "\n",
    "We cannot convert them to a numerical column as these are Nominal numbers.\n",
    "\n",
    "We could try to find ZIP-code based demographic data like average annual income or population and use it in our data set.\n",
    "\n",
    "However, for the time being, we will simply drop this column. In the futue, we would ideally want to utilize some ZIP-code base demographic data for our analysis.\n",
    "\n",
    "❌ We will drop the `zip_code` column for now."
   ]
  },
  {
   "cell_type": "code",
   "execution_count": 47,
   "id": "c2f91d17",
   "metadata": {
    "ExecuteTime": {
     "end_time": "2022-09-02T04:29:23.065633Z",
     "start_time": "2022-09-02T04:29:22.846843Z"
    }
   },
   "outputs": [],
   "source": [
    "# Drop column\n",
    "dfa_eda.drop(['zip_code'], axis=1, inplace=True)"
   ]
  },
  {
   "cell_type": "code",
   "execution_count": 48,
   "id": "0c2ddbb7",
   "metadata": {
    "ExecuteTime": {
     "end_time": "2022-09-02T04:29:23.070741Z",
     "start_time": "2022-09-02T04:29:23.067669Z"
    },
    "scrolled": true
   },
   "outputs": [
    {
     "name": "stdout",
     "output_type": "stream",
     "text": [
      "There are 2081367 rows and 20 columns.\n"
     ]
    }
   ],
   "source": [
    "# Check data frame shape\n",
    "print(f'There are {dfa_eda.shape[0]} rows and {dfa_eda.shape[1]} columns.')"
   ]
  },
  {
   "cell_type": "markdown",
   "id": "220226a5",
   "metadata": {},
   "source": [
    "---\n",
    "<a id=\"2.7\"></a>\n",
    "#### 2.7 `addr_state` column"
   ]
  },
  {
   "cell_type": "markdown",
   "id": "0231d909",
   "metadata": {},
   "source": [
    "This column shows the state provided by the borrower in the loan application."
   ]
  },
  {
   "cell_type": "markdown",
   "id": "f4ff15cd",
   "metadata": {},
   "source": [
    "**We have already cleared our data set of any null values. So, for remaining columns, we don't need to check for null values.**"
   ]
  },
  {
   "cell_type": "code",
   "execution_count": 49,
   "id": "55d2cf3a",
   "metadata": {
    "ExecuteTime": {
     "end_time": "2022-09-02T04:29:23.155444Z",
     "start_time": "2022-09-02T04:29:23.072846Z"
    }
   },
   "outputs": [
    {
     "data": {
      "text/plain": [
       "2046444    TN\n",
       "1397477    NY\n",
       "9937       MN\n",
       "639453     NY\n",
       "447873     MO\n",
       "Name: addr_state, dtype: object"
      ]
     },
     "execution_count": 49,
     "metadata": {},
     "output_type": "execute_result"
    }
   ],
   "source": [
    "# Check sample\n",
    "dfa_eda['addr_state'].sample(5)"
   ]
  },
  {
   "cell_type": "markdown",
   "id": "eaf318cd",
   "metadata": {},
   "source": [
    "This is a categorical column.\n",
    "\n",
    "Let us check for unique values."
   ]
  },
  {
   "cell_type": "code",
   "execution_count": 50,
   "id": "21f97b98",
   "metadata": {
    "ExecuteTime": {
     "end_time": "2022-09-02T04:29:23.245351Z",
     "start_time": "2022-09-02T04:29:23.158002Z"
    }
   },
   "outputs": [
    {
     "data": {
      "text/plain": [
       "array(['PA', 'SD', 'NJ', 'GA', 'MN', 'SC', 'RI', 'TX', 'NC', 'CA', 'VA',\n",
       "       'AZ', 'NY', 'IN', 'MD', 'KS', 'NM', 'AL', 'WA', 'MO', 'OH', 'LA',\n",
       "       'IL', 'FL', 'CO', 'MI', 'TN', 'DC', 'MA', 'WI', 'HI', 'VT', 'DE',\n",
       "       'NH', 'NE', 'CT', 'OR', 'AR', 'NV', 'WV', 'MT', 'WY', 'OK', 'KY',\n",
       "       'MS', 'ME', 'UT', 'ND', 'AK', 'ID', 'IA'], dtype=object)"
      ]
     },
     "execution_count": 50,
     "metadata": {},
     "output_type": "execute_result"
    }
   ],
   "source": [
    "# Check for unique values\n",
    "dfa_eda['addr_state'].unique()"
   ]
  },
  {
   "cell_type": "code",
   "execution_count": 51,
   "id": "74396b29",
   "metadata": {
    "ExecuteTime": {
     "end_time": "2022-09-02T04:29:23.326404Z",
     "start_time": "2022-09-02T04:29:23.247213Z"
    }
   },
   "outputs": [
    {
     "data": {
      "text/plain": [
       "51"
      ]
     },
     "execution_count": 51,
     "metadata": {},
     "output_type": "execute_result"
    }
   ],
   "source": [
    "# Check for total unique values\n",
    "dfa_eda['addr_state'].nunique()"
   ]
  },
  {
   "cell_type": "markdown",
   "id": "d9482a1f",
   "metadata": {},
   "source": [
    "There are 51 unique values in this column. They align with the fact that USA has 50 states. In the data frame, Washignton DC has been included as a state.\n",
    "\n",
    "It would not be practical to apply OneHotEncoder to this column that has 51 unique values.\n",
    "\n",
    "Just like the `zip_code` column above, ideally, we would want to utilize some state-based demographic data for our analysis. However, for the time being, we will simply drop this column.\n",
    "\n",
    "❌ We will drop the `addr_state` column for now."
   ]
  },
  {
   "cell_type": "code",
   "execution_count": 52,
   "id": "fec0ee8f",
   "metadata": {
    "ExecuteTime": {
     "end_time": "2022-09-02T04:29:23.533793Z",
     "start_time": "2022-09-02T04:29:23.328376Z"
    }
   },
   "outputs": [],
   "source": [
    "# Drop column\n",
    "dfa_eda.drop(['addr_state'], axis=1, inplace=True)"
   ]
  },
  {
   "cell_type": "code",
   "execution_count": 53,
   "id": "c473393f",
   "metadata": {
    "ExecuteTime": {
     "end_time": "2022-09-02T04:29:23.538796Z",
     "start_time": "2022-09-02T04:29:23.535889Z"
    },
    "scrolled": true
   },
   "outputs": [
    {
     "name": "stdout",
     "output_type": "stream",
     "text": [
      "There are 2081367 rows and 19 columns.\n"
     ]
    }
   ],
   "source": [
    "# Check data frame shape\n",
    "print(f'There are {dfa_eda.shape[0]} rows and {dfa_eda.shape[1]} columns.')"
   ]
  },
  {
   "cell_type": "markdown",
   "id": "9f1b876c",
   "metadata": {},
   "source": [
    "---\n",
    "<a id=\"2.8\"></a>\n",
    "#### 2.8 `int_rate` column"
   ]
  },
  {
   "cell_type": "markdown",
   "id": "f7652a53",
   "metadata": {},
   "source": [
    "This column shows the interest rate on the loans.\n",
    "\n",
    "**This is our target column - this is what we will be predicting.**"
   ]
  },
  {
   "cell_type": "code",
   "execution_count": 54,
   "id": "6a060426",
   "metadata": {
    "ExecuteTime": {
     "end_time": "2022-09-02T04:29:23.624217Z",
     "start_time": "2022-09-02T04:29:23.541274Z"
    }
   },
   "outputs": [
    {
     "data": {
      "text/plain": [
       "1843327    19.05\n",
       "554827     11.99\n",
       "166675     14.65\n",
       "46694      13.67\n",
       "1038249    14.46\n",
       "Name: int_rate, dtype: float64"
      ]
     },
     "execution_count": 54,
     "metadata": {},
     "output_type": "execute_result"
    }
   ],
   "source": [
    "# Check sample\n",
    "dfa_eda['int_rate'].sample(5)"
   ]
  },
  {
   "cell_type": "markdown",
   "id": "6f35aa2e",
   "metadata": {},
   "source": [
    "This is a numerical column."
   ]
  },
  {
   "cell_type": "markdown",
   "id": "6d79bd56",
   "metadata": {},
   "source": [
    "Let us now try to visualize the data."
   ]
  },
  {
   "cell_type": "code",
   "execution_count": 55,
   "id": "43604274",
   "metadata": {
    "ExecuteTime": {
     "end_time": "2022-09-02T04:29:29.793538Z",
     "start_time": "2022-09-02T04:29:23.626194Z"
    }
   },
   "outputs": [
    {
     "data": {
      "text/plain": [
       "<Figure size 800x600 with 0 Axes>"
      ]
     },
     "metadata": {},
     "output_type": "display_data"
    },
    {
     "data": {
      "image/png": "[encoded data removed]",
      "text/plain": [
       "<Figure size 500x500 with 1 Axes>"
      ]
     },
     "metadata": {},
     "output_type": "display_data"
    }
   ],
   "source": [
    "# Check distribution\n",
    "\n",
    "# Create plot\n",
    "plt.figure(figsize=(8,6))\n",
    "sns.displot(data=dfa_eda, x='int_rate', bins=20, kde=True, palette='pastel')\n",
    "\n",
    "# Set title, label, legend\n",
    "plt.title('Distribution of `int_rate` column')\n",
    "plt.xlabel('Interest Rate')\n",
    "\n",
    "# Show plot\n",
    "plt.show()"
   ]
  },
  {
   "cell_type": "markdown",
   "id": "f529179c",
   "metadata": {},
   "source": [
    "The distribution seems to be right-skewed."
   ]
  },
  {
   "cell_type": "code",
   "execution_count": 56,
   "id": "d3602adc",
   "metadata": {
    "ExecuteTime": {
     "end_time": "2022-09-02T04:29:30.018571Z",
     "start_time": "2022-09-02T04:29:29.795706Z"
    },
    "scrolled": true
   },
   "outputs": [
    {
     "data": {
      "image/png": "[encoded data removed]",
      "text/plain": [
       "<Figure size 600x400 with 1 Axes>"
      ]
     },
     "metadata": {},
     "output_type": "display_data"
    }
   ],
   "source": [
    "# Check distribution\n",
    "\n",
    "# Create plot\n",
    "plt.figure(figsize=(6,4))\n",
    "sns.boxplot(data=dfa_eda, x='int_rate', palette='pastel')\n",
    "\n",
    "# Set title, label, legend\n",
    "plt.title('Distribution of `int_rate` column')\n",
    "plt.xlabel('Interest Rate')\n",
    "\n",
    "# Show plot\n",
    "plt.show()"
   ]
  },
  {
   "cell_type": "markdown",
   "id": "446641ac",
   "metadata": {},
   "source": [
    "There are outliers in the column."
   ]
  },
  {
   "cell_type": "code",
   "execution_count": 57,
   "id": "0accac86",
   "metadata": {
    "ExecuteTime": {
     "end_time": "2022-09-02T04:29:30.095541Z",
     "start_time": "2022-09-02T04:29:30.020345Z"
    }
   },
   "outputs": [
    {
     "data": {
      "text/plain": [
       "count    2.081367e+06\n",
       "mean     1.308039e+01\n",
       "std      4.817310e+00\n",
       "min      5.310000e+00\n",
       "25%      9.490000e+00\n",
       "50%      1.262000e+01\n",
       "75%      1.599000e+01\n",
       "max      3.099000e+01\n",
       "Name: int_rate, dtype: float64"
      ]
     },
     "execution_count": 57,
     "metadata": {},
     "output_type": "execute_result"
    }
   ],
   "source": [
    "# Check details\n",
    "dfa_eda['int_rate'].describe()"
   ]
  },
  {
   "cell_type": "markdown",
   "id": "06dfb282",
   "metadata": {},
   "source": [
    "- Lowest interest rate is ~5.31%\n",
    "- Highest interest rate is ~30.99%\n",
    "- Mean interest rate is ~13.08%\n",
    "\n",
    "We will not make any changes to this column as it is our target column.\n",
    "\n",
    "✅ We will keep the `int_rate` column for now."
   ]
  },
  {
   "cell_type": "markdown",
   "id": "070f23a4",
   "metadata": {},
   "source": [
    "---\n",
    "<a id=\"2.9\"></a>\n",
    "#### 2.9 `loan_amnt` column"
   ]
  },
  {
   "cell_type": "markdown",
   "id": "1c907eaf",
   "metadata": {},
   "source": [
    "This column shows the listed amount of the loan applied for by the borrower."
   ]
  },
  {
   "cell_type": "code",
   "execution_count": 58,
   "id": "63f54e35",
   "metadata": {
    "ExecuteTime": {
     "end_time": "2022-09-02T04:29:30.181998Z",
     "start_time": "2022-09-02T04:29:30.097243Z"
    }
   },
   "outputs": [
    {
     "data": {
      "text/plain": [
       "233151     25000.0\n",
       "55893      14000.0\n",
       "1230410    29000.0\n",
       "976577     18000.0\n",
       "946868      4600.0\n",
       "Name: loan_amnt, dtype: float64"
      ]
     },
     "execution_count": 58,
     "metadata": {},
     "output_type": "execute_result"
    }
   ],
   "source": [
    "# Check sample\n",
    "dfa_eda['loan_amnt'].sample(5)"
   ]
  },
  {
   "cell_type": "markdown",
   "id": "d060d81e",
   "metadata": {},
   "source": [
    "This is a numerical column."
   ]
  },
  {
   "cell_type": "markdown",
   "id": "9fc954c9",
   "metadata": {},
   "source": [
    "Let us now try to visualize the data."
   ]
  },
  {
   "cell_type": "code",
   "execution_count": 59,
   "id": "9a3cd942",
   "metadata": {
    "ExecuteTime": {
     "end_time": "2022-09-02T04:29:36.569048Z",
     "start_time": "2022-09-02T04:29:30.183869Z"
    },
    "scrolled": true
   },
   "outputs": [
    {
     "data": {
      "text/plain": [
       "<Figure size 800x600 with 0 Axes>"
      ]
     },
     "metadata": {},
     "output_type": "display_data"
    },
    {
     "data": {
      "image/png": "[encoded data removed]",
      "text/plain": [
       "<Figure size 500x500 with 1 Axes>"
      ]
     },
     "metadata": {},
     "output_type": "display_data"
    }
   ],
   "source": [
    "# Check distribution\n",
    "\n",
    "# Create plot\n",
    "plt.figure(figsize=(8,6))\n",
    "sns.displot(data=dfa_eda, x='loan_amnt', bins=20, kde=True, palette='pastel')\n",
    "\n",
    "# Set title, label, legend\n",
    "plt.title('Distribution of `loan_amnt` column')\n",
    "plt.xlabel('Loan Amount')\n",
    "\n",
    "# Show plot\n",
    "plt.show()"
   ]
  },
  {
   "cell_type": "markdown",
   "id": "3eafcb40",
   "metadata": {},
   "source": [
    "The distribution seems to be right-skewed."
   ]
  },
  {
   "cell_type": "code",
   "execution_count": 60,
   "id": "49066540",
   "metadata": {
    "ExecuteTime": {
     "end_time": "2022-09-02T04:29:36.881531Z",
     "start_time": "2022-09-02T04:29:36.571149Z"
    },
    "scrolled": true
   },
   "outputs": [
    {
     "data": {
      "image/png": "[encoded data removed]",
      "text/plain": [
       "<Figure size 600x400 with 1 Axes>"
      ]
     },
     "metadata": {},
     "output_type": "display_data"
    }
   ],
   "source": [
    "# Check distribution\n",
    "\n",
    "# Create plot\n",
    "plt.figure(figsize=(6,4))\n",
    "sns.boxplot(data=dfa_eda, x='loan_amnt', palette='pastel')\n",
    "\n",
    "# Set title, label, legend\n",
    "plt.title('Distribution of `loan_amnt` column')\n",
    "plt.xlabel('Loan Amount')\n",
    "\n",
    "# Show plot\n",
    "plt.show()"
   ]
  },
  {
   "cell_type": "markdown",
   "id": "7699a42d",
   "metadata": {},
   "source": [
    "There are outliers in the column."
   ]
  },
  {
   "cell_type": "code",
   "execution_count": 61,
   "id": "ea9596d4",
   "metadata": {
    "ExecuteTime": {
     "end_time": "2022-09-02T04:29:36.953914Z",
     "start_time": "2022-09-02T04:29:36.883188Z"
    }
   },
   "outputs": [
    {
     "data": {
      "text/plain": [
       "count    2.081367e+06\n",
       "mean     1.487434e+04\n",
       "std      9.055213e+03\n",
       "min      1.000000e+03\n",
       "25%      8.000000e+03\n",
       "50%      1.250000e+04\n",
       "75%      2.000000e+04\n",
       "max      4.000000e+04\n",
       "Name: loan_amnt, dtype: float64"
      ]
     },
     "execution_count": 61,
     "metadata": {},
     "output_type": "execute_result"
    }
   ],
   "source": [
    "# Check details\n",
    "dfa_eda['loan_amnt'].describe()"
   ]
  },
  {
   "cell_type": "markdown",
   "id": "ef6677ce",
   "metadata": {},
   "source": [
    "- Minimum loan amount is \\\\$1000\n",
    "- Maximum loan amount is ~\\\\$40k (\\\\$40,000)\n",
    "- Mean loan amount is ~\\\\$15k (\\\\$14,874.34)\n",
    "\n",
    "We could try to remove some outliers, but we are not sure on what parameters. We might end up removing important data.\n",
    "\n",
    "✅ We will keep the `loan_amnt` column for now."
   ]
  },
  {
   "cell_type": "markdown",
   "id": "d6b20194",
   "metadata": {},
   "source": [
    "---\n",
    "<a id=\"2.10\"></a>\n",
    "#### 2.10 `term` column"
   ]
  },
  {
   "cell_type": "markdown",
   "id": "9b9b43b2",
   "metadata": {},
   "source": [
    "This column shows the term or number of payments of the loan."
   ]
  },
  {
   "cell_type": "code",
   "execution_count": 62,
   "id": "ba173956",
   "metadata": {
    "ExecuteTime": {
     "end_time": "2022-09-02T04:29:37.038972Z",
     "start_time": "2022-09-02T04:29:36.955880Z"
    }
   },
   "outputs": [
    {
     "data": {
      "text/plain": [
       "385649      36 months\n",
       "1765348     36 months\n",
       "973918      36 months\n",
       "574648      36 months\n",
       "2179439     36 months\n",
       "Name: term, dtype: object"
      ]
     },
     "execution_count": 62,
     "metadata": {},
     "output_type": "execute_result"
    }
   ],
   "source": [
    "# Check sample\n",
    "dfa_eda['term'].sample(5)"
   ]
  },
  {
   "cell_type": "markdown",
   "id": "2999f744",
   "metadata": {},
   "source": [
    "This is a categorical column.\n",
    "\n",
    "Let us check for unique values."
   ]
  },
  {
   "cell_type": "code",
   "execution_count": 63,
   "id": "056dd4b8",
   "metadata": {
    "ExecuteTime": {
     "end_time": "2022-09-02T04:29:37.137688Z",
     "start_time": "2022-09-02T04:29:37.041889Z"
    }
   },
   "outputs": [
    {
     "data": {
      "text/plain": [
       "array([' 36 months', ' 60 months'], dtype=object)"
      ]
     },
     "execution_count": 63,
     "metadata": {},
     "output_type": "execute_result"
    }
   ],
   "source": [
    "# Check for unique values\n",
    "dfa_eda['term'].unique()"
   ]
  },
  {
   "cell_type": "markdown",
   "id": "9c193228",
   "metadata": {},
   "source": [
    "There are two categories of loan term:\n",
    "- 36 months (3 years)\n",
    "- 60 months (5 years)\n",
    "\n",
    "We also notice whitespace at the start of each string. We need to remove the whitespace."
   ]
  },
  {
   "cell_type": "code",
   "execution_count": 64,
   "id": "0f9218dd",
   "metadata": {
    "ExecuteTime": {
     "end_time": "2022-09-02T04:29:37.740441Z",
     "start_time": "2022-09-02T04:29:37.139853Z"
    }
   },
   "outputs": [],
   "source": [
    "# Remove whitespace\n",
    "dfa_eda['term'] = dfa_eda['term'].str.lstrip()"
   ]
  },
  {
   "cell_type": "code",
   "execution_count": 65,
   "id": "452af8ef",
   "metadata": {
    "ExecuteTime": {
     "end_time": "2022-09-02T04:29:37.849870Z",
     "start_time": "2022-09-02T04:29:37.742851Z"
    }
   },
   "outputs": [
    {
     "data": {
      "text/plain": [
       "array(['36 months', '60 months'], dtype=object)"
      ]
     },
     "execution_count": 65,
     "metadata": {},
     "output_type": "execute_result"
    }
   ],
   "source": [
    "# Check for unique values\n",
    "dfa_eda['term'].unique()"
   ]
  },
  {
   "cell_type": "markdown",
   "id": "836bd95e",
   "metadata": {},
   "source": [
    "The whitespace at start of each string has been removed."
   ]
  },
  {
   "cell_type": "markdown",
   "id": "21871065",
   "metadata": {},
   "source": [
    "Let us now try to visualize the data."
   ]
  },
  {
   "cell_type": "code",
   "execution_count": 66,
   "id": "94819104",
   "metadata": {
    "ExecuteTime": {
     "end_time": "2022-09-02T04:29:39.064056Z",
     "start_time": "2022-09-02T04:29:37.851557Z"
    },
    "scrolled": true
   },
   "outputs": [
    {
     "data": {
      "image/png": "[encoded data removed]",
      "text/plain": [
       "<Figure size 600x400 with 1 Axes>"
      ]
     },
     "metadata": {},
     "output_type": "display_data"
    }
   ],
   "source": [
    "# Check distribution\n",
    "\n",
    "# Create plot\n",
    "plt.figure(figsize=(6,4))\n",
    "sns.countplot(data=dfa_eda, x='term', palette='pastel')\n",
    "\n",
    "# Set title, label, legend\n",
    "plt.title('Distribution of `term` column')\n",
    "plt.xlabel('Loan Term')\n",
    "\n",
    "# Show plot\n",
    "plt.show()"
   ]
  },
  {
   "cell_type": "code",
   "execution_count": 67,
   "id": "d990eed5",
   "metadata": {
    "ExecuteTime": {
     "end_time": "2022-09-02T04:29:39.227796Z",
     "start_time": "2022-09-02T04:29:39.066011Z"
    }
   },
   "outputs": [
    {
     "data": {
      "text/plain": [
       "36 months    1495472\n",
       "60 months     585895\n",
       "Name: term, dtype: int64"
      ]
     },
     "execution_count": 67,
     "metadata": {},
     "output_type": "execute_result"
    }
   ],
   "source": [
    "# Check counts\n",
    "dfa_eda['term'].value_counts()"
   ]
  },
  {
   "cell_type": "markdown",
   "id": "0c356ee3",
   "metadata": {},
   "source": [
    "✅ We will keep the `term` column for now."
   ]
  },
  {
   "cell_type": "markdown",
   "id": "c34261cc",
   "metadata": {},
   "source": [
    "---\n",
    "<a id=\"2.11\"></a>\n",
    "#### 2.11 `home_ownership` column"
   ]
  },
  {
   "cell_type": "markdown",
   "id": "b162f566",
   "metadata": {},
   "source": [
    "This column shows the home ownership status provided by the borrower during registration."
   ]
  },
  {
   "cell_type": "code",
   "execution_count": 68,
   "id": "2bcebb4d",
   "metadata": {
    "ExecuteTime": {
     "end_time": "2022-09-02T04:29:39.313982Z",
     "start_time": "2022-09-02T04:29:39.229860Z"
    }
   },
   "outputs": [
    {
     "data": {
      "text/plain": [
       "2042959    MORTGAGE\n",
       "801836     MORTGAGE\n",
       "343018          OWN\n",
       "1682392    MORTGAGE\n",
       "1415374    MORTGAGE\n",
       "Name: home_ownership, dtype: object"
      ]
     },
     "execution_count": 68,
     "metadata": {},
     "output_type": "execute_result"
    }
   ],
   "source": [
    "# Check sample\n",
    "dfa_eda['home_ownership'].sample(5)"
   ]
  },
  {
   "cell_type": "markdown",
   "id": "27a998be",
   "metadata": {},
   "source": [
    "This is a categorical column.\n",
    "\n",
    "Let us check for unique values."
   ]
  },
  {
   "cell_type": "code",
   "execution_count": 69,
   "id": "bf4cad36",
   "metadata": {
    "ExecuteTime": {
     "end_time": "2022-09-02T04:29:39.430824Z",
     "start_time": "2022-09-02T04:29:39.316240Z"
    }
   },
   "outputs": [
    {
     "data": {
      "text/plain": [
       "array(['MORTGAGE', 'RENT', 'OWN', 'ANY', 'NONE', 'OTHER'], dtype=object)"
      ]
     },
     "execution_count": 69,
     "metadata": {},
     "output_type": "execute_result"
    }
   ],
   "source": [
    "# Check for unique values\n",
    "dfa_eda['home_ownership'].unique()"
   ]
  },
  {
   "cell_type": "code",
   "execution_count": 70,
   "id": "b7aadbd0",
   "metadata": {
    "ExecuteTime": {
     "end_time": "2022-09-02T04:29:39.519831Z",
     "start_time": "2022-09-02T04:29:39.432688Z"
    }
   },
   "outputs": [
    {
     "data": {
      "text/plain": [
       "MORTGAGE    1005808\n",
       "RENT         837359\n",
       "OWN          237117\n",
       "ANY             995\n",
       "OTHER            45\n",
       "NONE             43\n",
       "Name: home_ownership, dtype: int64"
      ]
     },
     "execution_count": 70,
     "metadata": {},
     "output_type": "execute_result"
    }
   ],
   "source": [
    "# Check counts\n",
    "dfa_eda['home_ownership'].value_counts()"
   ]
  },
  {
   "cell_type": "markdown",
   "id": "117880a1",
   "metadata": {},
   "source": [
    "This is a categorical column.\n",
    "\n",
    "We see that 'ANY', 'OTHER', and 'NONE' categories have a total of 1083 (=995+45+43) entries.\n",
    "\n",
    "We can drop the rows that have these three categories."
   ]
  },
  {
   "cell_type": "code",
   "execution_count": 71,
   "id": "c4bcf93a",
   "metadata": {
    "ExecuteTime": {
     "end_time": "2022-09-02T04:29:40.934976Z",
     "start_time": "2022-09-02T04:29:39.521525Z"
    }
   },
   "outputs": [],
   "source": [
    "# Drop three categories\n",
    "dfa_eda = dfa_eda[dfa_eda['home_ownership'].str.contains('ANY|OTHER|NONE')==False]"
   ]
  },
  {
   "cell_type": "code",
   "execution_count": 72,
   "id": "277d2a0c",
   "metadata": {
    "ExecuteTime": {
     "end_time": "2022-09-02T04:29:41.025013Z",
     "start_time": "2022-09-02T04:29:40.937233Z"
    },
    "scrolled": true
   },
   "outputs": [
    {
     "data": {
      "text/plain": [
       "MORTGAGE    1005808\n",
       "RENT         837359\n",
       "OWN          237117\n",
       "Name: home_ownership, dtype: int64"
      ]
     },
     "execution_count": 72,
     "metadata": {},
     "output_type": "execute_result"
    }
   ],
   "source": [
    "# Check counts\n",
    "dfa_eda['home_ownership'].value_counts()"
   ]
  },
  {
   "cell_type": "markdown",
   "id": "2776ffdf",
   "metadata": {},
   "source": [
    "Let us now try to visualize the data."
   ]
  },
  {
   "cell_type": "code",
   "execution_count": 73,
   "id": "8be9fdd1",
   "metadata": {
    "ExecuteTime": {
     "end_time": "2022-09-02T04:29:42.060257Z",
     "start_time": "2022-09-02T04:29:41.026945Z"
    },
    "scrolled": true
   },
   "outputs": [
    {
     "data": {
      "image/png": "[encoded data removed]",
      "text/plain": [
       "<Figure size 600x400 with 1 Axes>"
      ]
     },
     "metadata": {},
     "output_type": "display_data"
    }
   ],
   "source": [
    "# Check distribution\n",
    "\n",
    "# Create plot\n",
    "plt.figure(figsize=(6,4))\n",
    "sns.countplot(data=dfa_eda, x='home_ownership', palette='pastel')\n",
    "\n",
    "# Set title, label, legend\n",
    "plt.title('Distribution of `home_ownership` column')\n",
    "plt.xlabel('Home Ownership Status')\n",
    "\n",
    "# Show plot\n",
    "plt.show()"
   ]
  },
  {
   "cell_type": "markdown",
   "id": "1d4091b0",
   "metadata": {},
   "source": [
    "✅ We will keep the `home_ownership` column for now."
   ]
  },
  {
   "cell_type": "markdown",
   "id": "58ab6532",
   "metadata": {},
   "source": [
    "---\n",
    "<a id=\"2.12\"></a>\n",
    "#### 2.12 `annual_inc` column"
   ]
  },
  {
   "cell_type": "markdown",
   "id": "839ba6b2",
   "metadata": {},
   "source": [
    "This column shows the self-reported annual income provided by the borrower during registration."
   ]
  },
  {
   "cell_type": "code",
   "execution_count": 74,
   "id": "f8e08c25",
   "metadata": {
    "ExecuteTime": {
     "end_time": "2022-09-02T04:29:42.145922Z",
     "start_time": "2022-09-02T04:29:42.062121Z"
    }
   },
   "outputs": [
    {
     "data": {
      "text/plain": [
       "686105     60000.0\n",
       "1299542    24000.0\n",
       "2213367    82600.0\n",
       "915113     80000.0\n",
       "1720622    50000.0\n",
       "Name: annual_inc, dtype: float64"
      ]
     },
     "execution_count": 74,
     "metadata": {},
     "output_type": "execute_result"
    }
   ],
   "source": [
    "# Check sample\n",
    "dfa_eda['annual_inc'].sample(5)"
   ]
  },
  {
   "cell_type": "markdown",
   "id": "190cf3fe",
   "metadata": {},
   "source": [
    "This is a numerical column."
   ]
  },
  {
   "cell_type": "markdown",
   "id": "464ecfe3",
   "metadata": {},
   "source": [
    "Let us now try to visualize the data."
   ]
  },
  {
   "cell_type": "code",
   "execution_count": 75,
   "id": "0b7588b4",
   "metadata": {
    "ExecuteTime": {
     "end_time": "2022-09-02T04:29:45.828650Z",
     "start_time": "2022-09-02T04:29:42.148110Z"
    }
   },
   "outputs": [
    {
     "data": {
      "text/plain": [
       "<Figure size 800x600 with 0 Axes>"
      ]
     },
     "metadata": {},
     "output_type": "display_data"
    },
    {
     "data": {
      "image/png": "[encoded data removed]",
      "text/plain": [
       "<Figure size 500x500 with 1 Axes>"
      ]
     },
     "metadata": {},
     "output_type": "display_data"
    }
   ],
   "source": [
    "# Check distribution\n",
    "\n",
    "# Create plot\n",
    "plt.figure(figsize=(8,6))\n",
    "sns.displot(data=dfa_eda, x='annual_inc', bins=20, kde=True, palette='pastel')\n",
    "\n",
    "# Set title, label, legend\n",
    "plt.title('Distribution of `annual_inc` column')\n",
    "plt.xlabel('Annual Income')\n",
    "\n",
    "# Show plot\n",
    "plt.show()"
   ]
  },
  {
   "cell_type": "markdown",
   "id": "340a5a2f",
   "metadata": {},
   "source": [
    "The distribution seems to be right-skewed."
   ]
  },
  {
   "cell_type": "code",
   "execution_count": 76,
   "id": "cb101cbb",
   "metadata": {
    "ExecuteTime": {
     "end_time": "2022-09-02T04:29:46.123089Z",
     "start_time": "2022-09-02T04:29:45.831117Z"
    }
   },
   "outputs": [
    {
     "data": {
      "image/png": "[encoded data removed]",
      "text/plain": [
       "<Figure size 600x400 with 1 Axes>"
      ]
     },
     "metadata": {},
     "output_type": "display_data"
    }
   ],
   "source": [
    "# Check distribution\n",
    "\n",
    "# Create plot\n",
    "plt.figure(figsize=(6,4))\n",
    "sns.boxplot(data=dfa_eda, x='annual_inc', palette='pastel')\n",
    "\n",
    "# Set title, label, legend\n",
    "plt.title('Distribution of `annual_inc` column')\n",
    "plt.xlabel('Annual Income')\n",
    "\n",
    "# Show plot\n",
    "plt.show()"
   ]
  },
  {
   "cell_type": "markdown",
   "id": "5230a8c2",
   "metadata": {},
   "source": [
    "There are outliers in the column."
   ]
  },
  {
   "cell_type": "code",
   "execution_count": 77,
   "id": "e40104ad",
   "metadata": {
    "ExecuteTime": {
     "end_time": "2022-09-02T04:29:46.197451Z",
     "start_time": "2022-09-02T04:29:46.125268Z"
    },
    "scrolled": true
   },
   "outputs": [
    {
     "data": {
      "text/plain": [
       "count    2.080284e+06\n",
       "mean     7.928054e+04\n",
       "std      1.162711e+05\n",
       "min      1.900000e+03\n",
       "25%      4.800000e+04\n",
       "50%      6.600000e+04\n",
       "75%      9.500000e+04\n",
       "max      1.100000e+08\n",
       "Name: annual_inc, dtype: float64"
      ]
     },
     "execution_count": 77,
     "metadata": {},
     "output_type": "execute_result"
    }
   ],
   "source": [
    "# Check details\n",
    "dfa_eda['annual_inc'].describe()"
   ]
  },
  {
   "cell_type": "markdown",
   "id": "5ffd13e2",
   "metadata": {},
   "source": [
    "- Lowest annual income is \\\\$1900\n",
    "- Highest annual income is \\\\$110 million\n",
    "- Mean annual income is ~\\\\$80k (\\\\$79,280.54)\n",
    "\n",
    "We could try to remove some outliers, but we are not sure on what parameters. We might end up removing important data. Knowing that the maximum available loan amount at Lending Club is \\\\$40k, it does seem surprising that borrowers with an annual income of \\\\$110 million are applying for loans here. But, we will keep the data as is for now.\n",
    "\n",
    "✅ We will keep the `annual_inc` column for now."
   ]
  },
  {
   "cell_type": "markdown",
   "id": "aa12bc45",
   "metadata": {},
   "source": [
    "---\n",
    "<a id=\"2.13\"></a>\n",
    "#### 2.13 `verification_status` column"
   ]
  },
  {
   "cell_type": "markdown",
   "id": "91badd2b",
   "metadata": {},
   "source": [
    "This column indicates whether the borrower's income was verified by Lending Club, not verified, or if the income source was verified."
   ]
  },
  {
   "cell_type": "code",
   "execution_count": 78,
   "id": "71816e63",
   "metadata": {
    "ExecuteTime": {
     "end_time": "2022-09-02T04:29:46.281471Z",
     "start_time": "2022-09-02T04:29:46.199220Z"
    }
   },
   "outputs": [
    {
     "data": {
      "text/plain": [
       "1788838    Not Verified\n",
       "1394171        Verified\n",
       "1312051        Verified\n",
       "2077303    Not Verified\n",
       "1289200        Verified\n",
       "Name: verification_status, dtype: object"
      ]
     },
     "execution_count": 78,
     "metadata": {},
     "output_type": "execute_result"
    }
   ],
   "source": [
    "# Check sample\n",
    "dfa_eda['verification_status'].sample(5)"
   ]
  },
  {
   "cell_type": "markdown",
   "id": "30d1db56",
   "metadata": {},
   "source": [
    "This is a categorical column.\n",
    "\n",
    "Let us check for unique values."
   ]
  },
  {
   "cell_type": "code",
   "execution_count": 79,
   "id": "ebd0e083",
   "metadata": {
    "ExecuteTime": {
     "end_time": "2022-09-02T04:29:46.401683Z",
     "start_time": "2022-09-02T04:29:46.283554Z"
    }
   },
   "outputs": [
    {
     "data": {
      "text/plain": [
       "array(['Not Verified', 'Source Verified', 'Verified'], dtype=object)"
      ]
     },
     "execution_count": 79,
     "metadata": {},
     "output_type": "execute_result"
    }
   ],
   "source": [
    "# Checking for unique values\n",
    "dfa_eda['verification_status'].unique()"
   ]
  },
  {
   "cell_type": "markdown",
   "id": "d95b32d5",
   "metadata": {},
   "source": [
    "There are three categories of verification status:\n",
    "- Not Verified\n",
    "- Source Verified\n",
    "- Verified"
   ]
  },
  {
   "cell_type": "markdown",
   "id": "c60957ca",
   "metadata": {},
   "source": [
    "Let us now try to visualize the data."
   ]
  },
  {
   "cell_type": "code",
   "execution_count": 80,
   "id": "ed994cb2",
   "metadata": {
    "ExecuteTime": {
     "end_time": "2022-09-02T04:29:47.429386Z",
     "start_time": "2022-09-02T04:29:46.403795Z"
    },
    "scrolled": true
   },
   "outputs": [
    {
     "data": {
      "image/png": "[encoded data removed]",
      "text/plain": [
       "<Figure size 600x400 with 1 Axes>"
      ]
     },
     "metadata": {},
     "output_type": "display_data"
    }
   ],
   "source": [
    "# Check distribution\n",
    "\n",
    "# Create plot\n",
    "plt.figure(figsize=(6,4))\n",
    "sns.countplot(data=dfa_eda, x='verification_status', palette='pastel')\n",
    "\n",
    "# Set title, label, legend\n",
    "plt.title('Distribution of `verification_status` column')\n",
    "plt.xlabel('Verification Status')\n",
    "\n",
    "# Show plot\n",
    "plt.show()"
   ]
  },
  {
   "cell_type": "code",
   "execution_count": 81,
   "id": "53c9b3ab",
   "metadata": {
    "ExecuteTime": {
     "end_time": "2022-09-02T04:29:47.514344Z",
     "start_time": "2022-09-02T04:29:47.431434Z"
    }
   },
   "outputs": [
    {
     "data": {
      "text/plain": [
       "Source Verified    835832\n",
       "Not Verified       676006\n",
       "Verified           568446\n",
       "Name: verification_status, dtype: int64"
      ]
     },
     "execution_count": 81,
     "metadata": {},
     "output_type": "execute_result"
    }
   ],
   "source": [
    "# Check counts\n",
    "dfa_eda['verification_status'].value_counts()"
   ]
  },
  {
   "cell_type": "markdown",
   "id": "6563a630",
   "metadata": {},
   "source": [
    "✅ We will keep the `verification_status` column for now."
   ]
  },
  {
   "cell_type": "markdown",
   "id": "eacaa3d7",
   "metadata": {},
   "source": [
    "---\n",
    "<a id=\"2.14\"></a>\n",
    "#### 2.14 `purpose` column"
   ]
  },
  {
   "cell_type": "markdown",
   "id": "b656ffee",
   "metadata": {},
   "source": [
    "This column shows the loan category provided by the borrower for the loan request."
   ]
  },
  {
   "cell_type": "code",
   "execution_count": 82,
   "id": "908785ed",
   "metadata": {
    "ExecuteTime": {
     "end_time": "2022-09-02T04:29:47.619090Z",
     "start_time": "2022-09-02T04:29:47.533619Z"
    }
   },
   "outputs": [
    {
     "data": {
      "text/plain": [
       "1904340    debt_consolidation\n",
       "1549136           credit_card\n",
       "1362014    debt_consolidation\n",
       "1266665    debt_consolidation\n",
       "266666     debt_consolidation\n",
       "Name: purpose, dtype: object"
      ]
     },
     "execution_count": 82,
     "metadata": {},
     "output_type": "execute_result"
    }
   ],
   "source": [
    "# Check sample\n",
    "dfa_eda['purpose'].sample(5)"
   ]
  },
  {
   "cell_type": "markdown",
   "id": "d6abc115",
   "metadata": {},
   "source": [
    "This is a categorical column.\n",
    "\n",
    "Let us check for unique values."
   ]
  },
  {
   "cell_type": "code",
   "execution_count": 83,
   "id": "842a6dc1",
   "metadata": {
    "ExecuteTime": {
     "end_time": "2022-09-02T04:29:47.741571Z",
     "start_time": "2022-09-02T04:29:47.621099Z"
    }
   },
   "outputs": [
    {
     "data": {
      "text/plain": [
       "array(['debt_consolidation', 'small_business', 'major_purchase',\n",
       "       'credit_card', 'other', 'home_improvement', 'house', 'vacation',\n",
       "       'car', 'medical', 'moving', 'renewable_energy', 'wedding',\n",
       "       'educational'], dtype=object)"
      ]
     },
     "execution_count": 83,
     "metadata": {},
     "output_type": "execute_result"
    }
   ],
   "source": [
    "# Check for unique values\n",
    "dfa_eda['purpose'].unique()"
   ]
  },
  {
   "cell_type": "code",
   "execution_count": 84,
   "id": "2a93793a",
   "metadata": {
    "ExecuteTime": {
     "end_time": "2022-09-02T04:29:47.849790Z",
     "start_time": "2022-09-02T04:29:47.744117Z"
    }
   },
   "outputs": [
    {
     "data": {
      "text/plain": [
       "14"
      ]
     },
     "execution_count": 84,
     "metadata": {},
     "output_type": "execute_result"
    }
   ],
   "source": [
    "# Check for total unique values\n",
    "dfa_eda['purpose'].nunique()"
   ]
  },
  {
   "cell_type": "markdown",
   "id": "dfea92e5",
   "metadata": {},
   "source": [
    "There are 14 unique categories for loan purpose."
   ]
  },
  {
   "cell_type": "markdown",
   "id": "da6e91d8",
   "metadata": {},
   "source": [
    "Let us now try to visualize the data."
   ]
  },
  {
   "cell_type": "code",
   "execution_count": 85,
   "id": "8c731f51",
   "metadata": {
    "ExecuteTime": {
     "end_time": "2022-09-02T04:29:48.945882Z",
     "start_time": "2022-09-02T04:29:47.851802Z"
    },
    "scrolled": true
   },
   "outputs": [
    {
     "data": {
      "image/png": "[encoded data removed]",
      "text/plain": [
       "<Figure size 800x600 with 1 Axes>"
      ]
     },
     "metadata": {},
     "output_type": "display_data"
    }
   ],
   "source": [
    "# Check distribution\n",
    "\n",
    "# Create plot\n",
    "plt.figure(figsize=(8,6))\n",
    "sns.countplot(data=dfa_eda, x='purpose', palette='pastel');\n",
    "\n",
    "# Set title, label, legend\n",
    "plt.title('Distribution of `purpose` column')\n",
    "plt.xlabel('Loan Purpose')\n",
    "\n",
    "# Set xlabel angle\n",
    "plt.xticks(rotation=45);\n",
    "\n",
    "# Show plot\n",
    "plt.show()"
   ]
  },
  {
   "cell_type": "code",
   "execution_count": 86,
   "id": "ca61e716",
   "metadata": {
    "ExecuteTime": {
     "end_time": "2022-09-02T04:29:49.026518Z",
     "start_time": "2022-09-02T04:29:48.947582Z"
    }
   },
   "outputs": [
    {
     "data": {
      "text/plain": [
       "debt_consolidation    1177646\n",
       "credit_card            485258\n",
       "home_improvement       136278\n",
       "other                  126609\n",
       "major_purchase          45098\n",
       "medical                 24275\n",
       "small_business          20906\n",
       "car                     20880\n",
       "vacation                14343\n",
       "moving                  13769\n",
       "house                   12912\n",
       "renewable_energy         1241\n",
       "wedding                  1067\n",
       "educational                 2\n",
       "Name: purpose, dtype: int64"
      ]
     },
     "execution_count": 86,
     "metadata": {},
     "output_type": "execute_result"
    }
   ],
   "source": [
    "# Check counts\n",
    "dfa_eda['purpose'].value_counts()"
   ]
  },
  {
   "cell_type": "markdown",
   "id": "e6b91d33",
   "metadata": {},
   "source": [
    "We notice that 'educational' loan purpose has only two entries. But we will keep it for now.\n",
    "\n",
    "✅ We will keep the `purpose` column for now."
   ]
  },
  {
   "cell_type": "markdown",
   "id": "8a2f9476",
   "metadata": {},
   "source": [
    "---\n",
    "<a id=\"2.15\"></a>\n",
    "#### 2.15 `dti` column"
   ]
  },
  {
   "cell_type": "markdown",
   "id": "0aaa9146",
   "metadata": {},
   "source": [
    "dti = debt-to-income ratio\n",
    "\n",
    "This column shows the ratio calculated using the borrower’s total monthly debt payments on the total debt obligations, excluding mortgage and the requested Lending Club loan, divided by the borrower’s self-reported monthly income."
   ]
  },
  {
   "cell_type": "code",
   "execution_count": 87,
   "id": "b207b7c9",
   "metadata": {
    "ExecuteTime": {
     "end_time": "2022-09-02T04:29:49.111982Z",
     "start_time": "2022-09-02T04:29:49.028130Z"
    }
   },
   "outputs": [
    {
     "data": {
      "text/plain": [
       "2185714     8.82\n",
       "428104     10.78\n",
       "625330     18.05\n",
       "1685144    25.48\n",
       "190968     20.00\n",
       "Name: dti, dtype: float64"
      ]
     },
     "execution_count": 87,
     "metadata": {},
     "output_type": "execute_result"
    }
   ],
   "source": [
    "# Check sample\n",
    "dfa_eda['dti'].sample(5)"
   ]
  },
  {
   "cell_type": "markdown",
   "id": "95d07ee8",
   "metadata": {},
   "source": [
    "This is a numerical column."
   ]
  },
  {
   "cell_type": "markdown",
   "id": "5eda90d4",
   "metadata": {},
   "source": [
    "Let us now try to visualize the data."
   ]
  },
  {
   "cell_type": "code",
   "execution_count": 88,
   "id": "981a2110",
   "metadata": {
    "ExecuteTime": {
     "end_time": "2022-09-02T04:29:55.306434Z",
     "start_time": "2022-09-02T04:29:49.113850Z"
    }
   },
   "outputs": [
    {
     "data": {
      "text/plain": [
       "<Figure size 800x600 with 0 Axes>"
      ]
     },
     "metadata": {},
     "output_type": "display_data"
    },
    {
     "data": {
      "image/png": "[encoded data removed]",
      "text/plain": [
       "<Figure size 500x500 with 1 Axes>"
      ]
     },
     "metadata": {},
     "output_type": "display_data"
    }
   ],
   "source": [
    "# Check distribution\n",
    "\n",
    "# Create plot\n",
    "plt.figure(figsize=(8,6))\n",
    "sns.displot(data=dfa_eda, x='dti', bins=20, kde=True, palette='pastel')\n",
    "\n",
    "# Set title, label, legend\n",
    "plt.title('Distribution of `dti` column')\n",
    "plt.xlabel('Debt-to-Income Ratio')\n",
    "\n",
    "# Show plot\n",
    "plt.show()"
   ]
  },
  {
   "cell_type": "markdown",
   "id": "d87ff4a8",
   "metadata": {},
   "source": [
    "The distribution seems to be right-skewed."
   ]
  },
  {
   "cell_type": "code",
   "execution_count": 89,
   "id": "48e55a50",
   "metadata": {
    "ExecuteTime": {
     "end_time": "2022-09-02T04:29:55.483026Z",
     "start_time": "2022-09-02T04:29:55.309383Z"
    }
   },
   "outputs": [
    {
     "data": {
      "image/png": "[encoded data removed]",
      "text/plain": [
       "<Figure size 600x400 with 1 Axes>"
      ]
     },
     "metadata": {},
     "output_type": "display_data"
    }
   ],
   "source": [
    "# Check distribution\n",
    "\n",
    "# Create plot\n",
    "plt.figure(figsize=(6,4))\n",
    "sns.boxplot(data=dfa_eda, x='dti', palette='pastel')\n",
    "\n",
    "# Set title, label, legend\n",
    "plt.title('Distribution of `dti` column')\n",
    "plt.xlabel('Debt-to-Income Ratio')\n",
    "\n",
    "# Show plot\n",
    "plt.show()"
   ]
  },
  {
   "cell_type": "markdown",
   "id": "27029ff3",
   "metadata": {},
   "source": [
    "There are outliers in the column."
   ]
  },
  {
   "cell_type": "code",
   "execution_count": 90,
   "id": "c0762cd4",
   "metadata": {
    "ExecuteTime": {
     "end_time": "2022-09-02T04:29:55.561965Z",
     "start_time": "2022-09-02T04:29:55.485148Z"
    }
   },
   "outputs": [
    {
     "data": {
      "text/plain": [
       "count    2.080284e+06\n",
       "mean     1.821666e+01\n",
       "std      8.436621e+00\n",
       "min     -1.000000e+00\n",
       "25%      1.188000e+01\n",
       "50%      1.772000e+01\n",
       "75%      2.421000e+01\n",
       "max      4.996000e+01\n",
       "Name: dti, dtype: float64"
      ]
     },
     "execution_count": 90,
     "metadata": {},
     "output_type": "execute_result"
    }
   ],
   "source": [
    "# Check details\n",
    "dfa_eda['dti'].describe()"
   ]
  },
  {
   "cell_type": "markdown",
   "id": "4f83b037",
   "metadata": {},
   "source": [
    "- Lowest dti ratio is -1\n",
    "- Highest dti ratio is 49.96\n",
    "- Mean dti ratio is ~18.22\n",
    "\n",
    "According to [Debt.org](https://www.debt.org/credit/loans/personal/lending-club-review/), Lending Club prefers dti < 40 for Individual loan applicants. However, in this case, we will keep the column as is.\n",
    "\n",
    "But we will remove the negative dti ratios."
   ]
  },
  {
   "cell_type": "code",
   "execution_count": 91,
   "id": "7bfa7296",
   "metadata": {
    "ExecuteTime": {
     "end_time": "2022-09-02T04:29:55.870440Z",
     "start_time": "2022-09-02T04:29:55.563897Z"
    }
   },
   "outputs": [],
   "source": [
    "# Drop negative dti\n",
    "dfa_eda = dfa_eda[dfa_eda['dti'] >= 0]"
   ]
  },
  {
   "cell_type": "code",
   "execution_count": 92,
   "id": "1122aae2",
   "metadata": {
    "ExecuteTime": {
     "end_time": "2022-09-02T04:29:55.945512Z",
     "start_time": "2022-09-02T04:29:55.872944Z"
    }
   },
   "outputs": [
    {
     "data": {
      "text/plain": [
       "count    2.080283e+06\n",
       "mean     1.821667e+01\n",
       "std      8.436612e+00\n",
       "min      0.000000e+00\n",
       "25%      1.188000e+01\n",
       "50%      1.772000e+01\n",
       "75%      2.421000e+01\n",
       "max      4.996000e+01\n",
       "Name: dti, dtype: float64"
      ]
     },
     "execution_count": 92,
     "metadata": {},
     "output_type": "execute_result"
    }
   ],
   "source": [
    "# Check details\n",
    "dfa_eda['dti'].describe()"
   ]
  },
  {
   "cell_type": "markdown",
   "id": "db9daf84",
   "metadata": {},
   "source": [
    "- Lowest dti ratio is 0\n",
    "- Highest dti ratio is 49.96\n",
    "- Mean dti ratio is ~18.22"
   ]
  },
  {
   "cell_type": "markdown",
   "id": "70564a09",
   "metadata": {},
   "source": [
    "✅ We will keep the `dti` column for now."
   ]
  },
  {
   "cell_type": "markdown",
   "id": "d4bc25be",
   "metadata": {},
   "source": [
    "---\n",
    "<a id=\"2.16\"></a>\n",
    "#### 2.16 `fico_range_low`, `fico_range_high` columns"
   ]
  },
  {
   "cell_type": "markdown",
   "id": "876aa594",
   "metadata": {},
   "source": [
    "The `fico_range_low` column shows the lower boundary range the borrower’s FICO at loan origination belongs to.\n",
    "\n",
    "The `fico_range_high` column shows the upper boundary range the borrower’s FICO at loan origination belongs to."
   ]
  },
  {
   "cell_type": "code",
   "execution_count": 93,
   "id": "747a5339",
   "metadata": {
    "ExecuteTime": {
     "end_time": "2022-09-02T04:29:55.952474Z",
     "start_time": "2022-09-02T04:29:55.947453Z"
    }
   },
   "outputs": [
    {
     "data": {
      "text/plain": [
       "(0    675.0\n",
       " 1    715.0\n",
       " 3    785.0\n",
       " 4    695.0\n",
       " 5    690.0\n",
       " Name: fico_range_low, dtype: float64,\n",
       " 2260694    665.0\n",
       " 2260695    695.0\n",
       " 2260696    705.0\n",
       " 2260697    660.0\n",
       " 2260698    660.0\n",
       " Name: fico_range_low, dtype: float64)"
      ]
     },
     "execution_count": 93,
     "metadata": {},
     "output_type": "execute_result"
    }
   ],
   "source": [
    "# Check top/bottom rows\n",
    "dfa_eda['fico_range_low'].head(), dfa_eda['fico_range_low'].tail()"
   ]
  },
  {
   "cell_type": "code",
   "execution_count": 94,
   "id": "a5dacb37",
   "metadata": {
    "ExecuteTime": {
     "end_time": "2022-09-02T04:29:55.960078Z",
     "start_time": "2022-09-02T04:29:55.954609Z"
    },
    "scrolled": true
   },
   "outputs": [
    {
     "data": {
      "text/plain": [
       "(0    679.0\n",
       " 1    719.0\n",
       " 3    789.0\n",
       " 4    699.0\n",
       " 5    694.0\n",
       " Name: fico_range_high, dtype: float64,\n",
       " 2260694    669.0\n",
       " 2260695    699.0\n",
       " 2260696    709.0\n",
       " 2260697    664.0\n",
       " 2260698    664.0\n",
       " Name: fico_range_high, dtype: float64)"
      ]
     },
     "execution_count": 94,
     "metadata": {},
     "output_type": "execute_result"
    }
   ],
   "source": [
    "# Check top/bottom rows\n",
    "dfa_eda['fico_range_high'].head(), dfa_eda['fico_range_high'].tail()"
   ]
  },
  {
   "cell_type": "markdown",
   "id": "6d891bcd",
   "metadata": {},
   "source": [
    "After closer observation, the two columns have a difference of 4 for each row. We will take the average of both columns and create a new column `fico_range_avg` to store that value.\n",
    "\n",
    "Then, we will drop these two existing columns."
   ]
  },
  {
   "cell_type": "code",
   "execution_count": 95,
   "id": "38efacb3",
   "metadata": {
    "ExecuteTime": {
     "end_time": "2022-09-02T04:29:56.008405Z",
     "start_time": "2022-09-02T04:29:55.961738Z"
    },
    "scrolled": true
   },
   "outputs": [],
   "source": [
    "# Mean of two columns\n",
    "dfa_eda['fico_range_avg'] = dfa_eda[['fico_range_low', 'fico_range_high']].mean(axis=1)"
   ]
  },
  {
   "cell_type": "code",
   "execution_count": 96,
   "id": "3acaf49d",
   "metadata": {
    "ExecuteTime": {
     "end_time": "2022-09-02T04:29:56.016661Z",
     "start_time": "2022-09-02T04:29:56.010610Z"
    }
   },
   "outputs": [
    {
     "data": {
      "text/plain": [
       "(0    677.0\n",
       " 1    717.0\n",
       " 3    787.0\n",
       " 4    697.0\n",
       " 5    692.0\n",
       " Name: fico_range_avg, dtype: float64,\n",
       " 2260694    667.0\n",
       " 2260695    697.0\n",
       " 2260696    707.0\n",
       " 2260697    662.0\n",
       " 2260698    662.0\n",
       " Name: fico_range_avg, dtype: float64)"
      ]
     },
     "execution_count": 96,
     "metadata": {},
     "output_type": "execute_result"
    }
   ],
   "source": [
    "# Check values\n",
    "dfa_eda['fico_range_avg'].head(), dfa_eda['fico_range_avg'].tail()"
   ]
  },
  {
   "cell_type": "markdown",
   "id": "777b7dd9",
   "metadata": {},
   "source": [
    "The calculation worked correctly. We can see that the first row has a value of 677 (which is a mean of 675 and 679 from the original two columns)."
   ]
  },
  {
   "cell_type": "markdown",
   "id": "ffad2d73",
   "metadata": {},
   "source": [
    "Now we drop the two original columns, `fico_range_low` and `fico_range_high`."
   ]
  },
  {
   "cell_type": "code",
   "execution_count": 97,
   "id": "6444f1c9",
   "metadata": {
    "ExecuteTime": {
     "end_time": "2022-09-02T04:29:56.520458Z",
     "start_time": "2022-09-02T04:29:56.018452Z"
    }
   },
   "outputs": [],
   "source": [
    "# Drop two columns\n",
    "dfa_eda.drop(['fico_range_low', 'fico_range_high'], axis=1, inplace=True)"
   ]
  },
  {
   "cell_type": "code",
   "execution_count": 98,
   "id": "4f6cb2f1",
   "metadata": {
    "ExecuteTime": {
     "end_time": "2022-09-02T04:29:56.526784Z",
     "start_time": "2022-09-02T04:29:56.522960Z"
    }
   },
   "outputs": [
    {
     "name": "stdout",
     "output_type": "stream",
     "text": [
      "There are 2080283 rows and 18 columns.\n"
     ]
    }
   ],
   "source": [
    "# Check data frame shape\n",
    "print(f'There are {dfa_eda.shape[0]} rows and {dfa_eda.shape[1]} columns.')"
   ]
  },
  {
   "cell_type": "code",
   "execution_count": 99,
   "id": "0c791630",
   "metadata": {
    "ExecuteTime": {
     "end_time": "2022-09-02T04:29:56.605825Z",
     "start_time": "2022-09-02T04:29:56.528949Z"
    },
    "scrolled": true
   },
   "outputs": [
    {
     "data": {
      "text/plain": [
       "1702819    667.0\n",
       "1970504    687.0\n",
       "2085770    747.0\n",
       "2069528    672.0\n",
       "767750     667.0\n",
       "Name: fico_range_avg, dtype: float64"
      ]
     },
     "execution_count": 99,
     "metadata": {},
     "output_type": "execute_result"
    }
   ],
   "source": [
    "# Check sample\n",
    "dfa_eda['fico_range_avg'].sample(5)"
   ]
  },
  {
   "cell_type": "markdown",
   "id": "6c17a29f",
   "metadata": {},
   "source": [
    "This is a numerical column."
   ]
  },
  {
   "cell_type": "markdown",
   "id": "0d3e9287",
   "metadata": {},
   "source": [
    "Let us now try to visualize the data."
   ]
  },
  {
   "cell_type": "code",
   "execution_count": 100,
   "id": "fc1b9cd1",
   "metadata": {
    "ExecuteTime": {
     "end_time": "2022-09-02T04:30:02.384744Z",
     "start_time": "2022-09-02T04:29:56.608281Z"
    }
   },
   "outputs": [
    {
     "data": {
      "text/plain": [
       "<Figure size 800x600 with 0 Axes>"
      ]
     },
     "metadata": {},
     "output_type": "display_data"
    },
    {
     "data": {
      "image/png": "[encoded data removed]",
      "text/plain": [
       "<Figure size 500x500 with 1 Axes>"
      ]
     },
     "metadata": {},
     "output_type": "display_data"
    }
   ],
   "source": [
    "# Check distribution\n",
    "\n",
    "# Create plot\n",
    "plt.figure(figsize=(8,6))\n",
    "sns.displot(data=dfa_eda, x='fico_range_avg', bins=20, kde=True, palette='pastel')\n",
    "\n",
    "# Set title, label, legend\n",
    "plt.title('Distribution of `fico_range_avg` column')\n",
    "plt.xlabel('Average FICO')\n",
    "\n",
    "# Show plot\n",
    "plt.show()"
   ]
  },
  {
   "cell_type": "markdown",
   "id": "56253901",
   "metadata": {},
   "source": [
    "The distribution seems to be right-skewed."
   ]
  },
  {
   "cell_type": "code",
   "execution_count": 101,
   "id": "9d8e27f8",
   "metadata": {
    "ExecuteTime": {
     "end_time": "2022-09-02T04:30:02.627327Z",
     "start_time": "2022-09-02T04:30:02.386908Z"
    }
   },
   "outputs": [
    {
     "data": {
      "image/png": "[encoded data removed]",
      "text/plain": [
       "<Figure size 600x400 with 1 Axes>"
      ]
     },
     "metadata": {},
     "output_type": "display_data"
    }
   ],
   "source": [
    "# Check distribution\n",
    "\n",
    "# Create plot\n",
    "plt.figure(figsize=(6,4))\n",
    "sns.boxplot(data=dfa_eda, x='fico_range_avg', palette='pastel')\n",
    "\n",
    "# Set title, label, legend\n",
    "plt.title('Distribution of `fico_range_avg` column')\n",
    "plt.xlabel('Average FICO')\n",
    "\n",
    "# Show plot\n",
    "plt.show()"
   ]
  },
  {
   "cell_type": "markdown",
   "id": "e1d20d0d",
   "metadata": {},
   "source": [
    "There are outliers in the column."
   ]
  },
  {
   "cell_type": "code",
   "execution_count": 102,
   "id": "917d3e69",
   "metadata": {
    "ExecuteTime": {
     "end_time": "2022-09-02T04:30:02.698250Z",
     "start_time": "2022-09-02T04:30:02.629085Z"
    }
   },
   "outputs": [
    {
     "data": {
      "text/plain": [
       "count    2.080283e+06\n",
       "mean     6.994483e+02\n",
       "std      3.224914e+01\n",
       "min      6.620000e+02\n",
       "25%      6.720000e+02\n",
       "50%      6.920000e+02\n",
       "75%      7.170000e+02\n",
       "max      8.475000e+02\n",
       "Name: fico_range_avg, dtype: float64"
      ]
     },
     "execution_count": 102,
     "metadata": {},
     "output_type": "execute_result"
    }
   ],
   "source": [
    "# Check details\n",
    "dfa_eda['fico_range_avg'].describe()"
   ]
  },
  {
   "cell_type": "markdown",
   "id": "9ba85ada",
   "metadata": {},
   "source": [
    "- Lowest FICO score is 662\n",
    "- Highest FICO score is ~847\n",
    "- Mean FICO score is ~700\n",
    "\n",
    "✅ We will keep the `fico_range_avg` column for now."
   ]
  },
  {
   "cell_type": "markdown",
   "id": "eecdfaef",
   "metadata": {},
   "source": [
    "---\n",
    "<a id=\"2.17\"></a>\n",
    "#### 2.17 `open_acc` column"
   ]
  },
  {
   "cell_type": "markdown",
   "id": "bbc01a34",
   "metadata": {},
   "source": [
    "This column shows the number of open credit lines in the borrower's credit file."
   ]
  },
  {
   "cell_type": "code",
   "execution_count": 103,
   "id": "4758ffd2",
   "metadata": {
    "ExecuteTime": {
     "end_time": "2022-09-02T04:30:02.781272Z",
     "start_time": "2022-09-02T04:30:02.699931Z"
    },
    "scrolled": true
   },
   "outputs": [
    {
     "data": {
      "text/plain": [
       "274948     11.0\n",
       "663181     24.0\n",
       "1564726    13.0\n",
       "1786005    13.0\n",
       "790834     36.0\n",
       "Name: open_acc, dtype: float64"
      ]
     },
     "execution_count": 103,
     "metadata": {},
     "output_type": "execute_result"
    }
   ],
   "source": [
    "# Check sample\n",
    "dfa_eda['open_acc'].sample(5)"
   ]
  },
  {
   "cell_type": "markdown",
   "id": "eb4ff2fa",
   "metadata": {},
   "source": [
    "This is a numerical column."
   ]
  },
  {
   "cell_type": "markdown",
   "id": "f15237b6",
   "metadata": {},
   "source": [
    "Let us now try to visualize the data."
   ]
  },
  {
   "cell_type": "code",
   "execution_count": 104,
   "id": "691f0617",
   "metadata": {
    "ExecuteTime": {
     "end_time": "2022-09-02T04:30:07.169365Z",
     "start_time": "2022-09-02T04:30:02.783053Z"
    }
   },
   "outputs": [
    {
     "data": {
      "text/plain": [
       "<Figure size 800x600 with 0 Axes>"
      ]
     },
     "metadata": {},
     "output_type": "display_data"
    },
    {
     "data": {
      "image/png": "[encoded data removed]",
      "text/plain": [
       "<Figure size 500x500 with 1 Axes>"
      ]
     },
     "metadata": {},
     "output_type": "display_data"
    }
   ],
   "source": [
    "# Check distribution\n",
    "\n",
    "# Create plot\n",
    "plt.figure(figsize=(8,6))\n",
    "sns.displot(data=dfa_eda, x='open_acc', bins=20, kde=True, palette='pastel')\n",
    "\n",
    "# Set title, label, legend\n",
    "plt.title('Distribution of `open_acc` column')\n",
    "plt.xlabel('Open Credit Lines')\n",
    "\n",
    "# Show plot\n",
    "plt.show()"
   ]
  },
  {
   "cell_type": "markdown",
   "id": "0ef0daad",
   "metadata": {},
   "source": [
    "The distribution seems to be right-skewed."
   ]
  },
  {
   "cell_type": "code",
   "execution_count": 105,
   "id": "69521137",
   "metadata": {
    "ExecuteTime": {
     "end_time": "2022-09-02T04:30:07.496541Z",
     "start_time": "2022-09-02T04:30:07.171442Z"
    }
   },
   "outputs": [
    {
     "data": {
      "image/png": "[encoded data removed]",
      "text/plain": [
       "<Figure size 600x400 with 1 Axes>"
      ]
     },
     "metadata": {},
     "output_type": "display_data"
    }
   ],
   "source": [
    "# Check distribution\n",
    "\n",
    "# Create plot\n",
    "plt.figure(figsize=(6,4))\n",
    "sns.boxplot(data=dfa_eda, x='open_acc', palette='pastel')\n",
    "\n",
    "# Set title, label, legend\n",
    "plt.title('Distribution of `open_acc` column')\n",
    "plt.xlabel('Open Credit Lines')\n",
    "\n",
    "# Show plot\n",
    "plt.show()"
   ]
  },
  {
   "cell_type": "markdown",
   "id": "621d05a1",
   "metadata": {},
   "source": [
    "There are outliers in the column."
   ]
  },
  {
   "cell_type": "code",
   "execution_count": 106,
   "id": "d70df643",
   "metadata": {
    "ExecuteTime": {
     "end_time": "2022-09-02T04:30:07.565901Z",
     "start_time": "2022-09-02T04:30:07.498223Z"
    }
   },
   "outputs": [
    {
     "data": {
      "text/plain": [
       "count    2.080283e+06\n",
       "mean     1.170050e+01\n",
       "std      5.662138e+00\n",
       "min      0.000000e+00\n",
       "25%      8.000000e+00\n",
       "50%      1.100000e+01\n",
       "75%      1.500000e+01\n",
       "max      1.010000e+02\n",
       "Name: open_acc, dtype: float64"
      ]
     },
     "execution_count": 106,
     "metadata": {},
     "output_type": "execute_result"
    }
   ],
   "source": [
    "# Check details\n",
    "dfa_eda['open_acc'].describe()"
   ]
  },
  {
   "cell_type": "markdown",
   "id": "8e0e8718",
   "metadata": {},
   "source": [
    "- Minimum number of open credit lines is 0\n",
    "- Highest number of open credit lines is 101\n",
    "- Mean number of open credit lines is ~11.7\n",
    "\n",
    "✅ We will keep the `open_acc` column for now."
   ]
  },
  {
   "cell_type": "markdown",
   "id": "21fa7ddf",
   "metadata": {},
   "source": [
    "---\n",
    "<a id=\"2.18\"></a>\n",
    "#### 2.18 `total_acc` column"
   ]
  },
  {
   "cell_type": "markdown",
   "id": "1db82ac7",
   "metadata": {},
   "source": [
    "This column shows the total number of credit lines in the borrower's credit file."
   ]
  },
  {
   "cell_type": "code",
   "execution_count": 107,
   "id": "a3c7e4b1",
   "metadata": {
    "ExecuteTime": {
     "end_time": "2022-09-02T04:30:07.647577Z",
     "start_time": "2022-09-02T04:30:07.567581Z"
    },
    "scrolled": true
   },
   "outputs": [
    {
     "data": {
      "text/plain": [
       "983632     24.0\n",
       "212083     33.0\n",
       "2247408    33.0\n",
       "1313089    53.0\n",
       "983714      7.0\n",
       "Name: total_acc, dtype: float64"
      ]
     },
     "execution_count": 107,
     "metadata": {},
     "output_type": "execute_result"
    }
   ],
   "source": [
    "# Check sample\n",
    "dfa_eda['total_acc'].sample(5)"
   ]
  },
  {
   "cell_type": "markdown",
   "id": "66659822",
   "metadata": {},
   "source": [
    "This is a numerical column."
   ]
  },
  {
   "cell_type": "markdown",
   "id": "14c52b79",
   "metadata": {},
   "source": [
    "Let us now try to visualize the data."
   ]
  },
  {
   "cell_type": "code",
   "execution_count": 108,
   "id": "ee22f743",
   "metadata": {
    "ExecuteTime": {
     "end_time": "2022-09-02T04:30:12.230817Z",
     "start_time": "2022-09-02T04:30:07.649638Z"
    }
   },
   "outputs": [
    {
     "data": {
      "text/plain": [
       "<Figure size 800x600 with 0 Axes>"
      ]
     },
     "metadata": {},
     "output_type": "display_data"
    },
    {
     "data": {
      "image/png": "[encoded data removed]",
      "text/plain": [
       "<Figure size 500x500 with 1 Axes>"
      ]
     },
     "metadata": {},
     "output_type": "display_data"
    }
   ],
   "source": [
    "# Check distribution\n",
    "\n",
    "# Create plot\n",
    "plt.figure(figsize=(8,6))\n",
    "sns.displot(data=dfa_eda, x='total_acc', bins=20, kde=True, palette='pastel')\n",
    "\n",
    "# Set title, label, legend\n",
    "plt.title('Distribution of `total_acc` column')\n",
    "plt.xlabel('Total Credit Lines')\n",
    "\n",
    "# Show plot\n",
    "plt.show()"
   ]
  },
  {
   "cell_type": "markdown",
   "id": "657ba75d",
   "metadata": {},
   "source": [
    "The distribution seems to be right-skewed."
   ]
  },
  {
   "cell_type": "code",
   "execution_count": 109,
   "id": "6dac4784",
   "metadata": {
    "ExecuteTime": {
     "end_time": "2022-09-02T04:30:12.469013Z",
     "start_time": "2022-09-02T04:30:12.233266Z"
    }
   },
   "outputs": [
    {
     "data": {
      "image/png": "[encoded data removed]",
      "text/plain": [
       "<Figure size 600x400 with 1 Axes>"
      ]
     },
     "metadata": {},
     "output_type": "display_data"
    }
   ],
   "source": [
    "# Check distribution\n",
    "\n",
    "# Create plot\n",
    "plt.figure(figsize=(6,4))\n",
    "sns.boxplot(data=dfa_eda, x='total_acc', palette='pastel')\n",
    "\n",
    "# Set title, label, legend\n",
    "plt.title('Distribution of `total_acc` column')\n",
    "plt.xlabel('Total Credit Lines')\n",
    "\n",
    "# Show plot\n",
    "plt.show()"
   ]
  },
  {
   "cell_type": "markdown",
   "id": "2df749a2",
   "metadata": {},
   "source": [
    "There are outliers in the column."
   ]
  },
  {
   "cell_type": "code",
   "execution_count": 110,
   "id": "fee9812d",
   "metadata": {
    "ExecuteTime": {
     "end_time": "2022-09-02T04:30:12.541218Z",
     "start_time": "2022-09-02T04:30:12.470829Z"
    }
   },
   "outputs": [
    {
     "data": {
      "text/plain": [
       "count    2.080283e+06\n",
       "mean     2.430485e+01\n",
       "std      1.202127e+01\n",
       "min      2.000000e+00\n",
       "25%      1.600000e+01\n",
       "50%      2.200000e+01\n",
       "75%      3.100000e+01\n",
       "max      1.760000e+02\n",
       "Name: total_acc, dtype: float64"
      ]
     },
     "execution_count": 110,
     "metadata": {},
     "output_type": "execute_result"
    }
   ],
   "source": [
    "# Check details\n",
    "dfa_eda['total_acc'].describe()"
   ]
  },
  {
   "cell_type": "markdown",
   "id": "9bbb88c2",
   "metadata": {},
   "source": [
    "- Minimum number of total credit lines is 2\n",
    "- Highest number of total credit lines is 176\n",
    "- Mean number of total credit lines is ~24.30\n",
    "\n",
    "✅ We will keep the `total_acc` column for now."
   ]
  },
  {
   "cell_type": "markdown",
   "id": "5272174e",
   "metadata": {},
   "source": [
    "---\n",
    "<a id=\"2.19\"></a>\n",
    "#### 2.19 `disbursement_method` column"
   ]
  },
  {
   "cell_type": "markdown",
   "id": "c9bcf813",
   "metadata": {},
   "source": [
    "This column shows the method by which the borrower receives their loan."
   ]
  },
  {
   "cell_type": "code",
   "execution_count": 111,
   "id": "61c64c70",
   "metadata": {
    "ExecuteTime": {
     "end_time": "2022-09-02T04:30:12.624896Z",
     "start_time": "2022-09-02T04:30:12.543607Z"
    }
   },
   "outputs": [
    {
     "data": {
      "text/plain": [
       "1990213    Cash\n",
       "2203228    Cash\n",
       "2047971    Cash\n",
       "1215365    Cash\n",
       "1405110    Cash\n",
       "Name: disbursement_method, dtype: object"
      ]
     },
     "execution_count": 111,
     "metadata": {},
     "output_type": "execute_result"
    }
   ],
   "source": [
    "# Check sample\n",
    "dfa_eda['disbursement_method'].sample(5)"
   ]
  },
  {
   "cell_type": "markdown",
   "id": "672d49b4",
   "metadata": {},
   "source": [
    "This is a categorical column.\n",
    "\n",
    "Let us check for unique values."
   ]
  },
  {
   "cell_type": "code",
   "execution_count": 112,
   "id": "9f4c423a",
   "metadata": {
    "ExecuteTime": {
     "end_time": "2022-09-02T04:30:12.717810Z",
     "start_time": "2022-09-02T04:30:12.627955Z"
    }
   },
   "outputs": [
    {
     "data": {
      "text/plain": [
       "array(['Cash', 'DirectPay'], dtype=object)"
      ]
     },
     "execution_count": 112,
     "metadata": {},
     "output_type": "execute_result"
    }
   ],
   "source": [
    "# Check for unique values\n",
    "dfa_eda['disbursement_method'].unique()"
   ]
  },
  {
   "cell_type": "markdown",
   "id": "3757ec78",
   "metadata": {},
   "source": [
    "There are two categories of disbursement methods:\n",
    "- Cash\n",
    "- DirectPay"
   ]
  },
  {
   "cell_type": "markdown",
   "id": "8c8d6111",
   "metadata": {},
   "source": [
    "Let us now try to visualize the data."
   ]
  },
  {
   "cell_type": "code",
   "execution_count": 113,
   "id": "9387693f",
   "metadata": {
    "ExecuteTime": {
     "end_time": "2022-09-02T04:30:13.692377Z",
     "start_time": "2022-09-02T04:30:12.719911Z"
    },
    "scrolled": true
   },
   "outputs": [
    {
     "data": {
      "image/png": "[encoded data removed]",
      "text/plain": [
       "<Figure size 600x400 with 1 Axes>"
      ]
     },
     "metadata": {},
     "output_type": "display_data"
    }
   ],
   "source": [
    "# Check distribution\n",
    "\n",
    "# Create plot\n",
    "plt.figure(figsize=(6,4))\n",
    "sns.countplot(data=dfa_eda, x='disbursement_method', palette='pastel')\n",
    "\n",
    "# Set title, label, legend\n",
    "plt.title('Distribution of `disbursement_method` column')\n",
    "plt.xlabel('Disbursement Method')\n",
    "\n",
    "# Show plot\n",
    "plt.show()"
   ]
  },
  {
   "cell_type": "code",
   "execution_count": 114,
   "id": "ba6411d6",
   "metadata": {
    "ExecuteTime": {
     "end_time": "2022-09-02T04:30:13.777969Z",
     "start_time": "2022-09-02T04:30:13.694570Z"
    }
   },
   "outputs": [
    {
     "data": {
      "text/plain": [
       "Cash         2007325\n",
       "DirectPay      72958\n",
       "Name: disbursement_method, dtype: int64"
      ]
     },
     "execution_count": 114,
     "metadata": {},
     "output_type": "execute_result"
    }
   ],
   "source": [
    "# Check counts\n",
    "dfa_eda['disbursement_method'].value_counts()"
   ]
  },
  {
   "cell_type": "markdown",
   "id": "d430c284",
   "metadata": {},
   "source": [
    "✅ We will keep the `disbursement_method` column for now."
   ]
  },
  {
   "cell_type": "markdown",
   "id": "04f3c8ff",
   "metadata": {},
   "source": [
    "---\n",
    "<a id=\"2.20\"></a>\n",
    "#### 2.20 `pub_rec` column"
   ]
  },
  {
   "cell_type": "markdown",
   "id": "895a1875",
   "metadata": {},
   "source": [
    "This column shows the number of derogatory public records."
   ]
  },
  {
   "cell_type": "code",
   "execution_count": 115,
   "id": "03939463",
   "metadata": {
    "ExecuteTime": {
     "end_time": "2022-09-02T04:30:13.859065Z",
     "start_time": "2022-09-02T04:30:13.779773Z"
    }
   },
   "outputs": [
    {
     "data": {
      "text/plain": [
       "2027166    0.0\n",
       "2052310    0.0\n",
       "1107618    0.0\n",
       "1107095    0.0\n",
       "355429     0.0\n",
       "Name: pub_rec, dtype: float64"
      ]
     },
     "execution_count": 115,
     "metadata": {},
     "output_type": "execute_result"
    }
   ],
   "source": [
    "# Check sample\n",
    "dfa_eda['pub_rec'].sample(5)"
   ]
  },
  {
   "cell_type": "markdown",
   "id": "858a1e7e",
   "metadata": {},
   "source": [
    "This is a numerical column."
   ]
  },
  {
   "cell_type": "code",
   "execution_count": 116,
   "id": "be75fada",
   "metadata": {
    "ExecuteTime": {
     "end_time": "2022-09-02T04:30:13.887846Z",
     "start_time": "2022-09-02T04:30:13.861369Z"
    },
    "scrolled": true
   },
   "outputs": [
    {
     "data": {
      "text/plain": [
       "0.0     1742341\n",
       "1.0      286760\n",
       "2.0       33243\n",
       "3.0       10313\n",
       "4.0        3792\n",
       "5.0        1813\n",
       "6.0         920\n",
       "7.0         419\n",
       "8.0         238\n",
       "9.0         140\n",
       "10.0         89\n",
       "11.0         57\n",
       "12.0         35\n",
       "13.0         30\n",
       "15.0         11\n",
       "16.0         11\n",
       "14.0         11\n",
       "19.0          8\n",
       "21.0          6\n",
       "18.0          6\n",
       "17.0          5\n",
       "28.0          4\n",
       "24.0          4\n",
       "22.0          3\n",
       "20.0          3\n",
       "23.0          2\n",
       "49.0          2\n",
       "61.0          2\n",
       "86.0          1\n",
       "37.0          1\n",
       "45.0          1\n",
       "54.0          1\n",
       "34.0          1\n",
       "63.0          1\n",
       "40.0          1\n",
       "44.0          1\n",
       "46.0          1\n",
       "47.0          1\n",
       "31.0          1\n",
       "32.0          1\n",
       "52.0          1\n",
       "26.0          1\n",
       "25.0          1\n",
       "Name: pub_rec, dtype: int64"
      ]
     },
     "execution_count": 116,
     "metadata": {},
     "output_type": "execute_result"
    }
   ],
   "source": [
    "# Check counts\n",
    "dfa_eda['pub_rec'].value_counts()"
   ]
  },
  {
   "cell_type": "code",
   "execution_count": 117,
   "id": "e842bb0b",
   "metadata": {
    "ExecuteTime": {
     "end_time": "2022-09-02T04:30:13.948680Z",
     "start_time": "2022-09-02T04:30:13.889812Z"
    },
    "scrolled": true
   },
   "outputs": [
    {
     "data": {
      "text/plain": [
       "count    2.080283e+06\n",
       "mean     2.041020e-01\n",
       "std      5.835758e-01\n",
       "min      0.000000e+00\n",
       "25%      0.000000e+00\n",
       "50%      0.000000e+00\n",
       "75%      0.000000e+00\n",
       "max      8.600000e+01\n",
       "Name: pub_rec, dtype: float64"
      ]
     },
     "execution_count": 117,
     "metadata": {},
     "output_type": "execute_result"
    }
   ],
   "source": [
    "# Check details\n",
    "dfa_eda['pub_rec'].describe()"
   ]
  },
  {
   "cell_type": "markdown",
   "id": "e004ecd4",
   "metadata": {},
   "source": [
    "- Lowest number of Derogatory Public Records is 0\n",
    "- Highest number of Derogatory Public Records is 86\n",
    "- Mean number of Derogatory Public Records is ~2.04"
   ]
  },
  {
   "cell_type": "markdown",
   "id": "6322e0ac",
   "metadata": {},
   "source": [
    "Looking at the counts, we can try to bin this column. We can bin it into two categories:\n",
    "- 0 Derogatory Public Records\n",
    "- 1+ Derogatory Public Records"
   ]
  },
  {
   "cell_type": "code",
   "execution_count": 118,
   "id": "dab5319c",
   "metadata": {
    "ExecuteTime": {
     "end_time": "2022-09-02T04:30:13.954127Z",
     "start_time": "2022-09-02T04:30:13.951295Z"
    }
   },
   "outputs": [],
   "source": [
    "# Create list of bins\n",
    "pub_rec_bins = [-np.inf, 0, 86]\n",
    "# Create labels for bins\n",
    "pub_rec_labels = ['pub_rec_0_bin', 'pub_rec_1+_bin']"
   ]
  },
  {
   "cell_type": "code",
   "execution_count": 119,
   "id": "39ae2ba7",
   "metadata": {
    "ExecuteTime": {
     "end_time": "2022-09-02T04:30:14.020166Z",
     "start_time": "2022-09-02T04:30:13.955903Z"
    }
   },
   "outputs": [],
   "source": [
    "# Apply binning process to `pub_rec` column and save it in a new column `pub_rec_bin`\n",
    "dfa_eda['pub_rec_bin'] = pd.cut(dfa_eda['pub_rec'], bins=pub_rec_bins, labels=pub_rec_labels)"
   ]
  },
  {
   "cell_type": "code",
   "execution_count": 120,
   "id": "d0a7db54",
   "metadata": {
    "ExecuteTime": {
     "end_time": "2022-09-02T04:30:14.106480Z",
     "start_time": "2022-09-02T04:30:14.022340Z"
    },
    "scrolled": true
   },
   "outputs": [
    {
     "data": {
      "text/plain": [
       "484025      pub_rec_0_bin\n",
       "2024650    pub_rec_1+_bin\n",
       "1883873    pub_rec_1+_bin\n",
       "291115      pub_rec_0_bin\n",
       "1233673    pub_rec_1+_bin\n",
       "Name: pub_rec_bin, dtype: category\n",
       "Categories (2, object): ['pub_rec_0_bin' < 'pub_rec_1+_bin']"
      ]
     },
     "execution_count": 120,
     "metadata": {},
     "output_type": "execute_result"
    }
   ],
   "source": [
    "# Check sample\n",
    "dfa_eda['pub_rec_bin'].sample(5)"
   ]
  },
  {
   "cell_type": "markdown",
   "id": "d23f999e",
   "metadata": {},
   "source": [
    "Binning is successful.\n",
    "\n",
    "Now we can drop the original `pub_rec` column."
   ]
  },
  {
   "cell_type": "code",
   "execution_count": 121,
   "id": "696fca8d",
   "metadata": {
    "ExecuteTime": {
     "end_time": "2022-09-02T04:30:14.339095Z",
     "start_time": "2022-09-02T04:30:14.108840Z"
    }
   },
   "outputs": [],
   "source": [
    "# Drop column\n",
    "dfa_eda.drop(['pub_rec'], axis=1, inplace=True)"
   ]
  },
  {
   "cell_type": "code",
   "execution_count": 122,
   "id": "0f723f82",
   "metadata": {
    "ExecuteTime": {
     "end_time": "2022-09-02T04:30:14.344902Z",
     "start_time": "2022-09-02T04:30:14.341389Z"
    }
   },
   "outputs": [
    {
     "name": "stdout",
     "output_type": "stream",
     "text": [
      "There are 2080283 rows and 18 columns.\n"
     ]
    }
   ],
   "source": [
    "# Check data frame shape\n",
    "print(f'There are {dfa_eda.shape[0]} rows and {dfa_eda.shape[1]} columns.')"
   ]
  },
  {
   "cell_type": "markdown",
   "id": "6c67d3ef",
   "metadata": {},
   "source": [
    "Let us now try to visualize the data."
   ]
  },
  {
   "cell_type": "code",
   "execution_count": 123,
   "id": "db2f75a2",
   "metadata": {
    "ExecuteTime": {
     "end_time": "2022-09-02T04:30:14.510543Z",
     "start_time": "2022-09-02T04:30:14.346938Z"
    }
   },
   "outputs": [
    {
     "data": {
      "image/png": "[encoded data removed]",
      "text/plain": [
       "<Figure size 600x400 with 1 Axes>"
      ]
     },
     "metadata": {},
     "output_type": "display_data"
    }
   ],
   "source": [
    "# Check distribution\n",
    "\n",
    "# Create plot\n",
    "plt.figure(figsize=(6,4))\n",
    "sns.countplot(data=dfa_eda, x='pub_rec_bin', palette='pastel');\n",
    "\n",
    "# Set title, label, legend\n",
    "plt.title('Distribution of `pub_rec_bin` column')\n",
    "plt.xlabel('Derogatory Public Records - Binned Categories')\n",
    "\n",
    "# Show plot\n",
    "plt.show()"
   ]
  },
  {
   "cell_type": "code",
   "execution_count": 124,
   "id": "2bcc071a",
   "metadata": {
    "ExecuteTime": {
     "end_time": "2022-09-02T04:30:14.527914Z",
     "start_time": "2022-09-02T04:30:14.512368Z"
    },
    "scrolled": true
   },
   "outputs": [
    {
     "data": {
      "text/plain": [
       "pub_rec_0_bin     1742341\n",
       "pub_rec_1+_bin     337942\n",
       "Name: pub_rec_bin, dtype: int64"
      ]
     },
     "execution_count": 124,
     "metadata": {},
     "output_type": "execute_result"
    }
   ],
   "source": [
    "# Check counts\n",
    "dfa_eda['pub_rec_bin'].value_counts()"
   ]
  },
  {
   "cell_type": "markdown",
   "id": "030fe23e",
   "metadata": {},
   "source": [
    "✅ We will keep the `pub_rec_bin` column for now."
   ]
  },
  {
   "cell_type": "markdown",
   "id": "438cd1ef",
   "metadata": {},
   "source": [
    "---\n",
    "<a id=\"2.21\"></a>\n",
    "#### 2.21 `pub_rec_bankruptcies` column"
   ]
  },
  {
   "cell_type": "markdown",
   "id": "25b7070c",
   "metadata": {},
   "source": [
    "This column shows the number of public record bankruptcies."
   ]
  },
  {
   "cell_type": "code",
   "execution_count": 125,
   "id": "c10e16b2",
   "metadata": {
    "ExecuteTime": {
     "end_time": "2022-09-02T04:30:14.619662Z",
     "start_time": "2022-09-02T04:30:14.530222Z"
    },
    "scrolled": true
   },
   "outputs": [
    {
     "data": {
      "text/plain": [
       "379672     0.0\n",
       "1608414    0.0\n",
       "2060405    0.0\n",
       "320057     0.0\n",
       "1270436    0.0\n",
       "Name: pub_rec_bankruptcies, dtype: float64"
      ]
     },
     "execution_count": 125,
     "metadata": {},
     "output_type": "execute_result"
    }
   ],
   "source": [
    "# Check sample\n",
    "dfa_eda['pub_rec_bankruptcies'].sample(5)"
   ]
  },
  {
   "cell_type": "markdown",
   "id": "3778bd34",
   "metadata": {},
   "source": [
    "This is a numerical column."
   ]
  },
  {
   "cell_type": "code",
   "execution_count": 126,
   "id": "ca9fff77",
   "metadata": {
    "ExecuteTime": {
     "end_time": "2022-09-02T04:30:14.646706Z",
     "start_time": "2022-09-02T04:30:14.622045Z"
    }
   },
   "outputs": [
    {
     "data": {
      "text/plain": [
       "0.0     1825914\n",
       "1.0      241248\n",
       "2.0       10209\n",
       "3.0        2093\n",
       "4.0         536\n",
       "5.0         187\n",
       "6.0          59\n",
       "7.0          22\n",
       "8.0          10\n",
       "9.0           3\n",
       "11.0          1\n",
       "12.0          1\n",
       "Name: pub_rec_bankruptcies, dtype: int64"
      ]
     },
     "execution_count": 126,
     "metadata": {},
     "output_type": "execute_result"
    }
   ],
   "source": [
    "# Check counts\n",
    "dfa_eda['pub_rec_bankruptcies'].value_counts()"
   ]
  },
  {
   "cell_type": "code",
   "execution_count": 127,
   "id": "78591299",
   "metadata": {
    "ExecuteTime": {
     "end_time": "2022-09-02T04:30:14.705674Z",
     "start_time": "2022-09-02T04:30:14.649115Z"
    },
    "scrolled": true
   },
   "outputs": [
    {
     "data": {
      "text/plain": [
       "count    2.080283e+06\n",
       "mean     1.305890e-01\n",
       "std      3.688649e-01\n",
       "min      0.000000e+00\n",
       "25%      0.000000e+00\n",
       "50%      0.000000e+00\n",
       "75%      0.000000e+00\n",
       "max      1.200000e+01\n",
       "Name: pub_rec_bankruptcies, dtype: float64"
      ]
     },
     "execution_count": 127,
     "metadata": {},
     "output_type": "execute_result"
    }
   ],
   "source": [
    "# Check details\n",
    "dfa_eda['pub_rec_bankruptcies'].describe()"
   ]
  },
  {
   "cell_type": "markdown",
   "id": "7b6cf518",
   "metadata": {},
   "source": [
    "- Lowest number of Public Record Bankruptcies is 0\n",
    "- Highest number of Public Record Bankruptcies is 12\n",
    "- Mean number of Public Record Bankruptcies is ~0.13"
   ]
  },
  {
   "cell_type": "markdown",
   "id": "c76d477d",
   "metadata": {},
   "source": [
    "Looking at the counts, we can try to bin this column. We can bin it into two categories:\n",
    "- 0 Public Record Bankruptcies\n",
    "- 1+ Public Record Bankruptcies"
   ]
  },
  {
   "cell_type": "code",
   "execution_count": 128,
   "id": "f92d5b06",
   "metadata": {
    "ExecuteTime": {
     "end_time": "2022-09-02T04:30:14.712337Z",
     "start_time": "2022-09-02T04:30:14.707936Z"
    }
   },
   "outputs": [],
   "source": [
    "# Create list of bins\n",
    "pub_rec_bankruptcies_bins = [-np.inf, 0, 12]\n",
    "# Create labels for bins\n",
    "pub_rec_bankruptcies_labels = ['pub_rec_bankruptcies_0_bin', 'pub_rec_bankruptcies_1+_bin']"
   ]
  },
  {
   "cell_type": "code",
   "execution_count": 129,
   "id": "a97a775b",
   "metadata": {
    "ExecuteTime": {
     "end_time": "2022-09-02T04:30:14.775707Z",
     "start_time": "2022-09-02T04:30:14.715349Z"
    }
   },
   "outputs": [],
   "source": [
    "# Apply binning process to `pub_rec_bankruptcies` column and save it in a new column `pub_rec_bankruptcies_bin`\n",
    "dfa_eda['pub_rec_bankruptcies_bin'] = pd.cut(dfa_eda['pub_rec_bankruptcies'],\\\n",
    "                                                  bins=pub_rec_bankruptcies_bins,\\\n",
    "                                                  labels=pub_rec_bankruptcies_labels)"
   ]
  },
  {
   "cell_type": "code",
   "execution_count": 130,
   "id": "ceb4b3f6",
   "metadata": {
    "ExecuteTime": {
     "end_time": "2022-09-02T04:30:14.859410Z",
     "start_time": "2022-09-02T04:30:14.777733Z"
    },
    "scrolled": true
   },
   "outputs": [
    {
     "data": {
      "text/plain": [
       "1397038     pub_rec_bankruptcies_0_bin\n",
       "338182     pub_rec_bankruptcies_1+_bin\n",
       "133579      pub_rec_bankruptcies_0_bin\n",
       "262809      pub_rec_bankruptcies_0_bin\n",
       "1229187     pub_rec_bankruptcies_0_bin\n",
       "Name: pub_rec_bankruptcies_bin, dtype: category\n",
       "Categories (2, object): ['pub_rec_bankruptcies_0_bin' < 'pub_rec_bankruptcies_1+_bin']"
      ]
     },
     "execution_count": 130,
     "metadata": {},
     "output_type": "execute_result"
    }
   ],
   "source": [
    "# Check sample\n",
    "dfa_eda['pub_rec_bankruptcies_bin'].sample(5)"
   ]
  },
  {
   "cell_type": "markdown",
   "id": "27f9f633",
   "metadata": {},
   "source": [
    "Binning is successful.\n",
    "\n",
    "Now we can drop the original `pub_rec_bankruptcies` column."
   ]
  },
  {
   "cell_type": "code",
   "execution_count": 131,
   "id": "ccc9de98",
   "metadata": {
    "ExecuteTime": {
     "end_time": "2022-09-02T04:30:15.080819Z",
     "start_time": "2022-09-02T04:30:14.861634Z"
    }
   },
   "outputs": [],
   "source": [
    "# Drop column\n",
    "dfa_eda.drop(['pub_rec_bankruptcies'], axis=1, inplace=True)"
   ]
  },
  {
   "cell_type": "code",
   "execution_count": 132,
   "id": "6381c2f5",
   "metadata": {
    "ExecuteTime": {
     "end_time": "2022-09-02T04:30:15.086313Z",
     "start_time": "2022-09-02T04:30:15.083126Z"
    }
   },
   "outputs": [
    {
     "name": "stdout",
     "output_type": "stream",
     "text": [
      "There are 2080283 rows and 18 columns.\n"
     ]
    }
   ],
   "source": [
    "# Check data frame shape\n",
    "print(f'There are {dfa_eda.shape[0]} rows and {dfa_eda.shape[1]} columns.')"
   ]
  },
  {
   "cell_type": "markdown",
   "id": "13f43903",
   "metadata": {},
   "source": [
    "Let us now try to visualize the data."
   ]
  },
  {
   "cell_type": "code",
   "execution_count": 133,
   "id": "101c7b93",
   "metadata": {
    "ExecuteTime": {
     "end_time": "2022-09-02T04:30:15.247575Z",
     "start_time": "2022-09-02T04:30:15.088256Z"
    }
   },
   "outputs": [
    {
     "data": {
      "image/png": "[encoded data removed]",
      "text/plain": [
       "<Figure size 600x400 with 1 Axes>"
      ]
     },
     "metadata": {},
     "output_type": "display_data"
    }
   ],
   "source": [
    "# Check distribution\n",
    "\n",
    "# Create plot\n",
    "plt.figure(figsize=(6,4))\n",
    "sns.countplot(data=dfa_eda, x='pub_rec_bankruptcies_bin', palette='pastel');\n",
    "\n",
    "# Set title, label, legend\n",
    "plt.title('Distribution of `pub_rec_bankruptcies_bin` column')\n",
    "plt.xlabel('Public Record Bankruptcies - Binned Categories')\n",
    "\n",
    "# Show plot\n",
    "plt.show()"
   ]
  },
  {
   "cell_type": "code",
   "execution_count": 134,
   "id": "179e19be",
   "metadata": {
    "ExecuteTime": {
     "end_time": "2022-09-02T04:30:15.264640Z",
     "start_time": "2022-09-02T04:30:15.249700Z"
    },
    "scrolled": true
   },
   "outputs": [
    {
     "data": {
      "text/plain": [
       "pub_rec_bankruptcies_0_bin     1825914\n",
       "pub_rec_bankruptcies_1+_bin     254369\n",
       "Name: pub_rec_bankruptcies_bin, dtype: int64"
      ]
     },
     "execution_count": 134,
     "metadata": {},
     "output_type": "execute_result"
    }
   ],
   "source": [
    "# Check counts\n",
    "dfa_eda['pub_rec_bankruptcies_bin'].value_counts()"
   ]
  },
  {
   "cell_type": "markdown",
   "id": "791fb827",
   "metadata": {},
   "source": [
    "✅ We will keep the `pub_rec_bankruptcies_bin` column for now."
   ]
  },
  {
   "cell_type": "markdown",
   "id": "7342d336",
   "metadata": {},
   "source": [
    "---\n",
    "<a id=\"2.22\"></a>\n",
    "#### 2.22 `tax_liens` column"
   ]
  },
  {
   "cell_type": "markdown",
   "id": "67d844b9",
   "metadata": {},
   "source": [
    "This column shows the number of tax liens."
   ]
  },
  {
   "cell_type": "code",
   "execution_count": 135,
   "id": "52215405",
   "metadata": {
    "ExecuteTime": {
     "end_time": "2022-09-02T04:30:15.343470Z",
     "start_time": "2022-09-02T04:30:15.267075Z"
    },
    "scrolled": true
   },
   "outputs": [
    {
     "data": {
      "text/plain": [
       "1422371    0.0\n",
       "421599     0.0\n",
       "2168033    0.0\n",
       "2253920    0.0\n",
       "443496     0.0\n",
       "Name: tax_liens, dtype: float64"
      ]
     },
     "execution_count": 135,
     "metadata": {},
     "output_type": "execute_result"
    }
   ],
   "source": [
    "# Check sample\n",
    "dfa_eda['tax_liens'].sample(5)"
   ]
  },
  {
   "cell_type": "markdown",
   "id": "a1321e6e",
   "metadata": {},
   "source": [
    "This is a numerical column."
   ]
  },
  {
   "cell_type": "code",
   "execution_count": 136,
   "id": "9a5c133a",
   "metadata": {
    "ExecuteTime": {
     "end_time": "2022-09-02T04:30:15.371983Z",
     "start_time": "2022-09-02T04:30:15.345728Z"
    }
   },
   "outputs": [
    {
     "data": {
      "text/plain": [
       "0.0     2017217\n",
       "1.0       42554\n",
       "2.0       11883\n",
       "3.0        4344\n",
       "4.0        1966\n",
       "5.0        1014\n",
       "6.0         547\n",
       "7.0         259\n",
       "8.0         156\n",
       "9.0         102\n",
       "10.0         72\n",
       "11.0         40\n",
       "12.0         26\n",
       "13.0         17\n",
       "15.0         14\n",
       "14.0         11\n",
       "17.0          8\n",
       "21.0          6\n",
       "16.0          6\n",
       "18.0          5\n",
       "22.0          5\n",
       "20.0          3\n",
       "19.0          3\n",
       "27.0          3\n",
       "61.0          2\n",
       "45.0          2\n",
       "24.0          2\n",
       "46.0          2\n",
       "29.0          1\n",
       "44.0          1\n",
       "30.0          1\n",
       "52.0          1\n",
       "37.0          1\n",
       "39.0          1\n",
       "63.0          1\n",
       "34.0          1\n",
       "28.0          1\n",
       "25.0          1\n",
       "48.0          1\n",
       "53.0          1\n",
       "23.0          1\n",
       "85.0          1\n",
       "Name: tax_liens, dtype: int64"
      ]
     },
     "execution_count": 136,
     "metadata": {},
     "output_type": "execute_result"
    }
   ],
   "source": [
    "# Check counts\n",
    "dfa_eda['tax_liens'].value_counts()"
   ]
  },
  {
   "cell_type": "code",
   "execution_count": 137,
   "id": "905feebc",
   "metadata": {
    "ExecuteTime": {
     "end_time": "2022-09-02T04:30:15.427738Z",
     "start_time": "2022-09-02T04:30:15.374030Z"
    },
    "scrolled": true
   },
   "outputs": [
    {
     "data": {
      "text/plain": [
       "count    2.080283e+06\n",
       "mean     4.965767e-02\n",
       "std      3.897481e-01\n",
       "min      0.000000e+00\n",
       "25%      0.000000e+00\n",
       "50%      0.000000e+00\n",
       "75%      0.000000e+00\n",
       "max      8.500000e+01\n",
       "Name: tax_liens, dtype: float64"
      ]
     },
     "execution_count": 137,
     "metadata": {},
     "output_type": "execute_result"
    }
   ],
   "source": [
    "# Check details\n",
    "dfa_eda['tax_liens'].describe()"
   ]
  },
  {
   "cell_type": "markdown",
   "id": "47c18e11",
   "metadata": {},
   "source": [
    "- Lowest number of tax liens is 0\n",
    "- Highest number of tax liens is 85\n",
    "- Mean number of tax liens is ~0.05"
   ]
  },
  {
   "cell_type": "markdown",
   "id": "03558dd7",
   "metadata": {},
   "source": [
    "Looking at the counts, we can try to bin this column. We can bin it into two categories:\n",
    "- 0 Tax Liens\n",
    "- 1+ Tax Liens"
   ]
  },
  {
   "cell_type": "code",
   "execution_count": 138,
   "id": "e6ef0b2f",
   "metadata": {
    "ExecuteTime": {
     "end_time": "2022-09-02T04:30:15.433161Z",
     "start_time": "2022-09-02T04:30:15.430143Z"
    }
   },
   "outputs": [],
   "source": [
    "# Create list of bins\n",
    "tax_liens_bins = [-np.inf, 0, 85]\n",
    "# Create labels for bins\n",
    "tax_liens_labels = ['tax_liens_0_bin', 'tax_liens_1+_bin']"
   ]
  },
  {
   "cell_type": "code",
   "execution_count": 139,
   "id": "cad8793a",
   "metadata": {
    "ExecuteTime": {
     "end_time": "2022-09-02T04:30:15.488373Z",
     "start_time": "2022-09-02T04:30:15.435431Z"
    }
   },
   "outputs": [],
   "source": [
    "# Apply binning process to `tax_liens` column and save it in a new column `tax_liens_bin`\n",
    "dfa_eda['tax_liens_bin'] = pd.cut(dfa_eda['tax_liens'],\\\n",
    "                                    bins=tax_liens_bins,\\\n",
    "                                    labels=tax_liens_labels)"
   ]
  },
  {
   "cell_type": "code",
   "execution_count": 140,
   "id": "c5587d83",
   "metadata": {
    "ExecuteTime": {
     "end_time": "2022-09-02T04:30:15.573959Z",
     "start_time": "2022-09-02T04:30:15.490716Z"
    },
    "scrolled": true
   },
   "outputs": [
    {
     "data": {
      "text/plain": [
       "259745     tax_liens_0_bin\n",
       "1193802    tax_liens_0_bin\n",
       "477728     tax_liens_0_bin\n",
       "821385     tax_liens_0_bin\n",
       "987751     tax_liens_0_bin\n",
       "Name: tax_liens_bin, dtype: category\n",
       "Categories (2, object): ['tax_liens_0_bin' < 'tax_liens_1+_bin']"
      ]
     },
     "execution_count": 140,
     "metadata": {},
     "output_type": "execute_result"
    }
   ],
   "source": [
    "# Check sample\n",
    "dfa_eda['tax_liens_bin'].sample(5)"
   ]
  },
  {
   "cell_type": "markdown",
   "id": "90ffd3a5",
   "metadata": {},
   "source": [
    "Binning is successful.\n",
    "\n",
    "Now we can drop the original `tax_liens` column."
   ]
  },
  {
   "cell_type": "code",
   "execution_count": 141,
   "id": "0e3b6f9a",
   "metadata": {
    "ExecuteTime": {
     "end_time": "2022-09-02T04:30:15.786450Z",
     "start_time": "2022-09-02T04:30:15.577096Z"
    }
   },
   "outputs": [],
   "source": [
    "# Drop column\n",
    "dfa_eda.drop(['tax_liens'], axis=1, inplace=True)"
   ]
  },
  {
   "cell_type": "code",
   "execution_count": 142,
   "id": "4d68de27",
   "metadata": {
    "ExecuteTime": {
     "end_time": "2022-09-02T04:30:15.792820Z",
     "start_time": "2022-09-02T04:30:15.788605Z"
    }
   },
   "outputs": [
    {
     "name": "stdout",
     "output_type": "stream",
     "text": [
      "There are 2080283 rows and 18 columns.\n"
     ]
    }
   ],
   "source": [
    "# Check data frame shape\n",
    "print(f'There are {dfa_eda.shape[0]} rows and {dfa_eda.shape[1]} columns.')"
   ]
  },
  {
   "cell_type": "markdown",
   "id": "43a90297",
   "metadata": {},
   "source": [
    "Let us now try to visualize the data."
   ]
  },
  {
   "cell_type": "code",
   "execution_count": 143,
   "id": "e8729d81",
   "metadata": {
    "ExecuteTime": {
     "end_time": "2022-09-02T04:30:15.952882Z",
     "start_time": "2022-09-02T04:30:15.795550Z"
    }
   },
   "outputs": [
    {
     "data": {
      "image/png": "[encoded data removed]",
      "text/plain": [
       "<Figure size 600x400 with 1 Axes>"
      ]
     },
     "metadata": {},
     "output_type": "display_data"
    }
   ],
   "source": [
    "# Check distribution\n",
    "\n",
    "# Create plot\n",
    "plt.figure(figsize=(6,4))\n",
    "sns.countplot(data=dfa_eda, x='tax_liens_bin', palette='pastel');\n",
    "\n",
    "# Set title, label, legend\n",
    "plt.title('Distribution of `tax_liens_bin` column')\n",
    "plt.xlabel('Tax Liens - Binned Categories')\n",
    "\n",
    "# Show plot\n",
    "plt.show()"
   ]
  },
  {
   "cell_type": "code",
   "execution_count": 144,
   "id": "0f37a594",
   "metadata": {
    "ExecuteTime": {
     "end_time": "2022-09-02T04:30:15.970645Z",
     "start_time": "2022-09-02T04:30:15.954533Z"
    },
    "scrolled": true
   },
   "outputs": [
    {
     "data": {
      "text/plain": [
       "tax_liens_0_bin     2017217\n",
       "tax_liens_1+_bin      63066\n",
       "Name: tax_liens_bin, dtype: int64"
      ]
     },
     "execution_count": 144,
     "metadata": {},
     "output_type": "execute_result"
    }
   ],
   "source": [
    "# Check counts\n",
    "dfa_eda['tax_liens_bin'].value_counts()"
   ]
  },
  {
   "cell_type": "markdown",
   "id": "6156f129",
   "metadata": {},
   "source": [
    "✅ We will keep the `tax_liens_bin` column for now."
   ]
  },
  {
   "cell_type": "markdown",
   "id": "21d74634",
   "metadata": {},
   "source": [
    "---\n",
    "<a id=\"3\"></a>\n",
    "### 3. Data Export"
   ]
  },
  {
   "cell_type": "code",
   "execution_count": 145,
   "id": "7f5b2cb6",
   "metadata": {
    "ExecuteTime": {
     "end_time": "2022-09-02T04:41:31.766527Z",
     "start_time": "2022-09-02T04:41:31.763462Z"
    }
   },
   "outputs": [
    {
     "name": "stdout",
     "output_type": "stream",
     "text": [
      "There are 2080283 rows and 18 columns.\n"
     ]
    }
   ],
   "source": [
    "# Check data frame shape\n",
    "print(f'There are {dfa_eda.shape[0]} rows and {dfa_eda.shape[1]} columns.')"
   ]
  },
  {
   "cell_type": "markdown",
   "id": "d38d4b1e",
   "metadata": {},
   "source": [
    "We will make a copy of the modified `dfa_eda` data frame and save it as a new data frame `dfa_prep` for use in the next Jupyter notebook (3_Model_Prep).\n",
    "\n",
    "We will then delete the `dfa_eda` data frame."
   ]
  },
  {
   "cell_type": "code",
   "execution_count": 146,
   "id": "1fd800cf",
   "metadata": {
    "ExecuteTime": {
     "end_time": "2022-09-02T04:41:33.246940Z",
     "start_time": "2022-09-02T04:41:33.112985Z"
    }
   },
   "outputs": [],
   "source": [
    "# Make copy of data frame\n",
    "dfa_prep = dfa_eda.copy(deep=True)"
   ]
  },
  {
   "cell_type": "code",
   "execution_count": 147,
   "id": "420a3f45",
   "metadata": {
    "ExecuteTime": {
     "end_time": "2022-09-02T04:41:36.581371Z",
     "start_time": "2022-09-02T04:41:36.578266Z"
    }
   },
   "outputs": [
    {
     "name": "stdout",
     "output_type": "stream",
     "text": [
      "There are 2080283 rows and 18 columns.\n"
     ]
    }
   ],
   "source": [
    "# Check data frame shape\n",
    "print(f'There are {dfa_prep.shape[0]} rows and {dfa_prep.shape[1]} columns.')"
   ]
  },
  {
   "cell_type": "markdown",
   "id": "8c802233",
   "metadata": {},
   "source": [
    "The data frame shapes match.\n",
    "\n",
    "We can now delete the `dfa_eda` data frame."
   ]
  },
  {
   "cell_type": "code",
   "execution_count": 148,
   "id": "848e4366",
   "metadata": {
    "ExecuteTime": {
     "end_time": "2022-09-02T04:41:40.175222Z",
     "start_time": "2022-09-02T04:41:40.133479Z"
    }
   },
   "outputs": [],
   "source": [
    "# Delete data frame\n",
    "del dfa_eda"
   ]
  },
  {
   "cell_type": "code",
   "execution_count": 149,
   "id": "c7085ea8",
   "metadata": {
    "ExecuteTime": {
     "end_time": "2022-09-02T04:41:42.478516Z",
     "start_time": "2022-09-02T04:41:41.334210Z"
    }
   },
   "outputs": [
    {
     "data": {
      "text/plain": [
       "['data/dfa_prep.pkl']"
      ]
     },
     "execution_count": 149,
     "metadata": {},
     "output_type": "execute_result"
    }
   ],
   "source": [
    "# Export data frame\n",
    "joblib.dump(dfa_prep, 'data/dfa_prep.pkl')"
   ]
  },
  {
   "cell_type": "markdown",
   "id": "8437c71c",
   "metadata": {},
   "source": [
    "In the next Jupyter notebook (3_Model_Prep), we will perform final checks and prepare the `dfa_prep` data frame for machine learning models."
   ]
  },
  {
   "cell_type": "markdown",
   "id": "0a9d30b6",
   "metadata": {},
   "source": [
    "**THE END**"
   ]
  }
 ],
 "metadata": {
  "instance_type": "ml.m5.xlarge",
  "kernelspec": {
   "display_name": "Python 3 (ipykernel)",
   "language": "python",
   "name": "python3"
  },
  "language_info": {
   "codemirror_mode": {
    "name": "ipython",
    "version": 3
   },
   "file_extension": ".py",
   "mimetype": "text/x-python",
   "name": "python",
   "nbconvert_exporter": "python",
   "pygments_lexer": "ipython3",
   "version": "3.9.13"
  },
  "toc": {
   "base_numbering": 1,
   "nav_menu": {},
   "number_sections": false,
   "sideBar": true,
   "skip_h1_title": false,
   "title_cell": "Table of Contents",
   "title_sidebar": "Contents",
   "toc_cell": false,
   "toc_position": {
    "height": "729px",
    "left": "10px",
    "top": "150px",
    "width": "351px"
   },
   "toc_section_display": true,
   "toc_window_display": false
  },
  "varInspector": {
   "cols": {
    "lenName": 16,
    "lenType": 16,
    "lenVar": 40
   },
   "kernels_config": {
    "python": {
     "delete_cmd_postfix": "",
     "delete_cmd_prefix": "del ",
     "library": "var_list.py",
     "varRefreshCmd": "print(var_dic_list())"
    },
    "r": {
     "delete_cmd_postfix": ") ",
     "delete_cmd_prefix": "rm(",
     "library": "var_list.r",
     "varRefreshCmd": "cat(var_dic_list()) "
    }
   },
   "types_to_exclude": [
    "module",
    "function",
    "builtin_function_or_method",
    "instance",
    "_Feature"
   ],
   "window_display": false
  },
  "vscode": {
   "interpreter": {
    "hash": "089d9d49280484a2a0b42a0d1183c3ae8c0e8258e640806db4943d112fcdf703"
   }
  }
 },
 "nbformat": 4,
 "nbformat_minor": 5
}
